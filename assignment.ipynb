{
 "cells": [
  {
   "cell_type": "markdown",
   "id": "99f9b369",
   "metadata": {},
   "source": [
    "# Predicting Chess Game Outcomes"
   ]
  },
  {
   "cell_type": "markdown",
   "id": "ec065bc6",
   "metadata": {},
   "source": [
    "## Data Loading and Exploration"
   ]
  },
  {
   "cell_type": "code",
   "execution_count": 1,
   "id": "8a00f9b0",
   "metadata": {},
   "outputs": [],
   "source": [
    "# Load the libraries\n",
    "import pandas as pd\n",
    "import matplotlib.pyplot as plt\n",
    "import seaborn as sns\n",
    "import warnings\n",
    "from sklearn.preprocessing import StandardScaler\n",
    "from sklearn.model_selection import train_test_split\n",
    "warnings.filterwarnings('ignore')\n",
    "import torch\n",
    "from torch.utils.data import Dataset, DataLoader\n",
    "import torch.nn as nn\n",
    "import torch.optim  as optim\n",
    "import numpy as np\n",
    "import optuna\n",
    "from optuna.samplers import GridSampler"
   ]
  },
  {
   "cell_type": "code",
   "execution_count": null,
   "id": "b6351132",
   "metadata": {},
   "outputs": [
    {
     "name": "stdout",
     "output_type": "stream",
     "text": [
      "Using cpu for processing\n"
     ]
    }
   ],
   "source": [
    "#Select GPu if available for processing\n",
    "\n",
    "device=torch.device('cuda' if torch.cuda.is_available() else 'cpu')\n",
    "\n",
    "print(f'Using {device} for processing')\n",
    "\n"
   ]
  },
  {
   "cell_type": "code",
   "execution_count": 3,
   "id": "b8370aaa",
   "metadata": {},
   "outputs": [],
   "source": [
    "# Load the csv file\n",
    "df = pd.read_csv('matmob_data_sample.csv')"
   ]
  },
  {
   "cell_type": "code",
   "execution_count": 4,
   "id": "32fe77ca",
   "metadata": {},
   "outputs": [
    {
     "data": {
      "text/plain": [
       "(100000, 16)"
      ]
     },
     "execution_count": 4,
     "metadata": {},
     "output_type": "execute_result"
    }
   ],
   "source": [
    "#Print shape and one example row\n",
    "df.shape"
   ]
  },
  {
   "cell_type": "code",
   "execution_count": 5,
   "id": "a181de92",
   "metadata": {},
   "outputs": [
    {
     "data": {
      "text/html": [
       "<div>\n",
       "<style scoped>\n",
       "    .dataframe tbody tr th:only-of-type {\n",
       "        vertical-align: middle;\n",
       "    }\n",
       "\n",
       "    .dataframe tbody tr th {\n",
       "        vertical-align: top;\n",
       "    }\n",
       "\n",
       "    .dataframe thead th {\n",
       "        text-align: right;\n",
       "    }\n",
       "</style>\n",
       "<table border=\"1\" class=\"dataframe\">\n",
       "  <thead>\n",
       "    <tr style=\"text-align: right;\">\n",
       "      <th></th>\n",
       "      <th>w.mat.mean</th>\n",
       "      <th>w.mat.sd</th>\n",
       "      <th>b.mat.mean</th>\n",
       "      <th>b.mat.sd</th>\n",
       "      <th>w.mob.mean</th>\n",
       "      <th>w.mob.sd</th>\n",
       "      <th>b.mob.mean</th>\n",
       "      <th>b.mob.sd</th>\n",
       "      <th>result</th>\n",
       "      <th>valid.games.row</th>\n",
       "      <th>w.mat.vector</th>\n",
       "      <th>b.mat.vector</th>\n",
       "      <th>w.mob.vector</th>\n",
       "      <th>b.mob.vector</th>\n",
       "      <th>pgn</th>\n",
       "      <th>half.moves</th>\n",
       "    </tr>\n",
       "  </thead>\n",
       "  <tbody>\n",
       "    <tr>\n",
       "      <th>0</th>\n",
       "      <td>28.166667</td>\n",
       "      <td>8.850414</td>\n",
       "      <td>28.135417</td>\n",
       "      <td>9.671031</td>\n",
       "      <td>39.3125</td>\n",
       "      <td>12.951885</td>\n",
       "      <td>27.125</td>\n",
       "      <td>11.296064</td>\n",
       "      <td>1-0</td>\n",
       "      <td>1343406</td>\n",
       "      <td>39, 39, 39, 39, 39, 39, 39, 39, 38, 38, 38, 38...</td>\n",
       "      <td>39, 39, 39, 39, 39, 39, 39, 38, 38, 38, 38, 38...</td>\n",
       "      <td>20, 28, 30, 32, 30, 40, 40, 45, 49, 47, 49, 51...</td>\n",
       "      <td>20, 22, 28, 34, 34, 35, 31, 32, 33, 30, 30, 28...</td>\n",
       "      <td>1.d4 Nf6 2.c4 e6 3.Nf3 d5 4.cxd5 exd5 5.Qc2 Be...</td>\n",
       "      <td>95</td>\n",
       "    </tr>\n",
       "  </tbody>\n",
       "</table>\n",
       "</div>"
      ],
      "text/plain": [
       "   w.mat.mean  w.mat.sd  b.mat.mean  b.mat.sd  w.mob.mean   w.mob.sd  \\\n",
       "0   28.166667  8.850414   28.135417  9.671031     39.3125  12.951885   \n",
       "\n",
       "   b.mob.mean   b.mob.sd result  valid.games.row  \\\n",
       "0      27.125  11.296064    1-0          1343406   \n",
       "\n",
       "                                        w.mat.vector  \\\n",
       "0  39, 39, 39, 39, 39, 39, 39, 39, 38, 38, 38, 38...   \n",
       "\n",
       "                                        b.mat.vector  \\\n",
       "0  39, 39, 39, 39, 39, 39, 39, 38, 38, 38, 38, 38...   \n",
       "\n",
       "                                        w.mob.vector  \\\n",
       "0  20, 28, 30, 32, 30, 40, 40, 45, 49, 47, 49, 51...   \n",
       "\n",
       "                                        b.mob.vector  \\\n",
       "0  20, 22, 28, 34, 34, 35, 31, 32, 33, 30, 30, 28...   \n",
       "\n",
       "                                                 pgn  half.moves  \n",
       "0  1.d4 Nf6 2.c4 e6 3.Nf3 d5 4.cxd5 exd5 5.Qc2 Be...          95  "
      ]
     },
     "execution_count": 5,
     "metadata": {},
     "output_type": "execute_result"
    }
   ],
   "source": [
    "df.head(1)"
   ]
  },
  {
   "cell_type": "code",
   "execution_count": 6,
   "id": "ad82fbf1",
   "metadata": {},
   "outputs": [
    {
     "data": {
      "text/html": [
       "<div>\n",
       "<style scoped>\n",
       "    .dataframe tbody tr th:only-of-type {\n",
       "        vertical-align: middle;\n",
       "    }\n",
       "\n",
       "    .dataframe tbody tr th {\n",
       "        vertical-align: top;\n",
       "    }\n",
       "\n",
       "    .dataframe thead th {\n",
       "        text-align: right;\n",
       "    }\n",
       "</style>\n",
       "<table border=\"1\" class=\"dataframe\">\n",
       "  <thead>\n",
       "    <tr style=\"text-align: right;\">\n",
       "      <th></th>\n",
       "      <th>w.mat.mean</th>\n",
       "      <th>w.mat.sd</th>\n",
       "      <th>b.mat.mean</th>\n",
       "      <th>b.mat.sd</th>\n",
       "      <th>w.mob.mean</th>\n",
       "      <th>w.mob.sd</th>\n",
       "      <th>b.mob.mean</th>\n",
       "      <th>b.mob.sd</th>\n",
       "      <th>valid.games.row</th>\n",
       "      <th>half.moves</th>\n",
       "    </tr>\n",
       "  </thead>\n",
       "  <tbody>\n",
       "    <tr>\n",
       "      <th>count</th>\n",
       "      <td>100000.000000</td>\n",
       "      <td>100000.000000</td>\n",
       "      <td>100000.000000</td>\n",
       "      <td>100000.000000</td>\n",
       "      <td>100000.000000</td>\n",
       "      <td>100000.000000</td>\n",
       "      <td>100000.000000</td>\n",
       "      <td>100000.000000</td>\n",
       "      <td>1.000000e+05</td>\n",
       "      <td>100000.000000</td>\n",
       "    </tr>\n",
       "    <tr>\n",
       "      <th>mean</th>\n",
       "      <td>29.471540</td>\n",
       "      <td>7.518266</td>\n",
       "      <td>29.456648</td>\n",
       "      <td>7.556172</td>\n",
       "      <td>33.083914</td>\n",
       "      <td>9.300182</td>\n",
       "      <td>30.808188</td>\n",
       "      <td>8.824375</td>\n",
       "      <td>8.475512e+05</td>\n",
       "      <td>80.524530</td>\n",
       "    </tr>\n",
       "    <tr>\n",
       "      <th>std</th>\n",
       "      <td>5.700711</td>\n",
       "      <td>3.590136</td>\n",
       "      <td>5.722296</td>\n",
       "      <td>3.608866</td>\n",
       "      <td>4.899840</td>\n",
       "      <td>2.659605</td>\n",
       "      <td>4.488267</td>\n",
       "      <td>2.583139</td>\n",
       "      <td>4.892308e+05</td>\n",
       "      <td>33.794235</td>\n",
       "    </tr>\n",
       "    <tr>\n",
       "      <th>min</th>\n",
       "      <td>7.768683</td>\n",
       "      <td>0.000000</td>\n",
       "      <td>9.127049</td>\n",
       "      <td>0.000000</td>\n",
       "      <td>11.312500</td>\n",
       "      <td>1.707825</td>\n",
       "      <td>12.272727</td>\n",
       "      <td>2.387467</td>\n",
       "      <td>7.000000e+00</td>\n",
       "      <td>6.000000</td>\n",
       "    </tr>\n",
       "    <tr>\n",
       "      <th>25%</th>\n",
       "      <td>25.206546</td>\n",
       "      <td>4.674827</td>\n",
       "      <td>25.148607</td>\n",
       "      <td>4.691699</td>\n",
       "      <td>29.653061</td>\n",
       "      <td>7.244109</td>\n",
       "      <td>27.731616</td>\n",
       "      <td>6.879109</td>\n",
       "      <td>4.246160e+05</td>\n",
       "      <td>58.000000</td>\n",
       "    </tr>\n",
       "    <tr>\n",
       "      <th>50%</th>\n",
       "      <td>30.317267</td>\n",
       "      <td>7.677324</td>\n",
       "      <td>30.308824</td>\n",
       "      <td>7.716147</td>\n",
       "      <td>33.390244</td>\n",
       "      <td>9.153638</td>\n",
       "      <td>31.000000</td>\n",
       "      <td>8.740191</td>\n",
       "      <td>8.492815e+05</td>\n",
       "      <td>77.000000</td>\n",
       "    </tr>\n",
       "    <tr>\n",
       "      <th>75%</th>\n",
       "      <td>34.000000</td>\n",
       "      <td>10.550320</td>\n",
       "      <td>34.017938</td>\n",
       "      <td>10.608270</td>\n",
       "      <td>36.700000</td>\n",
       "      <td>11.164435</td>\n",
       "      <td>33.978723</td>\n",
       "      <td>10.618308</td>\n",
       "      <td>1.268899e+06</td>\n",
       "      <td>100.000000</td>\n",
       "    </tr>\n",
       "    <tr>\n",
       "      <th>max</th>\n",
       "      <td>39.000000</td>\n",
       "      <td>16.043718</td>\n",
       "      <td>39.000000</td>\n",
       "      <td>16.394856</td>\n",
       "      <td>50.842105</td>\n",
       "      <td>21.449271</td>\n",
       "      <td>48.250000</td>\n",
       "      <td>20.940381</td>\n",
       "      <td>1.696627e+06</td>\n",
       "      <td>369.000000</td>\n",
       "    </tr>\n",
       "  </tbody>\n",
       "</table>\n",
       "</div>"
      ],
      "text/plain": [
       "          w.mat.mean       w.mat.sd     b.mat.mean       b.mat.sd  \\\n",
       "count  100000.000000  100000.000000  100000.000000  100000.000000   \n",
       "mean       29.471540       7.518266      29.456648       7.556172   \n",
       "std         5.700711       3.590136       5.722296       3.608866   \n",
       "min         7.768683       0.000000       9.127049       0.000000   \n",
       "25%        25.206546       4.674827      25.148607       4.691699   \n",
       "50%        30.317267       7.677324      30.308824       7.716147   \n",
       "75%        34.000000      10.550320      34.017938      10.608270   \n",
       "max        39.000000      16.043718      39.000000      16.394856   \n",
       "\n",
       "          w.mob.mean       w.mob.sd     b.mob.mean       b.mob.sd  \\\n",
       "count  100000.000000  100000.000000  100000.000000  100000.000000   \n",
       "mean       33.083914       9.300182      30.808188       8.824375   \n",
       "std         4.899840       2.659605       4.488267       2.583139   \n",
       "min        11.312500       1.707825      12.272727       2.387467   \n",
       "25%        29.653061       7.244109      27.731616       6.879109   \n",
       "50%        33.390244       9.153638      31.000000       8.740191   \n",
       "75%        36.700000      11.164435      33.978723      10.618308   \n",
       "max        50.842105      21.449271      48.250000      20.940381   \n",
       "\n",
       "       valid.games.row     half.moves  \n",
       "count     1.000000e+05  100000.000000  \n",
       "mean      8.475512e+05      80.524530  \n",
       "std       4.892308e+05      33.794235  \n",
       "min       7.000000e+00       6.000000  \n",
       "25%       4.246160e+05      58.000000  \n",
       "50%       8.492815e+05      77.000000  \n",
       "75%       1.268899e+06     100.000000  \n",
       "max       1.696627e+06     369.000000  "
      ]
     },
     "execution_count": 6,
     "metadata": {},
     "output_type": "execute_result"
    }
   ],
   "source": [
    "df.describe()"
   ]
  },
  {
   "cell_type": "code",
   "execution_count": 7,
   "id": "f796a2f4",
   "metadata": {},
   "outputs": [
    {
     "data": {
      "text/plain": [
       "w.mat.mean         float64\n",
       "w.mat.sd           float64\n",
       "b.mat.mean         float64\n",
       "b.mat.sd           float64\n",
       "w.mob.mean         float64\n",
       "w.mob.sd           float64\n",
       "b.mob.mean         float64\n",
       "b.mob.sd           float64\n",
       "result              object\n",
       "valid.games.row      int64\n",
       "w.mat.vector        object\n",
       "b.mat.vector        object\n",
       "w.mob.vector        object\n",
       "b.mob.vector        object\n",
       "pgn                 object\n",
       "half.moves           int64\n",
       "dtype: object"
      ]
     },
     "execution_count": 7,
     "metadata": {},
     "output_type": "execute_result"
    }
   ],
   "source": [
    "df.dtypes"
   ]
  },
  {
   "cell_type": "code",
   "execution_count": 8,
   "id": "eba23078",
   "metadata": {},
   "outputs": [
    {
     "data": {
      "text/plain": [
       "result\n",
       "1-0        36485\n",
       "1/2-1/2    35810\n",
       "0-1        27705\n",
       "Name: count, dtype: int64"
      ]
     },
     "execution_count": 8,
     "metadata": {},
     "output_type": "execute_result"
    }
   ],
   "source": [
    "#Distribution of the result variable using value_counts()\n",
    "df['result'].value_counts()"
   ]
  },
  {
   "cell_type": "code",
   "execution_count": 9,
   "id": "40cd370a",
   "metadata": {},
   "outputs": [
    {
     "data": {
      "image/png": "[encoded data removed]",
      "text/plain": [
       "<Figure size 800x500 with 1 Axes>"
      ]
     },
     "metadata": {},
     "output_type": "display_data"
    }
   ],
   "source": [
    "#A labeled bar chart of the result distribution\n",
    "\n",
    "\n",
    "plt.figure(figsize=(8, 5))\n",
    "\n",
    "data=df['result'].value_counts().index\n",
    "values=list(df['result'].value_counts())\n",
    "ax = sns.barplot(x=data,y=values,palette='pastel', edgecolor='black')\n",
    "\n",
    "# Add labels on top of bars\n",
    "for i, row in enumerate(data):\n",
    "    ax.text(i, float(values[i])+ 0.1, values[i], ha='center', va='bottom')\n",
    "\n",
    "# Titles and labels\n",
    "plt.title('Result Distribution')\n",
    "plt.xlabel('Result')\n",
    "plt.ylabel('Count')\n",
    "plt.tight_layout()\n",
    "plt.show()"
   ]
  },
  {
   "cell_type": "markdown",
   "id": "37bdfcc8",
   "metadata": {},
   "source": [
    "## Data Preparation"
   ]
  },
  {
   "cell_type": "code",
   "execution_count": 10,
   "id": "c5237225",
   "metadata": {},
   "outputs": [
    {
     "data": {
      "text/html": [
       "<div>\n",
       "<style scoped>\n",
       "    .dataframe tbody tr th:only-of-type {\n",
       "        vertical-align: middle;\n",
       "    }\n",
       "\n",
       "    .dataframe tbody tr th {\n",
       "        vertical-align: top;\n",
       "    }\n",
       "\n",
       "    .dataframe thead th {\n",
       "        text-align: right;\n",
       "    }\n",
       "</style>\n",
       "<table border=\"1\" class=\"dataframe\">\n",
       "  <thead>\n",
       "    <tr style=\"text-align: right;\">\n",
       "      <th></th>\n",
       "      <th>w.mat.mean</th>\n",
       "      <th>b.mat.mean</th>\n",
       "      <th>w.mob.mean</th>\n",
       "      <th>b.mob.mean</th>\n",
       "      <th>half.moves</th>\n",
       "      <th>result</th>\n",
       "    </tr>\n",
       "  </thead>\n",
       "  <tbody>\n",
       "    <tr>\n",
       "      <th>0</th>\n",
       "      <td>28.166667</td>\n",
       "      <td>28.135417</td>\n",
       "      <td>39.312500</td>\n",
       "      <td>27.125000</td>\n",
       "      <td>95</td>\n",
       "      <td>1-0</td>\n",
       "    </tr>\n",
       "    <tr>\n",
       "      <th>1</th>\n",
       "      <td>33.851852</td>\n",
       "      <td>33.703704</td>\n",
       "      <td>37.185185</td>\n",
       "      <td>33.074074</td>\n",
       "      <td>53</td>\n",
       "      <td>1-0</td>\n",
       "    </tr>\n",
       "    <tr>\n",
       "      <th>2</th>\n",
       "      <td>31.301587</td>\n",
       "      <td>31.920635</td>\n",
       "      <td>32.625000</td>\n",
       "      <td>37.451613</td>\n",
       "      <td>62</td>\n",
       "      <td>0-1</td>\n",
       "    </tr>\n",
       "    <tr>\n",
       "      <th>3</th>\n",
       "      <td>21.878261</td>\n",
       "      <td>23.260870</td>\n",
       "      <td>27.172414</td>\n",
       "      <td>32.035088</td>\n",
       "      <td>114</td>\n",
       "      <td>0-1</td>\n",
       "    </tr>\n",
       "    <tr>\n",
       "      <th>4</th>\n",
       "      <td>34.775510</td>\n",
       "      <td>34.959184</td>\n",
       "      <td>41.040000</td>\n",
       "      <td>32.958333</td>\n",
       "      <td>48</td>\n",
       "      <td>1/2-1/2</td>\n",
       "    </tr>\n",
       "  </tbody>\n",
       "</table>\n",
       "</div>"
      ],
      "text/plain": [
       "   w.mat.mean  b.mat.mean  w.mob.mean  b.mob.mean  half.moves   result\n",
       "0   28.166667   28.135417   39.312500   27.125000          95      1-0\n",
       "1   33.851852   33.703704   37.185185   33.074074          53      1-0\n",
       "2   31.301587   31.920635   32.625000   37.451613          62      0-1\n",
       "3   21.878261   23.260870   27.172414   32.035088         114      0-1\n",
       "4   34.775510   34.959184   41.040000   32.958333          48  1/2-1/2"
      ]
     },
     "execution_count": 10,
     "metadata": {},
     "output_type": "execute_result"
    }
   ],
   "source": [
    "#Retain only the following 6 columns\n",
    "new_df=df[['w.mat.mean', 'b.mat.mean', 'w.mob.mean', 'b.mob.mean', 'half.moves', 'result']].copy()\n",
    "\n",
    "new_df.head()"
   ]
  },
  {
   "cell_type": "code",
   "execution_count": 11,
   "id": "30c4fd10",
   "metadata": {},
   "outputs": [
    {
     "name": "stdout",
     "output_type": "stream",
     "text": [
      "Series([], Name: w.mat.mean, dtype: float64)\n",
      "Series([], Name: b.mat.mean, dtype: float64)\n",
      "Series([], Name: w.mob.mean, dtype: float64)\n",
      "Series([], Name: b.mob.mean, dtype: float64)\n",
      "Series([], Name: half.moves, dtype: int64)\n",
      "Series([], Name: result, dtype: object)\n"
     ]
    }
   ],
   "source": [
    "#Looking for nul values and empty values\n",
    "for cols in new_df.columns:\n",
    "    print(new_df[cols].loc[new_df[cols].isna()==True])\n",
    "    "
   ]
  },
  {
   "cell_type": "code",
   "execution_count": 12,
   "id": "1bad2aab",
   "metadata": {},
   "outputs": [
    {
     "data": {
      "text/plain": [
       "(100000, 6)"
      ]
     },
     "execution_count": 12,
     "metadata": {},
     "output_type": "execute_result"
    }
   ],
   "source": [
    "#Print the shape of new data \n",
    "new_df.shape"
   ]
  },
  {
   "cell_type": "code",
   "execution_count": 13,
   "id": "eb2da34e",
   "metadata": {},
   "outputs": [
    {
     "data": {
      "text/plain": [
       "w.mat.mean    float64\n",
       "b.mat.mean    float64\n",
       "w.mob.mean    float64\n",
       "b.mob.mean    float64\n",
       "half.moves      int64\n",
       "result         object\n",
       "dtype: object"
      ]
     },
     "execution_count": 13,
     "metadata": {},
     "output_type": "execute_result"
    }
   ],
   "source": [
    "new_df.dtypes"
   ]
  },
  {
   "cell_type": "code",
   "execution_count": 14,
   "id": "494acda5",
   "metadata": {},
   "outputs": [
    {
     "data": {
      "text/html": [
       "<div>\n",
       "<style scoped>\n",
       "    .dataframe tbody tr th:only-of-type {\n",
       "        vertical-align: middle;\n",
       "    }\n",
       "\n",
       "    .dataframe tbody tr th {\n",
       "        vertical-align: top;\n",
       "    }\n",
       "\n",
       "    .dataframe thead th {\n",
       "        text-align: right;\n",
       "    }\n",
       "</style>\n",
       "<table border=\"1\" class=\"dataframe\">\n",
       "  <thead>\n",
       "    <tr style=\"text-align: right;\">\n",
       "      <th></th>\n",
       "      <th>w.mat.mean</th>\n",
       "      <th>b.mat.mean</th>\n",
       "      <th>w.mob.mean</th>\n",
       "      <th>b.mob.mean</th>\n",
       "      <th>half.moves</th>\n",
       "    </tr>\n",
       "  </thead>\n",
       "  <tbody>\n",
       "    <tr>\n",
       "      <th>count</th>\n",
       "      <td>100000.000000</td>\n",
       "      <td>100000.000000</td>\n",
       "      <td>100000.000000</td>\n",
       "      <td>100000.000000</td>\n",
       "      <td>100000.000000</td>\n",
       "    </tr>\n",
       "    <tr>\n",
       "      <th>mean</th>\n",
       "      <td>29.471540</td>\n",
       "      <td>29.456648</td>\n",
       "      <td>33.083914</td>\n",
       "      <td>30.808188</td>\n",
       "      <td>80.524530</td>\n",
       "    </tr>\n",
       "    <tr>\n",
       "      <th>std</th>\n",
       "      <td>5.700711</td>\n",
       "      <td>5.722296</td>\n",
       "      <td>4.899840</td>\n",
       "      <td>4.488267</td>\n",
       "      <td>33.794235</td>\n",
       "    </tr>\n",
       "    <tr>\n",
       "      <th>min</th>\n",
       "      <td>7.768683</td>\n",
       "      <td>9.127049</td>\n",
       "      <td>11.312500</td>\n",
       "      <td>12.272727</td>\n",
       "      <td>6.000000</td>\n",
       "    </tr>\n",
       "    <tr>\n",
       "      <th>25%</th>\n",
       "      <td>25.206546</td>\n",
       "      <td>25.148607</td>\n",
       "      <td>29.653061</td>\n",
       "      <td>27.731616</td>\n",
       "      <td>58.000000</td>\n",
       "    </tr>\n",
       "    <tr>\n",
       "      <th>50%</th>\n",
       "      <td>30.317267</td>\n",
       "      <td>30.308824</td>\n",
       "      <td>33.390244</td>\n",
       "      <td>31.000000</td>\n",
       "      <td>77.000000</td>\n",
       "    </tr>\n",
       "    <tr>\n",
       "      <th>75%</th>\n",
       "      <td>34.000000</td>\n",
       "      <td>34.017938</td>\n",
       "      <td>36.700000</td>\n",
       "      <td>33.978723</td>\n",
       "      <td>100.000000</td>\n",
       "    </tr>\n",
       "    <tr>\n",
       "      <th>max</th>\n",
       "      <td>39.000000</td>\n",
       "      <td>39.000000</td>\n",
       "      <td>50.842105</td>\n",
       "      <td>48.250000</td>\n",
       "      <td>369.000000</td>\n",
       "    </tr>\n",
       "  </tbody>\n",
       "</table>\n",
       "</div>"
      ],
      "text/plain": [
       "          w.mat.mean     b.mat.mean     w.mob.mean     b.mob.mean  \\\n",
       "count  100000.000000  100000.000000  100000.000000  100000.000000   \n",
       "mean       29.471540      29.456648      33.083914      30.808188   \n",
       "std         5.700711       5.722296       4.899840       4.488267   \n",
       "min         7.768683       9.127049      11.312500      12.272727   \n",
       "25%        25.206546      25.148607      29.653061      27.731616   \n",
       "50%        30.317267      30.308824      33.390244      31.000000   \n",
       "75%        34.000000      34.017938      36.700000      33.978723   \n",
       "max        39.000000      39.000000      50.842105      48.250000   \n",
       "\n",
       "          half.moves  \n",
       "count  100000.000000  \n",
       "mean       80.524530  \n",
       "std        33.794235  \n",
       "min         6.000000  \n",
       "25%        58.000000  \n",
       "50%        77.000000  \n",
       "75%       100.000000  \n",
       "max       369.000000  "
      ]
     },
     "execution_count": 14,
     "metadata": {},
     "output_type": "execute_result"
    }
   ],
   "source": [
    "#Look for the data characteristics\n",
    "new_df.describe()"
   ]
  },
  {
   "cell_type": "code",
   "execution_count": 15,
   "id": "975c081b",
   "metadata": {},
   "outputs": [
    {
     "data": {
      "image/png": "[encoded data removed]",
      "text/plain": [
       "<Figure size 600x400 with 1 Axes>"
      ]
     },
     "metadata": {},
     "output_type": "display_data"
    },
    {
     "data": {
      "image/png": "[encoded data removed]",
      "text/plain": [
       "<Figure size 600x400 with 1 Axes>"
      ]
     },
     "metadata": {},
     "output_type": "display_data"
    },
    {
     "data": {
      "image/png": "[encoded data removed]",
      "text/plain": [
       "<Figure size 600x400 with 1 Axes>"
      ]
     },
     "metadata": {},
     "output_type": "display_data"
    },
    {
     "data": {
      "image/png": "[encoded data removed]",
      "text/plain": [
       "<Figure size 600x400 with 1 Axes>"
      ]
     },
     "metadata": {},
     "output_type": "display_data"
    },
    {
     "data": {
      "image/png": "[encoded data removed]",
      "text/plain": [
       "<Figure size 600x400 with 1 Axes>"
      ]
     },
     "metadata": {},
     "output_type": "display_data"
    },
    {
     "data": {
      "image/png": "[encoded data removed]",
      "text/plain": [
       "<Figure size 600x400 with 1 Axes>"
      ]
     },
     "metadata": {},
     "output_type": "display_data"
    }
   ],
   "source": [
    "# looking for how the data is spread\n",
    "\n",
    "for cols in new_df.columns:\n",
    "    plt.figure(figsize=(6, 4))  # Create a new figure for each boxplot\n",
    "    sns.boxplot(data=new_df, x=cols)\n",
    "    plt.title(f'Boxplot of {cols}')\n",
    "    plt.tight_layout()\n",
    "    plt.show()"
   ]
  },
  {
   "cell_type": "markdown",
   "id": "13d73125",
   "metadata": {},
   "source": [
    "Looks like the data is spread too much and this needs to be scaled."
   ]
  },
  {
   "cell_type": "code",
   "execution_count": 16,
   "id": "5ccf76b3",
   "metadata": {},
   "outputs": [],
   "source": [
    "#Encode result to numeric using the following mapping\n",
    "new_df.result=new_df.result.map({'1-0':int(1), '0-1':int(0), '1/2-1/2':int(2)})"
   ]
  },
  {
   "cell_type": "code",
   "execution_count": 17,
   "id": "9638530a",
   "metadata": {},
   "outputs": [],
   "source": [
    "# Perform an 85% training / 15% test split using train_test_split()\n",
    "#Train test split\n",
    "X_train,X_test,y_train,y_test =train_test_split(new_df.drop('result',axis=1),new_df['result'],test_size=0.15,random_state=42)"
   ]
  },
  {
   "cell_type": "code",
   "execution_count": 18,
   "id": "eca6fa89",
   "metadata": {},
   "outputs": [],
   "source": [
    "# Scale the 5 numeric predictor columns using StandardScaler() \n",
    "# Test upload\n",
    "scalar=StandardScaler()\n",
    "\n",
    "X_train=scalar.fit_transform(X_train)\n",
    "X_test=scalar.transform(X_test)"
   ]
  },
  {
   "cell_type": "code",
   "execution_count": 19,
   "id": "97131dc4",
   "metadata": {},
   "outputs": [],
   "source": [
    "# Setting up the Dataset and the Data Loader\n",
    "\n",
    "class CustomDataSet(Dataset):\n",
    "    def __init__(self,features,labels):\n",
    "        self.features=torch.tensor(features,dtype=torch.float32)\n",
    "        self.labels=torch.tensor(np.array(labels),dtype=torch.long)\n",
    "    def __len__(self):\n",
    "        return len( self.features)\n",
    "    \n",
    "    def __getitem__(self, index):\n",
    "        return(self.features[index],self.labels[index])\n",
    "\n",
    "train_dataset=CustomDataSet(X_train,y_train)\n",
    "test_dataset=CustomDataSet(X_test,y_test)\n",
    "\n",
    "train_loader=DataLoader(train_dataset,batch_size=128,shuffle=True,pin_memory=True)\n",
    "test_loader=DataLoader(test_dataset,batch_size=128,shuffle=False,pin_memory=True)"
   ]
  },
  {
   "cell_type": "code",
   "execution_count": 20,
   "id": "7f8c26cf",
   "metadata": {},
   "outputs": [],
   "source": [
    "#Define the Neural network Class\n",
    "class MyNN(nn.Module):\n",
    "    def __init__(self,input_featutes):\n",
    "        super().__init__()\n",
    "        self.features=nn.Sequential(\n",
    "            nn.Linear(input_featutes,50),\n",
    "            nn.ReLU(),\n",
    "            nn.Linear(50,3),\n",
    "            # nn.Softmax(dim=1)\n",
    "        )\n",
    "\n",
    "    def forward(self,x):\n",
    "        x=self.features(x)\n",
    "        return x"
   ]
  },
  {
   "cell_type": "code",
   "execution_count": 21,
   "id": "2c8a1045",
   "metadata": {},
   "outputs": [],
   "source": [
    "#Define the Learning rate and Epochs\n",
    "learning_rate=0.05\n",
    "epochs = 100"
   ]
  },
  {
   "cell_type": "code",
   "execution_count": 24,
   "id": "6eec8f71",
   "metadata": {},
   "outputs": [],
   "source": [
    "\n",
    "#Deine the model with the criterion and optimizer\n",
    "\n",
    "model=MyNN(X_train.shape[1])\n",
    "\n",
    "model.to(device)\n",
    "\n",
    "criterion= nn.CrossEntropyLoss()\n",
    "optimizer = optim.SGD(model.parameters(),lr=learning_rate,weight_decay=1e-4)\n"
   ]
  },
  {
   "cell_type": "code",
   "execution_count": 25,
   "id": "f1fb2595",
   "metadata": {},
   "outputs": [
    {
     "name": "stdout",
     "output_type": "stream",
     "text": [
      "Epoch 1, Loss: 0.9510770321788644\n",
      "Epoch 2, Loss: 0.9063118030254106\n",
      "Epoch 3, Loss: 0.8770132843713115\n",
      "Epoch 4, Loss: 0.8480796131872593\n",
      "Epoch 5, Loss: 0.8271150203575766\n",
      "Epoch 6, Loss: 0.8157579376285238\n",
      "Epoch 7, Loss: 0.8105275464237185\n",
      "Epoch 8, Loss: 0.8076275881968047\n",
      "Epoch 9, Loss: 0.8045369168869535\n",
      "Epoch 10, Loss: 0.8033238260369552\n",
      "Epoch 11, Loss: 0.8023423542653708\n",
      "Epoch 12, Loss: 0.8015968662455566\n",
      "Epoch 13, Loss: 0.8007333951785152\n",
      "Epoch 14, Loss: 0.8006672166343919\n",
      "Epoch 15, Loss: 0.8002849162969374\n",
      "Epoch 16, Loss: 0.7999330852264749\n",
      "Epoch 17, Loss: 0.7995236223801634\n",
      "Epoch 18, Loss: 0.7989959576972445\n",
      "Epoch 19, Loss: 0.799361607096249\n",
      "Epoch 20, Loss: 0.799183190048189\n",
      "Epoch 21, Loss: 0.7988316933911546\n",
      "Epoch 22, Loss: 0.798204379243062\n",
      "Epoch 23, Loss: 0.798596199562675\n",
      "Epoch 24, Loss: 0.7983089467636625\n",
      "Epoch 25, Loss: 0.7974863054160785\n",
      "Epoch 26, Loss: 0.7974088469842323\n",
      "Epoch 27, Loss: 0.7967109879156701\n",
      "Epoch 28, Loss: 0.7966537126024863\n",
      "Epoch 29, Loss: 0.7965506756216063\n",
      "Epoch 30, Loss: 0.7959637684033329\n",
      "Epoch 31, Loss: 0.7959198002528427\n",
      "Epoch 32, Loss: 0.7961999123257802\n",
      "Epoch 33, Loss: 0.7961562992934894\n",
      "Epoch 34, Loss: 0.7955528723566155\n",
      "Epoch 35, Loss: 0.7951465738447089\n",
      "Epoch 36, Loss: 0.7946855126466966\n",
      "Epoch 37, Loss: 0.7949791772024972\n",
      "Epoch 38, Loss: 0.7953604148742848\n",
      "Epoch 39, Loss: 0.7939768232349166\n",
      "Epoch 40, Loss: 0.7942796042090968\n",
      "Epoch 41, Loss: 0.794094777465763\n",
      "Epoch 42, Loss: 0.7939659207387078\n",
      "Epoch 43, Loss: 0.7936153741707479\n",
      "Epoch 44, Loss: 0.7931033940243541\n",
      "Epoch 45, Loss: 0.7939346499909136\n",
      "Epoch 46, Loss: 0.7937184466455216\n",
      "Epoch 47, Loss: 0.7928283539929785\n",
      "Epoch 48, Loss: 0.7931282104406142\n",
      "Epoch 49, Loss: 0.7927928164489287\n",
      "Epoch 50, Loss: 0.79267478437352\n",
      "Epoch 51, Loss: 0.7927729676540632\n",
      "Epoch 52, Loss: 0.79337249483381\n",
      "Epoch 53, Loss: 0.7927245928828878\n",
      "Epoch 54, Loss: 0.7924149192365488\n",
      "Epoch 55, Loss: 0.7920126374502827\n",
      "Epoch 56, Loss: 0.7920345049155386\n",
      "Epoch 57, Loss: 0.7926810750387665\n",
      "Epoch 58, Loss: 0.7928394257574153\n",
      "Epoch 59, Loss: 0.792255307229838\n",
      "Epoch 60, Loss: 0.7920940032578949\n",
      "Epoch 61, Loss: 0.7916402982589894\n",
      "Epoch 62, Loss: 0.7921856606813301\n",
      "Epoch 63, Loss: 0.791786741941495\n",
      "Epoch 64, Loss: 0.7919906699567809\n",
      "Epoch 65, Loss: 0.7916491858941271\n",
      "Epoch 66, Loss: 0.790675513636797\n",
      "Epoch 67, Loss: 0.7923144331552032\n",
      "Epoch 68, Loss: 0.7917071005455534\n",
      "Epoch 69, Loss: 0.7911664163259635\n",
      "Epoch 70, Loss: 0.7912626768413343\n",
      "Epoch 71, Loss: 0.7914862627373602\n",
      "Epoch 72, Loss: 0.7913115287185611\n",
      "Epoch 73, Loss: 0.7908307871424166\n",
      "Epoch 74, Loss: 0.7912365582652559\n",
      "Epoch 75, Loss: 0.7911184655992608\n",
      "Epoch 76, Loss: 0.7911657941072507\n",
      "Epoch 77, Loss: 0.7908818990664375\n",
      "Epoch 78, Loss: 0.7914290795648905\n",
      "Epoch 79, Loss: 0.7940703838391412\n",
      "Epoch 80, Loss: 0.7908012314846641\n",
      "Epoch 81, Loss: 0.79075492351575\n",
      "Epoch 82, Loss: 0.7909772261641079\n",
      "Epoch 83, Loss: 0.7914784881405365\n",
      "Epoch 84, Loss: 0.7908431839225883\n",
      "Epoch 85, Loss: 0.7909258344119653\n",
      "Epoch 86, Loss: 0.7914021569983404\n",
      "Epoch 87, Loss: 0.7912962953847154\n",
      "Epoch 88, Loss: 0.7909444872598003\n",
      "Epoch 89, Loss: 0.7906852687211862\n",
      "Epoch 90, Loss: 0.7907445198611209\n",
      "Epoch 91, Loss: 0.7904101624524683\n",
      "Epoch 92, Loss: 0.7908391170035628\n",
      "Epoch 93, Loss: 0.7905171667722831\n",
      "Epoch 94, Loss: 0.789968057368931\n",
      "Epoch 95, Loss: 0.7905859069716662\n",
      "Epoch 96, Loss: 0.7905462923802827\n",
      "Epoch 97, Loss: 0.7906367279533156\n",
      "Epoch 98, Loss: 0.7902272348117111\n",
      "Epoch 99, Loss: 0.7905805482900232\n",
      "Epoch 100, Loss: 0.7908533518475698\n"
     ]
    }
   ],
   "source": [
    "# training loop\n",
    "train_losses = []\n",
    "train_accuracies = []\n",
    "total=0\n",
    "correct=0\n",
    "\n",
    "for epoch in range(epochs):\n",
    "    total_epoch_loss=0\n",
    "\n",
    "    for batch_features,batch_labels in train_loader:\n",
    "\n",
    "        #move data to gpu\n",
    "        batch_features,batch_labels=batch_features.to(device),batch_labels.to(device)\n",
    "\n",
    "        #Forward pass\n",
    "        outputs=model(batch_features)\n",
    "\n",
    "        #Calculate loss\n",
    "        loss= criterion(outputs,batch_labels)\n",
    "\n",
    "        #backpass\n",
    "        optimizer.zero_grad()\n",
    "        loss.backward()\n",
    "\n",
    "        #update grads\n",
    "        optimizer.step()\n",
    "\n",
    "        total_epoch_loss= total_epoch_loss+loss.item()\n",
    "        \n",
    "        _, predicted = torch.max(outputs.data, 1)\n",
    "        total += batch_labels.size(0)\n",
    "        correct += (predicted == batch_labels).sum().item()\n",
    "        # print(f'predicted:{predicted}Labels {batch_labels}')\n",
    "    # Calculate average loss and accuracy for the epoch\n",
    "    avg_loss=total_epoch_loss/len(train_loader)\n",
    "    epoch_accuracy = 100 * correct / total\n",
    "    train_losses.append(avg_loss)\n",
    "    train_accuracies.append(epoch_accuracy)\n",
    "    print(f'Epoch {epoch +1 }, Loss: {avg_loss}')"
   ]
  },
  {
   "cell_type": "code",
   "execution_count": 28,
   "id": "b82cea0d",
   "metadata": {},
   "outputs": [
    {
     "data": {
      "image/png": "[encoded data removed]",
      "text/plain": [
       "<Figure size 1200x500 with 2 Axes>"
      ]
     },
     "metadata": {},
     "output_type": "display_data"
    }
   ],
   "source": [
    "# Plot\n",
    "plt.figure(figsize=(12, 5))\n",
    "\n",
    "plt.subplot(1, 2, 1)\n",
    "plt.plot(train_losses, label='Training Loss')\n",
    "plt.xlabel('Epoch')\n",
    "plt.ylabel('Loss')\n",
    "plt.title('Training Loss')\n",
    "plt.legend()\n",
    "\n",
    "plt.subplot(1, 2, 2)\n",
    "plt.plot(train_accuracies, label='Training Accuracy')\n",
    "plt.xlabel('Epoch')\n",
    "plt.ylabel('Accuracy (%)')\n",
    "plt.title('Training Accuracy')\n",
    "plt.legend()\n",
    "\n",
    "plt.tight_layout()\n",
    "plt.show()"
   ]
  },
  {
   "cell_type": "code",
   "execution_count": 29,
   "id": "51b7d598",
   "metadata": {},
   "outputs": [
    {
     "name": "stdout",
     "output_type": "stream",
     "text": [
      "Evaluation accuracy 0.6208666666666667\n"
     ]
    }
   ],
   "source": [
    "# Evaluate and print test accuracy.\n",
    "\n",
    "#Set model to eval model\n",
    "model.eval()\n",
    "\n",
    "#Evaluation Code\n",
    "\n",
    "total=0\n",
    "correct=0\n",
    "\n",
    "with torch.no_grad():\n",
    "    for batch_features, batch_labels in test_loader:\n",
    "        outputs=model(batch_features)\n",
    "        _, predicted=torch.max(outputs,1)\n",
    "\n",
    "        total = total + batch_labels.shape[0]\n",
    "        correct= correct+(predicted==batch_labels).sum().item()\n",
    "print(f'Evaluation accuracy {correct/total}')"
   ]
  },
  {
   "cell_type": "markdown",
   "id": "f9501c31",
   "metadata": {},
   "source": [
    "# Hyperparameter Tuning via Manual Grid Search"
   ]
  },
  {
   "cell_type": "code",
   "execution_count": 30,
   "id": "dc7eb2fc",
   "metadata": {},
   "outputs": [],
   "source": [
    "class MyNN(nn.Module):\n",
    "    def __init__(self,input_dim,output_dim,hidden_layers,neurons_per_layer,act_functn):\n",
    "        super().__init__()\n",
    "\n",
    "        layers =[]\n",
    "        \n",
    "        for i in range(hidden_layers):\n",
    "            layers.append(nn.Linear(input_dim,neurons_per_layer))\n",
    "            if act_functn=='relu':\n",
    "                   layers.append(nn.ReLU())\n",
    "            elif act_functn=='tanh':\n",
    "                   layers.append(nn.Tanh())\n",
    "            elif act_functn=='sigmoid':\n",
    "                layers.append(nn.Sigmoid())\n",
    "            # layers.append(nn.Dropout(drop_out_rate))\n",
    "            input_dim=neurons_per_layer\n",
    "        layers.append(nn.Linear(neurons_per_layer,output_dim))\n",
    "        # layers.append(nn.Softmax())\n",
    "\n",
    "        self.model=nn.Sequential(*layers)\n",
    "\n",
    "    def forward (self,x):\n",
    "        x=self.model(x)\n",
    "        return (x)\n"
   ]
  },
  {
   "cell_type": "code",
   "execution_count": 33,
   "id": "d636f821",
   "metadata": {},
   "outputs": [],
   "source": [
    "search_space={'hidden_layers':[1,2],'neurons_per_layer':[50,60],'act_functn':['relu','tanh','sigmoid'],'optimizer_name':['Adam','SGD','RMSprop'],'learning_rate':[0.001, 0.01,0.02],'batch_size':[100,128,],'epochs':[75,100]}\n",
    "\n",
    "#objective function\n",
    "\n",
    "def objective(trial):\n",
    "    hidden_layers=trial.suggest_categorical('hidden_layers',search_space['hidden_layers'])\n",
    "    act_functn=trial.suggest_categorical('act_functn',search_space['act_functn'])\n",
    "    optimizer_name=trial.suggest_categorical('optimizer_name',search_space['optimizer_name'])\n",
    "    learning_rate=trial.suggest_categorical('learning_rate',search_space['learning_rate'])\n",
    "    batch_size=trial.suggest_categorical('batch_size',search_space['batch_size'])\n",
    "    epochs=trial.suggest_categorical('epochs',search_space['epochs'])\n",
    "    neurons_per_layer=trial.suggest_categorical('neurons_per_layer',search_space['neurons_per_layer'])\n",
    "    # dropout=trial.suggest_categorical('dropout',search_space['dropout'])\n",
    "\n",
    "    input_shape=X_train.shape[1]\n",
    "    output_shape=3\n",
    "\n",
    "    model=MyNN(input_shape,output_shape,hidden_layers,neurons_per_layer,act_functn)\n",
    "    model.to(device)\n",
    "\n",
    "    #Loss Function\n",
    "    criterion= nn.CrossEntropyLoss()\n",
    "    \n",
    "\n",
    "    if optimizer_name=='Adam':\n",
    "        optimizer =  optim.Adam(model.parameters(),lr=learning_rate)\n",
    "\n",
    "    elif optimizer_name=='SGD':\n",
    "        optimizer =  optim.SGD(model.parameters(),lr=learning_rate)\n",
    "\n",
    "    elif optimizer_name=='RMSprop':\n",
    "        optimizer =  optim.RMSprop(model.parameters(),lr=learning_rate)\n",
    "    \n",
    "    # print(optimizer)\n",
    "\n",
    "\n",
    "    train_loader=DataLoader(train_dataset,batch_size=batch_size,shuffle=True,pin_memory=True)\n",
    "    test_loader=DataLoader(test_dataset,batch_size=batch_size,shuffle=False,pin_memory=True)\n",
    "\n",
    "    for epoch in range(epochs):\n",
    "        total_epoch_loss=0\n",
    "        total=0\n",
    "        correct=0\n",
    "\n",
    "        for batch_features,batch_labels in train_loader:\n",
    "\n",
    "            #move data to gpu\n",
    "            batch_features,batch_labels=batch_features.to(device),batch_labels.to(device)\n",
    "\n",
    "            #Forward pass\n",
    "            outputs=model(batch_features)\n",
    "\n",
    "            #Calculate loss\n",
    "            loss= criterion(outputs,batch_labels)\n",
    "\n",
    "            #backpass\n",
    "            optimizer.zero_grad()\n",
    "            loss.backward()\n",
    "\n",
    "            #update grads\n",
    "            optimizer.step()\n",
    "\n",
    "            total_epoch_loss= total_epoch_loss+loss.item()\n",
    "            \n",
    "            _, predicted = torch.max(outputs.data, 1)\n",
    "            total += batch_labels.size(0)\n",
    "            correct += (predicted == batch_labels).sum().item()\n",
    "            # print(f'predicted:{predicted}Labels {batch_labels}')\n",
    "        # Calculate average loss and accuracy for the epoch\n",
    "        avg_loss=total_epoch_loss/len(train_loader)\n",
    "        epoch_accuracy = 100 * correct / total\n",
    "        train_losses.append(avg_loss)\n",
    "        train_accuracies.append(epoch_accuracy)\n",
    "        print(f'Epoch {epoch +1 }, Training Loss: {avg_loss}')\n",
    "\n",
    "        # # Plot\n",
    "        # plt.figure(figsize=(12, 5))\n",
    "\n",
    "        # plt.subplot(1, 2, 1)\n",
    "        # plt.plot(train_losses, label='Training Loss')\n",
    "        # plt.xlabel('Epoch')\n",
    "        # plt.ylabel('Loss')\n",
    "        # plt.title('Training Loss')\n",
    "        # plt.legend()\n",
    "\n",
    "        # plt.subplot(1, 2, 2)\n",
    "        # plt.plot(train_accuracies, label='Training Accuracy')\n",
    "        # plt.xlabel('Epoch')\n",
    "        # plt.ylabel('Accuracy (%)')\n",
    "        # plt.title('Training Accuracy')\n",
    "        # plt.legend()\n",
    "\n",
    "        # plt.tight_layout()\n",
    "        # plt.show()\n",
    "\n",
    "        # Evaluate and print test accuracy.\n",
    "\n",
    "    #Set model to eval model\n",
    "    model.eval()\n",
    "\n",
    "    #Evaluation Code\n",
    "\n",
    "    total=0\n",
    "    correct=0\n",
    "\n",
    "    with torch.no_grad():\n",
    "        for batch_features, batch_labels in test_loader:\n",
    "            outputs=model(batch_features)\n",
    "            _, predicted=torch.max(outputs,1)\n",
    "\n",
    "            total = total + batch_labels.shape[0]\n",
    "            correct= correct+(predicted==batch_labels).sum().item()\n",
    "    accuracy=correct/total\n",
    "    \n",
    "    # print(f'Evaluation accuracy with model parameters:  Learning rate: {learning_rate} batchsize : {batch_size} is : {accuracy}')\n",
    "\n",
    "    return accuracy\n",
    "    \n",
    "\n",
    "\n",
    "\n",
    "\n"
   ]
  },
  {
   "cell_type": "code",
   "execution_count": null,
   "id": "bb67ebc9",
   "metadata": {},
   "outputs": [
    {
     "name": "stderr",
     "output_type": "stream",
     "text": [
      "[I 2025-06-22 09:17:07,446] A new study created in memory with name: no-name-463889e4-1fec-4f03-b685-6c4cf429bb86\n"
     ]
    },
    {
     "name": "stdout",
     "output_type": "stream",
     "text": [
      "Epoch 1, Training Loss: 0.9802043806805331\n",
      "Epoch 2, Training Loss: 0.9479877288201276\n",
      "Epoch 3, Training Loss: 0.9381235287469976\n",
      "Epoch 4, Training Loss: 0.9285014339054332\n",
      "Epoch 5, Training Loss: 0.9188969304281123\n",
      "Epoch 6, Training Loss: 0.9091485267526963\n",
      "Epoch 7, Training Loss: 0.8993225637604209\n",
      "Epoch 8, Training Loss: 0.8895401086526759\n",
      "Epoch 9, Training Loss: 0.8799050509228425\n",
      "Epoch 10, Training Loss: 0.8705633694985334\n",
      "Epoch 11, Training Loss: 0.8620425023752101\n",
      "Epoch 12, Training Loss: 0.8540502830813913\n",
      "Epoch 13, Training Loss: 0.847077124188928\n",
      "Epoch 14, Training Loss: 0.8409874964461607\n",
      "Epoch 15, Training Loss: 0.8357394052954281\n",
      "Epoch 16, Training Loss: 0.8312316455560572\n",
      "Epoch 17, Training Loss: 0.827518512431313\n",
      "Epoch 18, Training Loss: 0.8244157557627734\n",
      "Epoch 19, Training Loss: 0.8219080628367031\n",
      "Epoch 20, Training Loss: 0.8198740596630995\n",
      "Epoch 21, Training Loss: 0.8180910734569325\n",
      "Epoch 22, Training Loss: 0.8166520151671242\n",
      "Epoch 23, Training Loss: 0.8155325230430154\n",
      "Epoch 24, Training Loss: 0.8145054721832276\n",
      "Epoch 25, Training Loss: 0.8136696692775277\n",
      "Epoch 26, Training Loss: 0.8130300685938667\n",
      "Epoch 27, Training Loss: 0.8122942566170412\n",
      "Epoch 28, Training Loss: 0.8118350511438707\n"
     ]
    }
   ],
   "source": [
    "sampler = GridSampler(search_space)\n",
    "study= optuna.create_study(direction='maximize', sampler=sampler)\n",
    "study.optimize(objective)"
   ]
  },
  {
   "cell_type": "markdown",
   "id": "7b5d902f",
   "metadata": {},
   "source": []
  }
 ],
 "metadata": {
  "kernelspec": {
   "display_name": "sandman_venv",
   "language": "python",
   "name": "python3"
  },
  "language_info": {
   "codemirror_mode": {
    "name": "ipython",
    "version": 3
   },
   "file_extension": ".py",
   "mimetype": "text/x-python",
   "name": "python",
   "nbconvert_exporter": "python",
   "pygments_lexer": "ipython3",
   "version": "3.10.5"
  }
 },
 "nbformat": 4,
 "nbformat_minor": 5
}
