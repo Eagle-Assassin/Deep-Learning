{
 "cells": [
  {
   "cell_type": "markdown",
   "id": "99f9b369",
   "metadata": {},
   "source": [
    "# Predicting Chess Game Outcomes"
   ]
  },
  {
   "cell_type": "markdown",
   "id": "ec065bc6",
   "metadata": {},
   "source": [
    "## Data Loading and Exploration"
   ]
  },
  {
   "cell_type": "code",
   "execution_count": 96,
   "id": "8a00f9b0",
   "metadata": {},
   "outputs": [],
   "source": [
    "# Load the libraries\n",
    "import pandas as pd\n",
    "import matplotlib.pyplot as plt\n",
    "import seaborn as sns\n",
    "import warnings\n",
    "from sklearn.preprocessing import StandardScaler\n",
    "from sklearn.model_selection import train_test_split\n",
    "warnings.filterwarnings('ignore')\n",
    "import torch\n",
    "from torch.utils.data import Dataset, DataLoader\n",
    "import torch.nn as nn"
   ]
  },
  {
   "cell_type": "code",
   "execution_count": 92,
   "id": "b6351132",
   "metadata": {},
   "outputs": [
    {
     "name": "stdout",
     "output_type": "stream",
     "text": [
      "Using cpu for processing\n"
     ]
    }
   ],
   "source": [
    "#Select GPu if available for processing\n",
    "\n",
    "device=torch.device('gpu' if torch.cuda.is_available() else 'cpu')\n",
    "\n",
    "print(f'Using {device} for processing')\n",
    "\n"
   ]
  },
  {
   "cell_type": "code",
   "execution_count": 63,
   "id": "b8370aaa",
   "metadata": {},
   "outputs": [],
   "source": [
    "# Load the csv file\n",
    "df = pd.read_csv('matmob_data_sample.csv')"
   ]
  },
  {
   "cell_type": "code",
   "execution_count": 64,
   "id": "32fe77ca",
   "metadata": {},
   "outputs": [
    {
     "data": {
      "text/plain": [
       "(100000, 16)"
      ]
     },
     "execution_count": 64,
     "metadata": {},
     "output_type": "execute_result"
    }
   ],
   "source": [
    "#Print shape and one example row\n",
    "df.shape"
   ]
  },
  {
   "cell_type": "code",
   "execution_count": 65,
   "id": "a181de92",
   "metadata": {},
   "outputs": [
    {
     "data": {
      "text/html": [
       "<div>\n",
       "<style scoped>\n",
       "    .dataframe tbody tr th:only-of-type {\n",
       "        vertical-align: middle;\n",
       "    }\n",
       "\n",
       "    .dataframe tbody tr th {\n",
       "        vertical-align: top;\n",
       "    }\n",
       "\n",
       "    .dataframe thead th {\n",
       "        text-align: right;\n",
       "    }\n",
       "</style>\n",
       "<table border=\"1\" class=\"dataframe\">\n",
       "  <thead>\n",
       "    <tr style=\"text-align: right;\">\n",
       "      <th></th>\n",
       "      <th>w.mat.mean</th>\n",
       "      <th>w.mat.sd</th>\n",
       "      <th>b.mat.mean</th>\n",
       "      <th>b.mat.sd</th>\n",
       "      <th>w.mob.mean</th>\n",
       "      <th>w.mob.sd</th>\n",
       "      <th>b.mob.mean</th>\n",
       "      <th>b.mob.sd</th>\n",
       "      <th>result</th>\n",
       "      <th>valid.games.row</th>\n",
       "      <th>w.mat.vector</th>\n",
       "      <th>b.mat.vector</th>\n",
       "      <th>w.mob.vector</th>\n",
       "      <th>b.mob.vector</th>\n",
       "      <th>pgn</th>\n",
       "      <th>half.moves</th>\n",
       "    </tr>\n",
       "  </thead>\n",
       "  <tbody>\n",
       "    <tr>\n",
       "      <th>0</th>\n",
       "      <td>28.166667</td>\n",
       "      <td>8.850414</td>\n",
       "      <td>28.135417</td>\n",
       "      <td>9.671031</td>\n",
       "      <td>39.3125</td>\n",
       "      <td>12.951885</td>\n",
       "      <td>27.125</td>\n",
       "      <td>11.296064</td>\n",
       "      <td>1-0</td>\n",
       "      <td>1343406</td>\n",
       "      <td>39, 39, 39, 39, 39, 39, 39, 39, 38, 38, 38, 38...</td>\n",
       "      <td>39, 39, 39, 39, 39, 39, 39, 38, 38, 38, 38, 38...</td>\n",
       "      <td>20, 28, 30, 32, 30, 40, 40, 45, 49, 47, 49, 51...</td>\n",
       "      <td>20, 22, 28, 34, 34, 35, 31, 32, 33, 30, 30, 28...</td>\n",
       "      <td>1.d4 Nf6 2.c4 e6 3.Nf3 d5 4.cxd5 exd5 5.Qc2 Be...</td>\n",
       "      <td>95</td>\n",
       "    </tr>\n",
       "  </tbody>\n",
       "</table>\n",
       "</div>"
      ],
      "text/plain": [
       "   w.mat.mean  w.mat.sd  b.mat.mean  b.mat.sd  w.mob.mean   w.mob.sd  \\\n",
       "0   28.166667  8.850414   28.135417  9.671031     39.3125  12.951885   \n",
       "\n",
       "   b.mob.mean   b.mob.sd result  valid.games.row  \\\n",
       "0      27.125  11.296064    1-0          1343406   \n",
       "\n",
       "                                        w.mat.vector  \\\n",
       "0  39, 39, 39, 39, 39, 39, 39, 39, 38, 38, 38, 38...   \n",
       "\n",
       "                                        b.mat.vector  \\\n",
       "0  39, 39, 39, 39, 39, 39, 39, 38, 38, 38, 38, 38...   \n",
       "\n",
       "                                        w.mob.vector  \\\n",
       "0  20, 28, 30, 32, 30, 40, 40, 45, 49, 47, 49, 51...   \n",
       "\n",
       "                                        b.mob.vector  \\\n",
       "0  20, 22, 28, 34, 34, 35, 31, 32, 33, 30, 30, 28...   \n",
       "\n",
       "                                                 pgn  half.moves  \n",
       "0  1.d4 Nf6 2.c4 e6 3.Nf3 d5 4.cxd5 exd5 5.Qc2 Be...          95  "
      ]
     },
     "execution_count": 65,
     "metadata": {},
     "output_type": "execute_result"
    }
   ],
   "source": [
    "df.head(1)"
   ]
  },
  {
   "cell_type": "code",
   "execution_count": 66,
   "id": "ad82fbf1",
   "metadata": {},
   "outputs": [
    {
     "data": {
      "text/html": [
       "<div>\n",
       "<style scoped>\n",
       "    .dataframe tbody tr th:only-of-type {\n",
       "        vertical-align: middle;\n",
       "    }\n",
       "\n",
       "    .dataframe tbody tr th {\n",
       "        vertical-align: top;\n",
       "    }\n",
       "\n",
       "    .dataframe thead th {\n",
       "        text-align: right;\n",
       "    }\n",
       "</style>\n",
       "<table border=\"1\" class=\"dataframe\">\n",
       "  <thead>\n",
       "    <tr style=\"text-align: right;\">\n",
       "      <th></th>\n",
       "      <th>w.mat.mean</th>\n",
       "      <th>w.mat.sd</th>\n",
       "      <th>b.mat.mean</th>\n",
       "      <th>b.mat.sd</th>\n",
       "      <th>w.mob.mean</th>\n",
       "      <th>w.mob.sd</th>\n",
       "      <th>b.mob.mean</th>\n",
       "      <th>b.mob.sd</th>\n",
       "      <th>valid.games.row</th>\n",
       "      <th>half.moves</th>\n",
       "    </tr>\n",
       "  </thead>\n",
       "  <tbody>\n",
       "    <tr>\n",
       "      <th>count</th>\n",
       "      <td>100000.000000</td>\n",
       "      <td>100000.000000</td>\n",
       "      <td>100000.000000</td>\n",
       "      <td>100000.000000</td>\n",
       "      <td>100000.000000</td>\n",
       "      <td>100000.000000</td>\n",
       "      <td>100000.000000</td>\n",
       "      <td>100000.000000</td>\n",
       "      <td>1.000000e+05</td>\n",
       "      <td>100000.000000</td>\n",
       "    </tr>\n",
       "    <tr>\n",
       "      <th>mean</th>\n",
       "      <td>29.471540</td>\n",
       "      <td>7.518266</td>\n",
       "      <td>29.456648</td>\n",
       "      <td>7.556172</td>\n",
       "      <td>33.083914</td>\n",
       "      <td>9.300182</td>\n",
       "      <td>30.808188</td>\n",
       "      <td>8.824375</td>\n",
       "      <td>8.475512e+05</td>\n",
       "      <td>80.524530</td>\n",
       "    </tr>\n",
       "    <tr>\n",
       "      <th>std</th>\n",
       "      <td>5.700711</td>\n",
       "      <td>3.590136</td>\n",
       "      <td>5.722296</td>\n",
       "      <td>3.608866</td>\n",
       "      <td>4.899840</td>\n",
       "      <td>2.659605</td>\n",
       "      <td>4.488267</td>\n",
       "      <td>2.583139</td>\n",
       "      <td>4.892308e+05</td>\n",
       "      <td>33.794235</td>\n",
       "    </tr>\n",
       "    <tr>\n",
       "      <th>min</th>\n",
       "      <td>7.768683</td>\n",
       "      <td>0.000000</td>\n",
       "      <td>9.127049</td>\n",
       "      <td>0.000000</td>\n",
       "      <td>11.312500</td>\n",
       "      <td>1.707825</td>\n",
       "      <td>12.272727</td>\n",
       "      <td>2.387467</td>\n",
       "      <td>7.000000e+00</td>\n",
       "      <td>6.000000</td>\n",
       "    </tr>\n",
       "    <tr>\n",
       "      <th>25%</th>\n",
       "      <td>25.206546</td>\n",
       "      <td>4.674827</td>\n",
       "      <td>25.148607</td>\n",
       "      <td>4.691699</td>\n",
       "      <td>29.653061</td>\n",
       "      <td>7.244109</td>\n",
       "      <td>27.731616</td>\n",
       "      <td>6.879109</td>\n",
       "      <td>4.246160e+05</td>\n",
       "      <td>58.000000</td>\n",
       "    </tr>\n",
       "    <tr>\n",
       "      <th>50%</th>\n",
       "      <td>30.317267</td>\n",
       "      <td>7.677324</td>\n",
       "      <td>30.308824</td>\n",
       "      <td>7.716147</td>\n",
       "      <td>33.390244</td>\n",
       "      <td>9.153638</td>\n",
       "      <td>31.000000</td>\n",
       "      <td>8.740191</td>\n",
       "      <td>8.492815e+05</td>\n",
       "      <td>77.000000</td>\n",
       "    </tr>\n",
       "    <tr>\n",
       "      <th>75%</th>\n",
       "      <td>34.000000</td>\n",
       "      <td>10.550320</td>\n",
       "      <td>34.017938</td>\n",
       "      <td>10.608270</td>\n",
       "      <td>36.700000</td>\n",
       "      <td>11.164435</td>\n",
       "      <td>33.978723</td>\n",
       "      <td>10.618308</td>\n",
       "      <td>1.268899e+06</td>\n",
       "      <td>100.000000</td>\n",
       "    </tr>\n",
       "    <tr>\n",
       "      <th>max</th>\n",
       "      <td>39.000000</td>\n",
       "      <td>16.043718</td>\n",
       "      <td>39.000000</td>\n",
       "      <td>16.394856</td>\n",
       "      <td>50.842105</td>\n",
       "      <td>21.449271</td>\n",
       "      <td>48.250000</td>\n",
       "      <td>20.940381</td>\n",
       "      <td>1.696627e+06</td>\n",
       "      <td>369.000000</td>\n",
       "    </tr>\n",
       "  </tbody>\n",
       "</table>\n",
       "</div>"
      ],
      "text/plain": [
       "          w.mat.mean       w.mat.sd     b.mat.mean       b.mat.sd  \\\n",
       "count  100000.000000  100000.000000  100000.000000  100000.000000   \n",
       "mean       29.471540       7.518266      29.456648       7.556172   \n",
       "std         5.700711       3.590136       5.722296       3.608866   \n",
       "min         7.768683       0.000000       9.127049       0.000000   \n",
       "25%        25.206546       4.674827      25.148607       4.691699   \n",
       "50%        30.317267       7.677324      30.308824       7.716147   \n",
       "75%        34.000000      10.550320      34.017938      10.608270   \n",
       "max        39.000000      16.043718      39.000000      16.394856   \n",
       "\n",
       "          w.mob.mean       w.mob.sd     b.mob.mean       b.mob.sd  \\\n",
       "count  100000.000000  100000.000000  100000.000000  100000.000000   \n",
       "mean       33.083914       9.300182      30.808188       8.824375   \n",
       "std         4.899840       2.659605       4.488267       2.583139   \n",
       "min        11.312500       1.707825      12.272727       2.387467   \n",
       "25%        29.653061       7.244109      27.731616       6.879109   \n",
       "50%        33.390244       9.153638      31.000000       8.740191   \n",
       "75%        36.700000      11.164435      33.978723      10.618308   \n",
       "max        50.842105      21.449271      48.250000      20.940381   \n",
       "\n",
       "       valid.games.row     half.moves  \n",
       "count     1.000000e+05  100000.000000  \n",
       "mean      8.475512e+05      80.524530  \n",
       "std       4.892308e+05      33.794235  \n",
       "min       7.000000e+00       6.000000  \n",
       "25%       4.246160e+05      58.000000  \n",
       "50%       8.492815e+05      77.000000  \n",
       "75%       1.268899e+06     100.000000  \n",
       "max       1.696627e+06     369.000000  "
      ]
     },
     "execution_count": 66,
     "metadata": {},
     "output_type": "execute_result"
    }
   ],
   "source": [
    "df.describe()"
   ]
  },
  {
   "cell_type": "code",
   "execution_count": 67,
   "id": "f796a2f4",
   "metadata": {},
   "outputs": [
    {
     "data": {
      "text/plain": [
       "w.mat.mean         float64\n",
       "w.mat.sd           float64\n",
       "b.mat.mean         float64\n",
       "b.mat.sd           float64\n",
       "w.mob.mean         float64\n",
       "w.mob.sd           float64\n",
       "b.mob.mean         float64\n",
       "b.mob.sd           float64\n",
       "result              object\n",
       "valid.games.row      int64\n",
       "w.mat.vector        object\n",
       "b.mat.vector        object\n",
       "w.mob.vector        object\n",
       "b.mob.vector        object\n",
       "pgn                 object\n",
       "half.moves           int64\n",
       "dtype: object"
      ]
     },
     "execution_count": 67,
     "metadata": {},
     "output_type": "execute_result"
    }
   ],
   "source": [
    "df.dtypes"
   ]
  },
  {
   "cell_type": "code",
   "execution_count": 68,
   "id": "eba23078",
   "metadata": {},
   "outputs": [
    {
     "data": {
      "text/plain": [
       "result\n",
       "1-0        36485\n",
       "1/2-1/2    35810\n",
       "0-1        27705\n",
       "Name: count, dtype: int64"
      ]
     },
     "execution_count": 68,
     "metadata": {},
     "output_type": "execute_result"
    }
   ],
   "source": [
    "#Distribution of the result variable using value_counts()\n",
    "df['result'].value_counts()"
   ]
  },
  {
   "cell_type": "code",
   "execution_count": 70,
   "id": "40cd370a",
   "metadata": {},
   "outputs": [
    {
     "data": {
      "image/png": "[encoded data removed]",
      "text/plain": [
       "<Figure size 800x500 with 1 Axes>"
      ]
     },
     "metadata": {},
     "output_type": "display_data"
    }
   ],
   "source": [
    "#A labeled bar chart of the result distribution\n",
    "\n",
    "\n",
    "plt.figure(figsize=(8, 5))\n",
    "\n",
    "data=df['result'].value_counts().index\n",
    "values=list(df['result'].value_counts())\n",
    "ax = sns.barplot(x=data,y=values,palette='pastel', edgecolor='black')\n",
    "\n",
    "# Add labels on top of bars\n",
    "for i, row in enumerate(data):\n",
    "    ax.text(i, float(values[i])+ 0.1, values[i], ha='center', va='bottom')\n",
    "\n",
    "# Titles and labels\n",
    "plt.title('Result Distribution')\n",
    "plt.xlabel('Result')\n",
    "plt.ylabel('Count')\n",
    "plt.tight_layout()\n",
    "plt.show()"
   ]
  },
  {
   "cell_type": "markdown",
   "id": "37bdfcc8",
   "metadata": {},
   "source": [
    "## Data Preparation"
   ]
  },
  {
   "cell_type": "code",
   "execution_count": 73,
   "id": "c5237225",
   "metadata": {},
   "outputs": [
    {
     "data": {
      "text/html": [
       "<div>\n",
       "<style scoped>\n",
       "    .dataframe tbody tr th:only-of-type {\n",
       "        vertical-align: middle;\n",
       "    }\n",
       "\n",
       "    .dataframe tbody tr th {\n",
       "        vertical-align: top;\n",
       "    }\n",
       "\n",
       "    .dataframe thead th {\n",
       "        text-align: right;\n",
       "    }\n",
       "</style>\n",
       "<table border=\"1\" class=\"dataframe\">\n",
       "  <thead>\n",
       "    <tr style=\"text-align: right;\">\n",
       "      <th></th>\n",
       "      <th>w.mat.mean</th>\n",
       "      <th>b.mat.mean</th>\n",
       "      <th>w.mob.mean</th>\n",
       "      <th>b.mob.mean</th>\n",
       "      <th>half.moves</th>\n",
       "      <th>result</th>\n",
       "    </tr>\n",
       "  </thead>\n",
       "  <tbody>\n",
       "    <tr>\n",
       "      <th>0</th>\n",
       "      <td>28.166667</td>\n",
       "      <td>28.135417</td>\n",
       "      <td>39.312500</td>\n",
       "      <td>27.125000</td>\n",
       "      <td>95</td>\n",
       "      <td>1-0</td>\n",
       "    </tr>\n",
       "    <tr>\n",
       "      <th>1</th>\n",
       "      <td>33.851852</td>\n",
       "      <td>33.703704</td>\n",
       "      <td>37.185185</td>\n",
       "      <td>33.074074</td>\n",
       "      <td>53</td>\n",
       "      <td>1-0</td>\n",
       "    </tr>\n",
       "    <tr>\n",
       "      <th>2</th>\n",
       "      <td>31.301587</td>\n",
       "      <td>31.920635</td>\n",
       "      <td>32.625000</td>\n",
       "      <td>37.451613</td>\n",
       "      <td>62</td>\n",
       "      <td>0-1</td>\n",
       "    </tr>\n",
       "    <tr>\n",
       "      <th>3</th>\n",
       "      <td>21.878261</td>\n",
       "      <td>23.260870</td>\n",
       "      <td>27.172414</td>\n",
       "      <td>32.035088</td>\n",
       "      <td>114</td>\n",
       "      <td>0-1</td>\n",
       "    </tr>\n",
       "    <tr>\n",
       "      <th>4</th>\n",
       "      <td>34.775510</td>\n",
       "      <td>34.959184</td>\n",
       "      <td>41.040000</td>\n",
       "      <td>32.958333</td>\n",
       "      <td>48</td>\n",
       "      <td>1/2-1/2</td>\n",
       "    </tr>\n",
       "  </tbody>\n",
       "</table>\n",
       "</div>"
      ],
      "text/plain": [
       "   w.mat.mean  b.mat.mean  w.mob.mean  b.mob.mean  half.moves   result\n",
       "0   28.166667   28.135417   39.312500   27.125000          95      1-0\n",
       "1   33.851852   33.703704   37.185185   33.074074          53      1-0\n",
       "2   31.301587   31.920635   32.625000   37.451613          62      0-1\n",
       "3   21.878261   23.260870   27.172414   32.035088         114      0-1\n",
       "4   34.775510   34.959184   41.040000   32.958333          48  1/2-1/2"
      ]
     },
     "execution_count": 73,
     "metadata": {},
     "output_type": "execute_result"
    }
   ],
   "source": [
    "#Retain only the following 6 columns\n",
    "new_df=df[['w.mat.mean', 'b.mat.mean', 'w.mob.mean', 'b.mob.mean', 'half.moves', 'result']].copy()\n",
    "\n",
    "new_df.head()"
   ]
  },
  {
   "cell_type": "code",
   "execution_count": 82,
   "id": "30c4fd10",
   "metadata": {},
   "outputs": [
    {
     "name": "stdout",
     "output_type": "stream",
     "text": [
      "Series([], Name: w.mat.mean, dtype: float64)\n",
      "Series([], Name: b.mat.mean, dtype: float64)\n",
      "Series([], Name: w.mob.mean, dtype: float64)\n",
      "Series([], Name: b.mob.mean, dtype: float64)\n",
      "Series([], Name: half.moves, dtype: int64)\n",
      "Series([], Name: result, dtype: int64)\n"
     ]
    }
   ],
   "source": [
    "#Looking for nul values and empty values\n",
    "for cols in new_df.columns:\n",
    "    print(new_df[cols].loc[new_df[cols].isna()==True])\n",
    "    "
   ]
  },
  {
   "cell_type": "code",
   "execution_count": 84,
   "id": "1bad2aab",
   "metadata": {},
   "outputs": [
    {
     "data": {
      "text/plain": [
       "(100000, 6)"
      ]
     },
     "execution_count": 84,
     "metadata": {},
     "output_type": "execute_result"
    }
   ],
   "source": [
    "#Print the shape of new data\n",
    "new_df.shape"
   ]
  },
  {
   "cell_type": "code",
   "execution_count": null,
   "id": "494acda5",
   "metadata": {},
   "outputs": [
    {
     "data": {
      "text/html": [
       "<div>\n",
       "<style scoped>\n",
       "    .dataframe tbody tr th:only-of-type {\n",
       "        vertical-align: middle;\n",
       "    }\n",
       "\n",
       "    .dataframe tbody tr th {\n",
       "        vertical-align: top;\n",
       "    }\n",
       "\n",
       "    .dataframe thead th {\n",
       "        text-align: right;\n",
       "    }\n",
       "</style>\n",
       "<table border=\"1\" class=\"dataframe\">\n",
       "  <thead>\n",
       "    <tr style=\"text-align: right;\">\n",
       "      <th></th>\n",
       "      <th>w.mat.mean</th>\n",
       "      <th>b.mat.mean</th>\n",
       "      <th>w.mob.mean</th>\n",
       "      <th>b.mob.mean</th>\n",
       "      <th>half.moves</th>\n",
       "      <th>result</th>\n",
       "    </tr>\n",
       "  </thead>\n",
       "  <tbody>\n",
       "    <tr>\n",
       "      <th>count</th>\n",
       "      <td>100000.000000</td>\n",
       "      <td>100000.000000</td>\n",
       "      <td>100000.000000</td>\n",
       "      <td>100000.000000</td>\n",
       "      <td>100000.000000</td>\n",
       "      <td>100000.000000</td>\n",
       "    </tr>\n",
       "    <tr>\n",
       "      <th>mean</th>\n",
       "      <td>29.471540</td>\n",
       "      <td>29.456648</td>\n",
       "      <td>33.083914</td>\n",
       "      <td>30.808188</td>\n",
       "      <td>80.524530</td>\n",
       "      <td>1.081050</td>\n",
       "    </tr>\n",
       "    <tr>\n",
       "      <th>std</th>\n",
       "      <td>5.700711</td>\n",
       "      <td>5.722296</td>\n",
       "      <td>4.899840</td>\n",
       "      <td>4.488267</td>\n",
       "      <td>33.794235</td>\n",
       "      <td>0.792835</td>\n",
       "    </tr>\n",
       "    <tr>\n",
       "      <th>min</th>\n",
       "      <td>7.768683</td>\n",
       "      <td>9.127049</td>\n",
       "      <td>11.312500</td>\n",
       "      <td>12.272727</td>\n",
       "      <td>6.000000</td>\n",
       "      <td>0.000000</td>\n",
       "    </tr>\n",
       "    <tr>\n",
       "      <th>25%</th>\n",
       "      <td>25.206546</td>\n",
       "      <td>25.148607</td>\n",
       "      <td>29.653061</td>\n",
       "      <td>27.731616</td>\n",
       "      <td>58.000000</td>\n",
       "      <td>0.000000</td>\n",
       "    </tr>\n",
       "    <tr>\n",
       "      <th>50%</th>\n",
       "      <td>30.317267</td>\n",
       "      <td>30.308824</td>\n",
       "      <td>33.390244</td>\n",
       "      <td>31.000000</td>\n",
       "      <td>77.000000</td>\n",
       "      <td>1.000000</td>\n",
       "    </tr>\n",
       "    <tr>\n",
       "      <th>75%</th>\n",
       "      <td>34.000000</td>\n",
       "      <td>34.017938</td>\n",
       "      <td>36.700000</td>\n",
       "      <td>33.978723</td>\n",
       "      <td>100.000000</td>\n",
       "      <td>2.000000</td>\n",
       "    </tr>\n",
       "    <tr>\n",
       "      <th>max</th>\n",
       "      <td>39.000000</td>\n",
       "      <td>39.000000</td>\n",
       "      <td>50.842105</td>\n",
       "      <td>48.250000</td>\n",
       "      <td>369.000000</td>\n",
       "      <td>2.000000</td>\n",
       "    </tr>\n",
       "  </tbody>\n",
       "</table>\n",
       "</div>"
      ],
      "text/plain": [
       "          w.mat.mean     b.mat.mean     w.mob.mean     b.mob.mean  \\\n",
       "count  100000.000000  100000.000000  100000.000000  100000.000000   \n",
       "mean       29.471540      29.456648      33.083914      30.808188   \n",
       "std         5.700711       5.722296       4.899840       4.488267   \n",
       "min         7.768683       9.127049      11.312500      12.272727   \n",
       "25%        25.206546      25.148607      29.653061      27.731616   \n",
       "50%        30.317267      30.308824      33.390244      31.000000   \n",
       "75%        34.000000      34.017938      36.700000      33.978723   \n",
       "max        39.000000      39.000000      50.842105      48.250000   \n",
       "\n",
       "          half.moves         result  \n",
       "count  100000.000000  100000.000000  \n",
       "mean       80.524530       1.081050  \n",
       "std        33.794235       0.792835  \n",
       "min         6.000000       0.000000  \n",
       "25%        58.000000       0.000000  \n",
       "50%        77.000000       1.000000  \n",
       "75%       100.000000       2.000000  \n",
       "max       369.000000       2.000000  "
      ]
     },
     "execution_count": 85,
     "metadata": {},
     "output_type": "execute_result"
    }
   ],
   "source": [
    "#Look for the data characteristics\n",
    "new_df.describe()"
   ]
  },
  {
   "cell_type": "code",
   "execution_count": null,
   "id": "975c081b",
   "metadata": {},
   "outputs": [
    {
     "data": {
      "image/png": "[encoded data removed]",
      "text/plain": [
       "<Figure size 600x400 with 1 Axes>"
      ]
     },
     "metadata": {},
     "output_type": "display_data"
    },
    {
     "data": {
      "image/png": "[encoded data removed]",
      "text/plain": [
       "<Figure size 600x400 with 1 Axes>"
      ]
     },
     "metadata": {},
     "output_type": "display_data"
    },
    {
     "data": {
      "image/png": "[encoded data removed]",
      "text/plain": [
       "<Figure size 600x400 with 1 Axes>"
      ]
     },
     "metadata": {},
     "output_type": "display_data"
    },
    {
     "data": {
      "image/png": "[encoded data removed]",
      "text/plain": [
       "<Figure size 600x400 with 1 Axes>"
      ]
     },
     "metadata": {},
     "output_type": "display_data"
    },
    {
     "data": {
      "image/png": "[encoded data removed]",
      "text/plain": [
       "<Figure size 600x400 with 1 Axes>"
      ]
     },
     "metadata": {},
     "output_type": "display_data"
    },
    {
     "data": {
      "image/png": "[encoded data removed]",
      "text/plain": [
       "<Figure size 600x400 with 1 Axes>"
      ]
     },
     "metadata": {},
     "output_type": "display_data"
    }
   ],
   "source": [
    "# looking for how the data is spread\n",
    "\n",
    "for cols in new_df.columns:\n",
    "    plt.figure(figsize=(6, 4))  # Create a new figure for each boxplot\n",
    "    sns.boxplot(data=new_df, x=cols)\n",
    "    plt.title(f'Boxplot of {cols}')\n",
    "    plt.tight_layout()\n",
    "    plt.show()"
   ]
  },
  {
   "cell_type": "markdown",
   "id": "13d73125",
   "metadata": {},
   "source": [
    "Looks like the data is spread too much and this needs to be scaled."
   ]
  },
  {
   "cell_type": "code",
   "execution_count": 88,
   "id": "5ccf76b3",
   "metadata": {},
   "outputs": [],
   "source": [
    "#Encode result to numeric using the following mapping\n",
    "new_df.result=new_df.result.map({'1-0':1, '0-1':0, '1/2-1/2':2})"
   ]
  },
  {
   "cell_type": "code",
   "execution_count": 94,
   "id": "9638530a",
   "metadata": {},
   "outputs": [],
   "source": [
    "# Perform an 85% training / 15% test split using train_test_split()\n",
    "#Train test split\n",
    "X_train,X_test,y_train,y_test =train_test_split(new_df.drop('result',axis=1),df['result'],test_size=0.15)"
   ]
  },
  {
   "cell_type": "code",
   "execution_count": null,
   "id": "eca6fa89",
   "metadata": {},
   "outputs": [],
   "source": [
    "# Scale the 5 numeric predictor columns using StandardScaler()\n",
    "scalar=StandardScaler()\n",
    "\n",
    "X_train=scalar.fit_transform(X_train)\n",
    "X_test=scalar.transform(X_test)"
   ]
  },
  {
   "cell_type": "code",
   "execution_count": null,
   "id": "97131dc4",
   "metadata": {},
   "outputs": [],
   "source": [
    "# Setting up the Dataset and the Data Loader\n",
    "\n",
    "class CustomDataSet(Dataset):\n",
    "    def __init__(self,features,labels):\n",
    "        self.features=torch.tensor(features,dtype=torch.float32)\n",
    "        self.labels=torch.tensor(labels,dtype==torch.long)\n",
    "    def __len__(self):\n",
    "        return len( self.features)\n",
    "    \n",
    "    def __getitem__(self, index):\n",
    "        return(self.features[index],self.labels[index])\n",
    "\n",
    "train_dataset=CustomDataSet(X_train,y_train)\n",
    "test_dataset=CustomDataSet(X_test,y_test)"
   ]
  },
  {
   "cell_type": "code",
   "execution_count": null,
   "id": "7f8c26cf",
   "metadata": {},
   "outputs": [],
   "source": []
  }
 ],
 "metadata": {
  "kernelspec": {
   "display_name": "sandman_venv",
   "language": "python",
   "name": "python3"
  },
  "language_info": {
   "codemirror_mode": {
    "name": "ipython",
    "version": 3
   },
   "file_extension": ".py",
   "mimetype": "text/x-python",
   "name": "python",
   "nbconvert_exporter": "python",
   "pygments_lexer": "ipython3",
   "version": "3.10.12"
  }
 },
 "nbformat": 4,
 "nbformat_minor": 5
}
