{
 "cells": [
  {
   "cell_type": "code",
   "execution_count": 3,
   "id": "d923aaeb",
   "metadata": {
    "executionInfo": {
     "elapsed": 30,
     "status": "ok",
     "timestamp": 1750696018827,
     "user": {
      "displayName": "Arun G.K",
      "userId": "17299480642687934593"
     },
     "user_tz": -330
    },
    "id": "d923aaeb"
   },
   "outputs": [],
   "source": [
    "#!/usr/bin/env python\n",
    "# coding: utf-8\n",
    "\n",
    "# # IT540 Assignment 3: Predicting Chess Game Outcomes\n",
    "#\n",
    "# **Author:** [Your Name]\n",
    "# **Date:** 2025-06-23\n",
    "#\n",
    "\n"
   ]
  },
  {
   "cell_type": "code",
   "execution_count": 4,
   "id": "bea302ca",
   "metadata": {
    "colab": {
     "base_uri": "https://localhost:8080/",
     "height": 54
    },
    "executionInfo": {
     "elapsed": 56,
     "status": "ok",
     "timestamp": 1750696018896,
     "user": {
      "displayName": "Arun G.K",
      "userId": "17299480642687934593"
     },
     "user_tz": -330
    },
    "id": "bea302ca",
    "outputId": "1e0bc04c-5de8-453d-a4cc-b9dcda84901b"
   },
   "outputs": [
    {
     "data": {
      "text/plain": [
       "'\\nAssignment 3 - Predicting Chess Game Outcomes\\nAuthor: [Your Name]\\nCourse: IT540\\nDate: 2025-06-23\\n\\n\\n\\nThis script loads the sample chess games dataset, builds baseline and tuned neural network\\nmodels for classification, and saves results and model files.\\n'"
      ]
     },
     "execution_count": 4,
     "metadata": {},
     "output_type": "execute_result"
    }
   ],
   "source": [
    "\n",
    "\"\"\"\n",
    "Assignment 3 - Predicting Chess Game Outcomes\n",
    "Author: [Your Name]\n",
    "Course: IT540\n",
    "Date: 2025-06-23\n",
    "\n",
    "\n",
    "\n",
    "This script loads the sample chess games dataset, builds baseline and tuned neural network\n",
    "models for classification, and saves results and model files.\n",
    "\"\"\"\n",
    "\n"
   ]
  },
  {
   "cell_type": "code",
   "execution_count": 11,
   "id": "bae2dd1f",
   "metadata": {
    "colab": {
     "base_uri": "https://localhost:8080/"
    },
    "executionInfo": {
     "elapsed": 7454,
     "status": "ok",
     "timestamp": 1750696154770,
     "user": {
      "displayName": "Arun G.K",
      "userId": "17299480642687934593"
     },
     "user_tz": -330
    },
    "id": "bae2dd1f",
    "outputId": "46df44d9-3399-4d20-b21a-deed8e46e0e6"
   },
   "outputs": [
    {
     "name": "stdout",
     "output_type": "stream",
     "text": [
      "Requirement already satisfied: tensorflow in /home/section/sandman_venv/lib/python3.10/site-packages (2.18.0)\n",
      "Requirement already satisfied: gast!=0.5.0,!=0.5.1,!=0.5.2,>=0.2.1 in /home/section/sandman_venv/lib/python3.10/site-packages (from tensorflow) (0.6.0)\n",
      "Requirement already satisfied: libclang>=13.0.0 in /home/section/sandman_venv/lib/python3.10/site-packages (from tensorflow) (18.1.1)\n",
      "Requirement already satisfied: packaging in /home/section/sandman_venv/lib/python3.10/site-packages (from tensorflow) (24.2)\n",
      "Requirement already satisfied: termcolor>=1.1.0 in /home/section/sandman_venv/lib/python3.10/site-packages (from tensorflow) (2.5.0)\n",
      "Requirement already satisfied: wrapt>=1.11.0 in /home/section/sandman_venv/lib/python3.10/site-packages (from tensorflow) (1.17.2)\n",
      "Requirement already satisfied: grpcio<2.0,>=1.24.3 in /home/section/sandman_venv/lib/python3.10/site-packages (from tensorflow) (1.70.0)\n",
      "Requirement already satisfied: flatbuffers>=24.3.25 in /home/section/sandman_venv/lib/python3.10/site-packages (from tensorflow) (25.2.10)\n",
      "Requirement already satisfied: tensorboard<2.19,>=2.18 in /home/section/sandman_venv/lib/python3.10/site-packages (from tensorflow) (2.18.0)\n",
      "Requirement already satisfied: typing-extensions>=3.6.6 in /home/section/sandman_venv/lib/python3.10/site-packages (from tensorflow) (4.12.2)\n",
      "Requirement already satisfied: absl-py>=1.0.0 in /home/section/sandman_venv/lib/python3.10/site-packages (from tensorflow) (2.1.0)\n",
      "Requirement already satisfied: tensorflow-io-gcs-filesystem>=0.23.1 in /home/section/sandman_venv/lib/python3.10/site-packages (from tensorflow) (0.37.1)\n",
      "Requirement already satisfied: setuptools in /home/section/sandman_venv/lib/python3.10/site-packages (from tensorflow) (59.6.0)\n",
      "Requirement already satisfied: opt-einsum>=2.3.2 in /home/section/sandman_venv/lib/python3.10/site-packages (from tensorflow) (3.4.0)\n",
      "Requirement already satisfied: six>=1.12.0 in /home/section/sandman_venv/lib/python3.10/site-packages (from tensorflow) (1.17.0)\n",
      "Requirement already satisfied: requests<3,>=2.21.0 in /home/section/sandman_venv/lib/python3.10/site-packages (from tensorflow) (2.32.3)\n",
      "Requirement already satisfied: h5py>=3.11.0 in /home/section/sandman_venv/lib/python3.10/site-packages (from tensorflow) (3.13.0)\n",
      "Requirement already satisfied: protobuf!=4.21.0,!=4.21.1,!=4.21.2,!=4.21.3,!=4.21.4,!=4.21.5,<6.0.0dev,>=3.20.3 in /home/section/sandman_venv/lib/python3.10/site-packages (from tensorflow) (5.29.3)\n",
      "Requirement already satisfied: astunparse>=1.6.0 in /home/section/sandman_venv/lib/python3.10/site-packages (from tensorflow) (1.6.3)\n",
      "Requirement already satisfied: numpy<2.1.0,>=1.26.0 in /home/section/sandman_venv/lib/python3.10/site-packages (from tensorflow) (2.0.2)\n",
      "Requirement already satisfied: keras>=3.5.0 in /home/section/sandman_venv/lib/python3.10/site-packages (from tensorflow) (3.10.0)\n",
      "Requirement already satisfied: google-pasta>=0.1.1 in /home/section/sandman_venv/lib/python3.10/site-packages (from tensorflow) (0.2.0)\n",
      "Requirement already satisfied: ml-dtypes<0.5.0,>=0.4.0 in /home/section/sandman_venv/lib/python3.10/site-packages (from tensorflow) (0.4.1)\n",
      "Requirement already satisfied: wheel<1.0,>=0.23.0 in /home/section/sandman_venv/lib/python3.10/site-packages (from astunparse>=1.6.0->tensorflow) (0.45.1)\n",
      "Requirement already satisfied: rich in /home/section/sandman_venv/lib/python3.10/site-packages (from keras>=3.5.0->tensorflow) (13.9.4)\n",
      "Requirement already satisfied: namex in /home/section/sandman_venv/lib/python3.10/site-packages (from keras>=3.5.0->tensorflow) (0.0.8)\n",
      "Requirement already satisfied: optree in /home/section/sandman_venv/lib/python3.10/site-packages (from keras>=3.5.0->tensorflow) (0.14.1)\n",
      "Requirement already satisfied: urllib3<3,>=1.21.1 in /home/section/sandman_venv/lib/python3.10/site-packages (from requests<3,>=2.21.0->tensorflow) (2.3.0)\n",
      "Requirement already satisfied: idna<4,>=2.5 in /home/section/sandman_venv/lib/python3.10/site-packages (from requests<3,>=2.21.0->tensorflow) (3.10)\n",
      "Requirement already satisfied: charset-normalizer<4,>=2 in /home/section/sandman_venv/lib/python3.10/site-packages (from requests<3,>=2.21.0->tensorflow) (3.4.1)\n",
      "Requirement already satisfied: certifi>=2017.4.17 in /home/section/sandman_venv/lib/python3.10/site-packages (from requests<3,>=2.21.0->tensorflow) (2025.1.31)\n",
      "Requirement already satisfied: werkzeug>=1.0.1 in /home/section/sandman_venv/lib/python3.10/site-packages (from tensorboard<2.19,>=2.18->tensorflow) (3.1.3)\n",
      "Requirement already satisfied: markdown>=2.6.8 in /home/section/sandman_venv/lib/python3.10/site-packages (from tensorboard<2.19,>=2.18->tensorflow) (3.7)\n",
      "Requirement already satisfied: tensorboard-data-server<0.8.0,>=0.7.0 in /home/section/sandman_venv/lib/python3.10/site-packages (from tensorboard<2.19,>=2.18->tensorflow) (0.7.2)\n",
      "Requirement already satisfied: MarkupSafe>=2.1.1 in /home/section/sandman_venv/lib/python3.10/site-packages (from werkzeug>=1.0.1->tensorboard<2.19,>=2.18->tensorflow) (3.0.2)\n",
      "Requirement already satisfied: pygments<3.0.0,>=2.13.0 in /home/section/sandman_venv/lib/python3.10/site-packages (from rich->keras>=3.5.0->tensorflow) (2.19.1)\n",
      "Requirement already satisfied: markdown-it-py>=2.2.0 in /home/section/sandman_venv/lib/python3.10/site-packages (from rich->keras>=3.5.0->tensorflow) (3.0.0)\n",
      "Requirement already satisfied: mdurl~=0.1 in /home/section/sandman_venv/lib/python3.10/site-packages (from markdown-it-py>=2.2.0->rich->keras>=3.5.0->tensorflow) (0.1.2)\n",
      "Note: you may need to restart the kernel to use updated packages.\n"
     ]
    }
   ],
   "source": [
    "\n",
    "pip install tensorflow\n"
   ]
  },
  {
   "cell_type": "code",
   "execution_count": 1,
   "id": "f6df77ce",
   "metadata": {
    "colab": {
     "base_uri": "https://localhost:8080/"
    },
    "executionInfo": {
     "elapsed": 51,
     "status": "ok",
     "timestamp": 1750696174722,
     "user": {
      "displayName": "Arun G.K",
      "userId": "17299480642687934593"
     },
     "user_tz": -330
    },
    "id": "f6df77ce",
    "outputId": "18146fe9-1c3a-4b9c-a879-99ffe4779835"
   },
   "outputs": [
    {
     "name": "stderr",
     "output_type": "stream",
     "text": [
      "2025-06-23 22:21:31.571951: E external/local_xla/xla/stream_executor/cuda/cuda_fft.cc:477] Unable to register cuFFT factory: Attempting to register factory for plugin cuFFT when one has already been registered\n",
      "WARNING: All log messages before absl::InitializeLog() is called are written to STDERR\n",
      "E0000 00:00:1750697491.592192   78538 cuda_dnn.cc:8310] Unable to register cuDNN factory: Attempting to register factory for plugin cuDNN when one has already been registered\n",
      "E0000 00:00:1750697491.598218   78538 cuda_blas.cc:1418] Unable to register cuBLAS factory: Attempting to register factory for plugin cuBLAS when one has already been registered\n",
      "2025-06-23 22:21:31.623795: I tensorflow/core/platform/cpu_feature_guard.cc:210] This TensorFlow binary is optimized to use available CPU instructions in performance-critical operations.\n",
      "To enable the following instructions: AVX2 FMA, in other operations, rebuild TensorFlow with the appropriate compiler flags.\n"
     ]
    },
    {
     "name": "stdout",
     "output_type": "stream",
     "text": [
      "❌ No GPU found. Running on CPU.\n"
     ]
    },
    {
     "name": "stderr",
     "output_type": "stream",
     "text": [
      "2025-06-23 22:21:33.651365: E external/local_xla/xla/stream_executor/cuda/cuda_driver.cc:152] failed call to cuInit: INTERNAL: CUDA error: Failed call to cuInit: UNKNOWN ERROR (303)\n"
     ]
    }
   ],
   "source": [
    "\n",
    "import pandas as pd\n",
    "import numpy as np\n",
    "import matplotlib.pyplot as plt\n",
    "from sklearn.preprocessing import StandardScaler\n",
    "from sklearn.model_selection import train_test_split\n",
    "import tensorflow as tf\n",
    "physical_devices = tf.config.list_physical_devices('GPU')\n",
    "if physical_devices:\n",
    "    try:\n",
    "        tf.config.experimental.set_memory_growth(physical_devices[0], True)\n",
    "        print(\"✅ GPU is available and will be used.\")\n",
    "    except Exception as e:\n",
    "        print(\"⚠️ GPU setup failed:\", e)\n",
    "else:\n",
    "    print(\"❌ No GPU found. Running on CPU.\")\n",
    "from tensorflow.keras.models import Sequential\n",
    "from tensorflow.keras.layers import Dense\n",
    "from tensorflow.keras.optimizers import SGD, Adam, RMSprop\n",
    "\n",
    "\n"
   ]
  },
  {
   "cell_type": "code",
   "execution_count": 2,
   "id": "ceb48160",
   "metadata": {
    "colab": {
     "base_uri": "https://localhost:8080/"
    },
    "executionInfo": {
     "elapsed": 1811,
     "status": "ok",
     "timestamp": 1750696178451,
     "user": {
      "displayName": "Arun G.K",
      "userId": "17299480642687934593"
     },
     "user_tz": -330
    },
    "id": "ceb48160",
    "outputId": "d2f54efc-3e4c-45ec-f1fa-d6a8658ffe51"
   },
   "outputs": [
    {
     "name": "stdout",
     "output_type": "stream",
     "text": [
      "Data shape: (100000, 16)\n",
      "Sample row:\n",
      " w.mat.mean                                                 28.166667\n",
      "w.mat.sd                                                    8.850414\n",
      "b.mat.mean                                                 28.135417\n",
      "b.mat.sd                                                    9.671031\n",
      "w.mob.mean                                                   39.3125\n",
      "w.mob.sd                                                   12.951885\n",
      "b.mob.mean                                                    27.125\n",
      "b.mob.sd                                                   11.296064\n",
      "result                                                           1-0\n",
      "valid.games.row                                              1343406\n",
      "w.mat.vector       39, 39, 39, 39, 39, 39, 39, 39, 38, 38, 38, 38...\n",
      "b.mat.vector       39, 39, 39, 39, 39, 39, 39, 38, 38, 38, 38, 38...\n",
      "w.mob.vector       20, 28, 30, 32, 30, 40, 40, 45, 49, 47, 49, 51...\n",
      "b.mob.vector       20, 22, 28, 34, 34, 35, 31, 32, 33, 30, 30, 28...\n",
      "pgn                1.d4 Nf6 2.c4 e6 3.Nf3 d5 4.cxd5 exd5 5.Qc2 Be...\n",
      "half.moves                                                        95\n",
      "Name: 0, dtype: object\n",
      "\n",
      "Result distribution:\n",
      " result\n",
      "1-0        36485\n",
      "1/2-1/2    35810\n",
      "0-1        27705\n",
      "Name: count, dtype: int64\n"
     ]
    }
   ],
   "source": [
    "\n",
    "# 1. Data Loading and Exploration\n",
    "df = pd.read_csv('matmob_data_sample.csv')\n",
    "print('Data shape:', df.shape)\n",
    "print('Sample row:\\n', df.iloc[0])\n",
    "print('\\nResult distribution:\\n', df['result'].value_counts())\n",
    "\n",
    "\n"
   ]
  },
  {
   "cell_type": "code",
   "execution_count": 3,
   "id": "7031d325",
   "metadata": {
    "colab": {
     "base_uri": "https://localhost:8080/",
     "height": 487
    },
    "executionInfo": {
     "elapsed": 423,
     "status": "ok",
     "timestamp": 1750696180814,
     "user": {
      "displayName": "Arun G.K",
      "userId": "17299480642687934593"
     },
     "user_tz": -330
    },
    "id": "7031d325",
    "outputId": "17428f6f-0237-4f0f-f8c0-cee71d11913a"
   },
   "outputs": [
    {
     "data": {
      "image/png": "[encoded data removed]",
      "text/plain": [
       "<Figure size 640x480 with 1 Axes>"
      ]
     },
     "metadata": {},
     "output_type": "display_data"
    }
   ],
   "source": [
    "\n",
    "# Bar chart of result distribution\n",
    "counts = df['result'].value_counts()\n",
    "counts.plot(kind='bar')\n",
    "plt.title('Result Distribution')\n",
    "plt.xlabel('Result')\n",
    "plt.ylabel('Count')\n",
    "plt.tight_layout()\n",
    "plt.savefig('result_distribution.png')\n",
    "plt.show()\n",
    "\n",
    "\n"
   ]
  },
  {
   "cell_type": "code",
   "execution_count": 4,
   "id": "1a5684a3",
   "metadata": {
    "executionInfo": {
     "elapsed": 229,
     "status": "ok",
     "timestamp": 1750696182583,
     "user": {
      "displayName": "Arun G.K",
      "userId": "17299480642687934593"
     },
     "user_tz": -330
    },
    "id": "1a5684a3"
   },
   "outputs": [],
   "source": [
    "\n",
    "# 2. Data Preparation\n",
    "cols = ['w.mat.mean','b.mat.mean','w.mob.mean','b.mob.mean','half.moves','result']\n",
    "df2 = df[cols].copy()\n",
    "\n",
    "\n"
   ]
  },
  {
   "cell_type": "code",
   "execution_count": 5,
   "id": "0f3efcc5",
   "metadata": {
    "executionInfo": {
     "elapsed": 3,
     "status": "ok",
     "timestamp": 1750696182589,
     "user": {
      "displayName": "Arun G.K",
      "userId": "17299480642687934593"
     },
     "user_tz": -330
    },
    "id": "0f3efcc5"
   },
   "outputs": [],
   "source": [
    "\n",
    "# Encode result\n",
    "mapping = {'0-1': 0, '1-0': 1, '1/2-1/2': 2}\n",
    "df2['result'] = df2['result'].map(mapping)\n",
    "\n",
    "\n"
   ]
  },
  {
   "cell_type": "code",
   "execution_count": 6,
   "id": "5372444e",
   "metadata": {
    "executionInfo": {
     "elapsed": 7,
     "status": "ok",
     "timestamp": 1750696182775,
     "user": {
      "displayName": "Arun G.K",
      "userId": "17299480642687934593"
     },
     "user_tz": -330
    },
    "id": "5372444e"
   },
   "outputs": [],
   "source": [
    "\n",
    "# Split predictors and target\n",
    "X = df2.drop('result', axis=1).values\n",
    "y = df2['result'].values\n",
    "\n",
    "\n"
   ]
  },
  {
   "cell_type": "code",
   "execution_count": 7,
   "id": "895a6bdd",
   "metadata": {
    "executionInfo": {
     "elapsed": 6,
     "status": "ok",
     "timestamp": 1750696182801,
     "user": {
      "displayName": "Arun G.K",
      "userId": "17299480642687934593"
     },
     "user_tz": -330
    },
    "id": "895a6bdd"
   },
   "outputs": [],
   "source": [
    "\n",
    "# Scale features\n",
    "scaler = StandardScaler()\n",
    "X_scaled = scaler.fit_transform(X)\n",
    "\n",
    "\n"
   ]
  },
  {
   "cell_type": "code",
   "execution_count": 8,
   "id": "5f168555",
   "metadata": {
    "executionInfo": {
     "elapsed": 15,
     "status": "ok",
     "timestamp": 1750696182879,
     "user": {
      "displayName": "Arun G.K",
      "userId": "17299480642687934593"
     },
     "user_tz": -330
    },
    "id": "5f168555"
   },
   "outputs": [],
   "source": [
    "\n",
    "# Train-test split\n",
    "X_train, X_test, y_train, y_test = train_test_split(\n",
    "    X_scaled, y, test_size=0.15, random_state=42\n",
    ")\n",
    "\n",
    "\n"
   ]
  },
  {
   "cell_type": "code",
   "execution_count": 9,
   "id": "d66ab42e",
   "metadata": {
    "executionInfo": {
     "elapsed": 34,
     "status": "ok",
     "timestamp": 1750696183529,
     "user": {
      "displayName": "Arun G.K",
      "userId": "17299480642687934593"
     },
     "user_tz": -330
    },
    "id": "d66ab42e"
   },
   "outputs": [],
   "source": [
    "\n",
    "# Helper to plot history\n",
    "def plot_history(history, filename):\n",
    "    plt.figure()\n",
    "    plt.plot(history.history['loss'], label='train loss')\n",
    "    plt.plot(history.history['accuracy'], label='train accuracy')\n",
    "    plt.title('Training History')\n",
    "    plt.xlabel('Epoch')\n",
    "    plt.legend()\n",
    "    plt.tight_layout()\n",
    "    plt.savefig(filename)\n",
    "    plt.show()\n",
    "\n",
    "\n"
   ]
  },
  {
   "cell_type": "code",
   "execution_count": 10,
   "id": "acc0a139",
   "metadata": {
    "colab": {
     "base_uri": "https://localhost:8080/"
    },
    "executionInfo": {
     "elapsed": 1819,
     "status": "ok",
     "timestamp": 1750696185620,
     "user": {
      "displayName": "Arun G.K",
      "userId": "17299480642687934593"
     },
     "user_tz": -330
    },
    "id": "acc0a139",
    "outputId": "1b76481d-2db4-4025-c3d7-7b523ce8a330"
   },
   "outputs": [
    {
     "name": "stderr",
     "output_type": "stream",
     "text": [
      "/home/section/sandman_venv/lib/python3.10/site-packages/keras/src/layers/core/dense.py:93: UserWarning: Do not pass an `input_shape`/`input_dim` argument to a layer. When using Sequential models, prefer using an `Input(shape)` object as the first layer in the model instead.\n",
      "  super().__init__(activity_regularizer=activity_regularizer, **kwargs)\n"
     ]
    }
   ],
   "source": [
    "\n",
    "# 3. Baseline Neural Network Model\n",
    "baseline_model = Sequential([\n",
    "    Dense(50, activation='sigmoid', input_shape=(X_train.shape[1],)),\n",
    "    Dense(3, activation='softmax')\n",
    "])\n",
    "baseline_model.compile(\n",
    "    loss='sparse_categorical_crossentropy',\n",
    "    optimizer=SGD(),\n",
    "    metrics=['accuracy']\n",
    ")\n",
    "\n",
    "\n"
   ]
  },
  {
   "cell_type": "code",
   "execution_count": 11,
   "id": "37b165b5",
   "metadata": {
    "colab": {
     "base_uri": "https://localhost:8080/",
     "height": 1000
    },
    "executionInfo": {
     "elapsed": 206250,
     "status": "ok",
     "timestamp": 1750696391877,
     "user": {
      "displayName": "Arun G.K",
      "userId": "17299480642687934593"
     },
     "user_tz": -330
    },
    "id": "37b165b5",
    "outputId": "2b56827d-a698-4660-d6e4-a6155acc4727"
   },
   "outputs": [
    {
     "name": "stdout",
     "output_type": "stream",
     "text": [
      "Epoch 1/100\n",
      "\u001b[1m598/598\u001b[0m \u001b[32m━━━━━━━━━━━━━━━━━━━━\u001b[0m\u001b[37m\u001b[0m \u001b[1m1s\u001b[0m 2ms/step - accuracy: 0.3689 - loss: 1.1089 - val_accuracy: 0.4440 - val_loss: 1.0578\n",
      "Epoch 2/100\n",
      "\u001b[1m598/598\u001b[0m \u001b[32m━━━━━━━━━━━━━━━━━━━━\u001b[0m\u001b[37m\u001b[0m \u001b[1m1s\u001b[0m 2ms/step - accuracy: 0.4634 - loss: 1.0513 - val_accuracy: 0.5038 - val_loss: 1.0255\n",
      "Epoch 3/100\n",
      "\u001b[1m598/598\u001b[0m \u001b[32m━━━━━━━━━━━━━━━━━━━━\u001b[0m\u001b[37m\u001b[0m \u001b[1m1s\u001b[0m 2ms/step - accuracy: 0.5061 - loss: 1.0210 - val_accuracy: 0.5215 - val_loss: 1.0025\n",
      "Epoch 4/100\n",
      "\u001b[1m598/598\u001b[0m \u001b[32m━━━━━━━━━━━━━━━━━━━━\u001b[0m\u001b[37m\u001b[0m \u001b[1m1s\u001b[0m 1ms/step - accuracy: 0.5183 - loss: 0.9993 - val_accuracy: 0.5292 - val_loss: 0.9868\n",
      "Epoch 5/100\n",
      "\u001b[1m598/598\u001b[0m \u001b[32m━━━━━━━━━━━━━━━━━━━━\u001b[0m\u001b[37m\u001b[0m \u001b[1m1s\u001b[0m 1ms/step - accuracy: 0.5283 - loss: 0.9825 - val_accuracy: 0.5273 - val_loss: 0.9760\n",
      "Epoch 6/100\n",
      "\u001b[1m598/598\u001b[0m \u001b[32m━━━━━━━━━━━━━━━━━━━━\u001b[0m\u001b[37m\u001b[0m \u001b[1m1s\u001b[0m 1ms/step - accuracy: 0.5267 - loss: 0.9751 - val_accuracy: 0.5287 - val_loss: 0.9695\n",
      "Epoch 7/100\n",
      "\u001b[1m598/598\u001b[0m \u001b[32m━━━━━━━━━━━━━━━━━━━━\u001b[0m\u001b[37m\u001b[0m \u001b[1m1s\u001b[0m 1ms/step - accuracy: 0.5289 - loss: 0.9695 - val_accuracy: 0.5296 - val_loss: 0.9656\n",
      "Epoch 8/100\n",
      "\u001b[1m598/598\u001b[0m \u001b[32m━━━━━━━━━━━━━━━━━━━━\u001b[0m\u001b[37m\u001b[0m \u001b[1m1s\u001b[0m 1ms/step - accuracy: 0.5302 - loss: 0.9636 - val_accuracy: 0.5315 - val_loss: 0.9630\n",
      "Epoch 9/100\n",
      "\u001b[1m598/598\u001b[0m \u001b[32m━━━━━━━━━━━━━━━━━━━━\u001b[0m\u001b[37m\u001b[0m \u001b[1m1s\u001b[0m 1ms/step - accuracy: 0.5322 - loss: 0.9605 - val_accuracy: 0.5324 - val_loss: 0.9617\n",
      "Epoch 10/100\n",
      "\u001b[1m598/598\u001b[0m \u001b[32m━━━━━━━━━━━━━━━━━━━━\u001b[0m\u001b[37m\u001b[0m \u001b[1m1s\u001b[0m 1ms/step - accuracy: 0.5343 - loss: 0.9597 - val_accuracy: 0.5312 - val_loss: 0.9599\n",
      "Epoch 11/100\n",
      "\u001b[1m598/598\u001b[0m \u001b[32m━━━━━━━━━━━━━━━━━━━━\u001b[0m\u001b[37m\u001b[0m \u001b[1m1s\u001b[0m 1ms/step - accuracy: 0.5316 - loss: 0.9590 - val_accuracy: 0.5333 - val_loss: 0.9590\n",
      "Epoch 12/100\n",
      "\u001b[1m598/598\u001b[0m \u001b[32m━━━━━━━━━━━━━━━━━━━━\u001b[0m\u001b[37m\u001b[0m \u001b[1m1s\u001b[0m 2ms/step - accuracy: 0.5295 - loss: 0.9607 - val_accuracy: 0.5329 - val_loss: 0.9583\n",
      "Epoch 13/100\n",
      "\u001b[1m598/598\u001b[0m \u001b[32m━━━━━━━━━━━━━━━━━━━━\u001b[0m\u001b[37m\u001b[0m \u001b[1m1s\u001b[0m 1ms/step - accuracy: 0.5326 - loss: 0.9582 - val_accuracy: 0.5338 - val_loss: 0.9575\n",
      "Epoch 14/100\n",
      "\u001b[1m598/598\u001b[0m \u001b[32m━━━━━━━━━━━━━━━━━━━━\u001b[0m\u001b[37m\u001b[0m \u001b[1m1s\u001b[0m 1ms/step - accuracy: 0.5311 - loss: 0.9579 - val_accuracy: 0.5344 - val_loss: 0.9569\n",
      "Epoch 15/100\n",
      "\u001b[1m598/598\u001b[0m \u001b[32m━━━━━━━━━━━━━━━━━━━━\u001b[0m\u001b[37m\u001b[0m \u001b[1m1s\u001b[0m 1ms/step - accuracy: 0.5351 - loss: 0.9571 - val_accuracy: 0.5353 - val_loss: 0.9562\n",
      "Epoch 16/100\n",
      "\u001b[1m598/598\u001b[0m \u001b[32m━━━━━━━━━━━━━━━━━━━━\u001b[0m\u001b[37m\u001b[0m \u001b[1m1s\u001b[0m 2ms/step - accuracy: 0.5336 - loss: 0.9566 - val_accuracy: 0.5369 - val_loss: 0.9558\n",
      "Epoch 17/100\n",
      "\u001b[1m598/598\u001b[0m \u001b[32m━━━━━━━━━━━━━━━━━━━━\u001b[0m\u001b[37m\u001b[0m \u001b[1m1s\u001b[0m 1ms/step - accuracy: 0.5391 - loss: 0.9539 - val_accuracy: 0.5361 - val_loss: 0.9549\n",
      "Epoch 18/100\n",
      "\u001b[1m598/598\u001b[0m \u001b[32m━━━━━━━━━━━━━━━━━━━━\u001b[0m\u001b[37m\u001b[0m \u001b[1m1s\u001b[0m 1ms/step - accuracy: 0.5381 - loss: 0.9535 - val_accuracy: 0.5378 - val_loss: 0.9537\n",
      "Epoch 19/100\n",
      "\u001b[1m598/598\u001b[0m \u001b[32m━━━━━━━━━━━━━━━━━━━━\u001b[0m\u001b[37m\u001b[0m \u001b[1m1s\u001b[0m 1ms/step - accuracy: 0.5376 - loss: 0.9523 - val_accuracy: 0.5379 - val_loss: 0.9532\n",
      "Epoch 20/100\n",
      "\u001b[1m598/598\u001b[0m \u001b[32m━━━━━━━━━━━━━━━━━━━━\u001b[0m\u001b[37m\u001b[0m \u001b[1m1s\u001b[0m 1ms/step - accuracy: 0.5378 - loss: 0.9494 - val_accuracy: 0.5425 - val_loss: 0.9535\n",
      "Epoch 21/100\n",
      "\u001b[1m598/598\u001b[0m \u001b[32m━━━━━━━━━━━━━━━━━━━━\u001b[0m\u001b[37m\u001b[0m \u001b[1m1s\u001b[0m 1ms/step - accuracy: 0.5389 - loss: 0.9516 - val_accuracy: 0.5378 - val_loss: 0.9512\n",
      "Epoch 22/100\n",
      "\u001b[1m598/598\u001b[0m \u001b[32m━━━━━━━━━━━━━━━━━━━━\u001b[0m\u001b[37m\u001b[0m \u001b[1m1s\u001b[0m 1ms/step - accuracy: 0.5374 - loss: 0.9512 - val_accuracy: 0.5411 - val_loss: 0.9506\n",
      "Epoch 23/100\n",
      "\u001b[1m598/598\u001b[0m \u001b[32m━━━━━━━━━━━━━━━━━━━━\u001b[0m\u001b[37m\u001b[0m \u001b[1m1s\u001b[0m 1ms/step - accuracy: 0.5440 - loss: 0.9445 - val_accuracy: 0.5401 - val_loss: 0.9496\n",
      "Epoch 24/100\n",
      "\u001b[1m598/598\u001b[0m \u001b[32m━━━━━━━━━━━━━━━━━━━━\u001b[0m\u001b[37m\u001b[0m \u001b[1m1s\u001b[0m 1ms/step - accuracy: 0.5387 - loss: 0.9502 - val_accuracy: 0.5426 - val_loss: 0.9491\n",
      "Epoch 25/100\n",
      "\u001b[1m598/598\u001b[0m \u001b[32m━━━━━━━━━━━━━━━━━━━━\u001b[0m\u001b[37m\u001b[0m \u001b[1m1s\u001b[0m 1ms/step - accuracy: 0.5378 - loss: 0.9487 - val_accuracy: 0.5445 - val_loss: 0.9476\n",
      "Epoch 26/100\n",
      "\u001b[1m598/598\u001b[0m \u001b[32m━━━━━━━━━━━━━━━━━━━━\u001b[0m\u001b[37m\u001b[0m \u001b[1m1s\u001b[0m 1ms/step - accuracy: 0.5419 - loss: 0.9452 - val_accuracy: 0.5438 - val_loss: 0.9467\n",
      "Epoch 27/100\n",
      "\u001b[1m598/598\u001b[0m \u001b[32m━━━━━━━━━━━━━━━━━━━━\u001b[0m\u001b[37m\u001b[0m \u001b[1m1s\u001b[0m 1ms/step - accuracy: 0.5419 - loss: 0.9466 - val_accuracy: 0.5448 - val_loss: 0.9462\n",
      "Epoch 28/100\n",
      "\u001b[1m598/598\u001b[0m \u001b[32m━━━━━━━━━━━━━━━━━━━━\u001b[0m\u001b[37m\u001b[0m \u001b[1m1s\u001b[0m 1ms/step - accuracy: 0.5431 - loss: 0.9445 - val_accuracy: 0.5474 - val_loss: 0.9451\n",
      "Epoch 29/100\n",
      "\u001b[1m598/598\u001b[0m \u001b[32m━━━━━━━━━━━━━━━━━━━━\u001b[0m\u001b[37m\u001b[0m \u001b[1m1s\u001b[0m 1ms/step - accuracy: 0.5439 - loss: 0.9435 - val_accuracy: 0.5475 - val_loss: 0.9444\n",
      "Epoch 30/100\n",
      "\u001b[1m598/598\u001b[0m \u001b[32m━━━━━━━━━━━━━━━━━━━━\u001b[0m\u001b[37m\u001b[0m \u001b[1m1s\u001b[0m 1ms/step - accuracy: 0.5442 - loss: 0.9441 - val_accuracy: 0.5454 - val_loss: 0.9429\n",
      "Epoch 31/100\n",
      "\u001b[1m598/598\u001b[0m \u001b[32m━━━━━━━━━━━━━━━━━━━━\u001b[0m\u001b[37m\u001b[0m \u001b[1m1s\u001b[0m 1ms/step - accuracy: 0.5452 - loss: 0.9448 - val_accuracy: 0.5475 - val_loss: 0.9423\n",
      "Epoch 32/100\n",
      "\u001b[1m598/598\u001b[0m \u001b[32m━━━━━━━━━━━━━━━━━━━━\u001b[0m\u001b[37m\u001b[0m \u001b[1m1s\u001b[0m 1ms/step - accuracy: 0.5477 - loss: 0.9413 - val_accuracy: 0.5476 - val_loss: 0.9410\n",
      "Epoch 33/100\n",
      "\u001b[1m598/598\u001b[0m \u001b[32m━━━━━━━━━━━━━━━━━━━━\u001b[0m\u001b[37m\u001b[0m \u001b[1m1s\u001b[0m 1ms/step - accuracy: 0.5472 - loss: 0.9409 - val_accuracy: 0.5531 - val_loss: 0.9399\n",
      "Epoch 34/100\n",
      "\u001b[1m598/598\u001b[0m \u001b[32m━━━━━━━━━━━━━━━━━━━━\u001b[0m\u001b[37m\u001b[0m \u001b[1m1s\u001b[0m 1ms/step - accuracy: 0.5498 - loss: 0.9370 - val_accuracy: 0.5502 - val_loss: 0.9386\n",
      "Epoch 35/100\n",
      "\u001b[1m598/598\u001b[0m \u001b[32m━━━━━━━━━━━━━━━━━━━━\u001b[0m\u001b[37m\u001b[0m \u001b[1m1s\u001b[0m 1ms/step - accuracy: 0.5491 - loss: 0.9379 - val_accuracy: 0.5506 - val_loss: 0.9373\n",
      "Epoch 36/100\n",
      "\u001b[1m598/598\u001b[0m \u001b[32m━━━━━━━━━━━━━━━━━━━━\u001b[0m\u001b[37m\u001b[0m \u001b[1m1s\u001b[0m 1ms/step - accuracy: 0.5488 - loss: 0.9365 - val_accuracy: 0.5514 - val_loss: 0.9363\n",
      "Epoch 37/100\n",
      "\u001b[1m598/598\u001b[0m \u001b[32m━━━━━━━━━━━━━━━━━━━━\u001b[0m\u001b[37m\u001b[0m \u001b[1m1s\u001b[0m 1ms/step - accuracy: 0.5495 - loss: 0.9359 - val_accuracy: 0.5531 - val_loss: 0.9367\n",
      "Epoch 38/100\n",
      "\u001b[1m598/598\u001b[0m \u001b[32m━━━━━━━━━━━━━━━━━━━━\u001b[0m\u001b[37m\u001b[0m \u001b[1m1s\u001b[0m 1ms/step - accuracy: 0.5488 - loss: 0.9362 - val_accuracy: 0.5542 - val_loss: 0.9338\n",
      "Epoch 39/100\n",
      "\u001b[1m598/598\u001b[0m \u001b[32m━━━━━━━━━━━━━━━━━━━━\u001b[0m\u001b[37m\u001b[0m \u001b[1m1s\u001b[0m 1ms/step - accuracy: 0.5541 - loss: 0.9317 - val_accuracy: 0.5555 - val_loss: 0.9328\n",
      "Epoch 40/100\n",
      "\u001b[1m598/598\u001b[0m \u001b[32m━━━━━━━━━━━━━━━━━━━━\u001b[0m\u001b[37m\u001b[0m \u001b[1m1s\u001b[0m 1ms/step - accuracy: 0.5544 - loss: 0.9318 - val_accuracy: 0.5574 - val_loss: 0.9316\n",
      "Epoch 41/100\n",
      "\u001b[1m598/598\u001b[0m \u001b[32m━━━━━━━━━━━━━━━━━━━━\u001b[0m\u001b[37m\u001b[0m \u001b[1m1s\u001b[0m 1ms/step - accuracy: 0.5549 - loss: 0.9324 - val_accuracy: 0.5594 - val_loss: 0.9302\n",
      "Epoch 42/100\n",
      "\u001b[1m598/598\u001b[0m \u001b[32m━━━━━━━━━━━━━━━━━━━━\u001b[0m\u001b[37m\u001b[0m \u001b[1m1s\u001b[0m 1ms/step - accuracy: 0.5540 - loss: 0.9303 - val_accuracy: 0.5593 - val_loss: 0.9285\n",
      "Epoch 43/100\n",
      "\u001b[1m598/598\u001b[0m \u001b[32m━━━━━━━━━━━━━━━━━━━━\u001b[0m\u001b[37m\u001b[0m \u001b[1m1s\u001b[0m 1ms/step - accuracy: 0.5602 - loss: 0.9257 - val_accuracy: 0.5626 - val_loss: 0.9277\n",
      "Epoch 44/100\n",
      "\u001b[1m598/598\u001b[0m \u001b[32m━━━━━━━━━━━━━━━━━━━━\u001b[0m\u001b[37m\u001b[0m \u001b[1m1s\u001b[0m 1ms/step - accuracy: 0.5584 - loss: 0.9288 - val_accuracy: 0.5627 - val_loss: 0.9268\n",
      "Epoch 45/100\n",
      "\u001b[1m598/598\u001b[0m \u001b[32m━━━━━━━━━━━━━━━━━━━━\u001b[0m\u001b[37m\u001b[0m \u001b[1m1s\u001b[0m 1ms/step - accuracy: 0.5623 - loss: 0.9221 - val_accuracy: 0.5627 - val_loss: 0.9243\n",
      "Epoch 46/100\n",
      "\u001b[1m598/598\u001b[0m \u001b[32m━━━━━━━━━━━━━━━━━━━━\u001b[0m\u001b[37m\u001b[0m \u001b[1m1s\u001b[0m 1ms/step - accuracy: 0.5579 - loss: 0.9232 - val_accuracy: 0.5628 - val_loss: 0.9229\n",
      "Epoch 47/100\n",
      "\u001b[1m598/598\u001b[0m \u001b[32m━━━━━━━━━━━━━━━━━━━━\u001b[0m\u001b[37m\u001b[0m \u001b[1m1s\u001b[0m 1ms/step - accuracy: 0.5628 - loss: 0.9221 - val_accuracy: 0.5651 - val_loss: 0.9217\n",
      "Epoch 48/100\n",
      "\u001b[1m598/598\u001b[0m \u001b[32m━━━━━━━━━━━━━━━━━━━━\u001b[0m\u001b[37m\u001b[0m \u001b[1m1s\u001b[0m 1ms/step - accuracy: 0.5614 - loss: 0.9215 - val_accuracy: 0.5655 - val_loss: 0.9199\n",
      "Epoch 49/100\n",
      "\u001b[1m598/598\u001b[0m \u001b[32m━━━━━━━━━━━━━━━━━━━━\u001b[0m\u001b[37m\u001b[0m \u001b[1m1s\u001b[0m 1ms/step - accuracy: 0.5629 - loss: 0.9194 - val_accuracy: 0.5655 - val_loss: 0.9184\n",
      "Epoch 50/100\n",
      "\u001b[1m598/598\u001b[0m \u001b[32m━━━━━━━━━━━━━━━━━━━━\u001b[0m\u001b[37m\u001b[0m \u001b[1m1s\u001b[0m 1ms/step - accuracy: 0.5659 - loss: 0.9147 - val_accuracy: 0.5669 - val_loss: 0.9166\n",
      "Epoch 51/100\n",
      "\u001b[1m598/598\u001b[0m \u001b[32m━━━━━━━━━━━━━━━━━━━━\u001b[0m\u001b[37m\u001b[0m \u001b[1m1s\u001b[0m 1ms/step - accuracy: 0.5654 - loss: 0.9178 - val_accuracy: 0.5687 - val_loss: 0.9152\n",
      "Epoch 52/100\n",
      "\u001b[1m598/598\u001b[0m \u001b[32m━━━━━━━━━━━━━━━━━━━━\u001b[0m\u001b[37m\u001b[0m \u001b[1m1s\u001b[0m 1ms/step - accuracy: 0.5670 - loss: 0.9123 - val_accuracy: 0.5698 - val_loss: 0.9141\n",
      "Epoch 53/100\n",
      "\u001b[1m598/598\u001b[0m \u001b[32m━━━━━━━━━━━━━━━━━━━━\u001b[0m\u001b[37m\u001b[0m \u001b[1m1s\u001b[0m 1ms/step - accuracy: 0.5679 - loss: 0.9146 - val_accuracy: 0.5704 - val_loss: 0.9118\n",
      "Epoch 54/100\n",
      "\u001b[1m598/598\u001b[0m \u001b[32m━━━━━━━━━━━━━━━━━━━━\u001b[0m\u001b[37m\u001b[0m \u001b[1m1s\u001b[0m 1ms/step - accuracy: 0.5653 - loss: 0.9143 - val_accuracy: 0.5722 - val_loss: 0.9105\n",
      "Epoch 55/100\n",
      "\u001b[1m598/598\u001b[0m \u001b[32m━━━━━━━━━━━━━━━━━━━━\u001b[0m\u001b[37m\u001b[0m \u001b[1m1s\u001b[0m 1ms/step - accuracy: 0.5705 - loss: 0.9108 - val_accuracy: 0.5726 - val_loss: 0.9087\n",
      "Epoch 56/100\n",
      "\u001b[1m598/598\u001b[0m \u001b[32m━━━━━━━━━━━━━━━━━━━━\u001b[0m\u001b[37m\u001b[0m \u001b[1m1s\u001b[0m 1ms/step - accuracy: 0.5726 - loss: 0.9074 - val_accuracy: 0.5748 - val_loss: 0.9068\n",
      "Epoch 57/100\n",
      "\u001b[1m598/598\u001b[0m \u001b[32m━━━━━━━━━━━━━━━━━━━━\u001b[0m\u001b[37m\u001b[0m \u001b[1m1s\u001b[0m 2ms/step - accuracy: 0.5748 - loss: 0.9043 - val_accuracy: 0.5760 - val_loss: 0.9051\n",
      "Epoch 58/100\n",
      "\u001b[1m598/598\u001b[0m \u001b[32m━━━━━━━━━━━━━━━━━━━━\u001b[0m\u001b[37m\u001b[0m \u001b[1m1s\u001b[0m 1ms/step - accuracy: 0.5733 - loss: 0.9078 - val_accuracy: 0.5776 - val_loss: 0.9029\n",
      "Epoch 59/100\n",
      "\u001b[1m598/598\u001b[0m \u001b[32m━━━━━━━━━━━━━━━━━━━━\u001b[0m\u001b[37m\u001b[0m \u001b[1m1s\u001b[0m 1ms/step - accuracy: 0.5741 - loss: 0.9050 - val_accuracy: 0.5808 - val_loss: 0.9012\n",
      "Epoch 60/100\n",
      "\u001b[1m598/598\u001b[0m \u001b[32m━━━━━━━━━━━━━━━━━━━━\u001b[0m\u001b[37m\u001b[0m \u001b[1m1s\u001b[0m 1ms/step - accuracy: 0.5771 - loss: 0.8995 - val_accuracy: 0.5815 - val_loss: 0.8998\n",
      "Epoch 61/100\n",
      "\u001b[1m598/598\u001b[0m \u001b[32m━━━━━━━━━━━━━━━━━━━━\u001b[0m\u001b[37m\u001b[0m \u001b[1m1s\u001b[0m 1ms/step - accuracy: 0.5791 - loss: 0.8991 - val_accuracy: 0.5831 - val_loss: 0.8985\n",
      "Epoch 62/100\n",
      "\u001b[1m598/598\u001b[0m \u001b[32m━━━━━━━━━━━━━━━━━━━━\u001b[0m\u001b[37m\u001b[0m \u001b[1m1s\u001b[0m 1ms/step - accuracy: 0.5801 - loss: 0.8990 - val_accuracy: 0.5838 - val_loss: 0.8955\n",
      "Epoch 63/100\n",
      "\u001b[1m598/598\u001b[0m \u001b[32m━━━━━━━━━━━━━━━━━━━━\u001b[0m\u001b[37m\u001b[0m \u001b[1m1s\u001b[0m 1ms/step - accuracy: 0.5815 - loss: 0.8962 - val_accuracy: 0.5845 - val_loss: 0.8938\n",
      "Epoch 64/100\n",
      "\u001b[1m598/598\u001b[0m \u001b[32m━━━━━━━━━━━━━━━━━━━━\u001b[0m\u001b[37m\u001b[0m \u001b[1m1s\u001b[0m 1ms/step - accuracy: 0.5813 - loss: 0.8955 - val_accuracy: 0.5874 - val_loss: 0.8921\n",
      "Epoch 65/100\n",
      "\u001b[1m598/598\u001b[0m \u001b[32m━━━━━━━━━━━━━━━━━━━━\u001b[0m\u001b[37m\u001b[0m \u001b[1m1s\u001b[0m 1ms/step - accuracy: 0.5881 - loss: 0.8895 - val_accuracy: 0.5880 - val_loss: 0.8903\n",
      "Epoch 66/100\n",
      "\u001b[1m598/598\u001b[0m \u001b[32m━━━━━━━━━━━━━━━━━━━━\u001b[0m\u001b[37m\u001b[0m \u001b[1m1s\u001b[0m 1ms/step - accuracy: 0.5819 - loss: 0.8948 - val_accuracy: 0.5907 - val_loss: 0.8879\n",
      "Epoch 67/100\n",
      "\u001b[1m598/598\u001b[0m \u001b[32m━━━━━━━━━━━━━━━━━━━━\u001b[0m\u001b[37m\u001b[0m \u001b[1m1s\u001b[0m 2ms/step - accuracy: 0.5873 - loss: 0.8867 - val_accuracy: 0.5909 - val_loss: 0.8861\n",
      "Epoch 68/100\n",
      "\u001b[1m598/598\u001b[0m \u001b[32m━━━━━━━━━━━━━━━━━━━━\u001b[0m\u001b[37m\u001b[0m \u001b[1m1s\u001b[0m 1ms/step - accuracy: 0.5893 - loss: 0.8882 - val_accuracy: 0.5919 - val_loss: 0.8843\n",
      "Epoch 69/100\n",
      "\u001b[1m598/598\u001b[0m \u001b[32m━━━━━━━━━━━━━━━━━━━━\u001b[0m\u001b[37m\u001b[0m \u001b[1m1s\u001b[0m 1ms/step - accuracy: 0.5845 - loss: 0.8867 - val_accuracy: 0.5929 - val_loss: 0.8824\n",
      "Epoch 70/100\n",
      "\u001b[1m598/598\u001b[0m \u001b[32m━━━━━━━━━━━━━━━━━━━━\u001b[0m\u001b[37m\u001b[0m \u001b[1m1s\u001b[0m 1ms/step - accuracy: 0.5897 - loss: 0.8820 - val_accuracy: 0.5928 - val_loss: 0.8803\n",
      "Epoch 71/100\n",
      "\u001b[1m598/598\u001b[0m \u001b[32m━━━━━━━━━━━━━━━━━━━━\u001b[0m\u001b[37m\u001b[0m \u001b[1m1s\u001b[0m 1ms/step - accuracy: 0.5893 - loss: 0.8826 - val_accuracy: 0.5962 - val_loss: 0.8786\n",
      "Epoch 72/100\n",
      "\u001b[1m598/598\u001b[0m \u001b[32m━━━━━━━━━━━━━━━━━━━━\u001b[0m\u001b[37m\u001b[0m \u001b[1m1s\u001b[0m 1ms/step - accuracy: 0.5890 - loss: 0.8828 - val_accuracy: 0.5978 - val_loss: 0.8776\n",
      "Epoch 73/100\n",
      "\u001b[1m598/598\u001b[0m \u001b[32m━━━━━━━━━━━━━━━━━━━━\u001b[0m\u001b[37m\u001b[0m \u001b[1m1s\u001b[0m 1ms/step - accuracy: 0.5950 - loss: 0.8775 - val_accuracy: 0.5998 - val_loss: 0.8753\n",
      "Epoch 74/100\n",
      "\u001b[1m598/598\u001b[0m \u001b[32m━━━━━━━━━━━━━━━━━━━━\u001b[0m\u001b[37m\u001b[0m \u001b[1m1s\u001b[0m 1ms/step - accuracy: 0.5965 - loss: 0.8749 - val_accuracy: 0.6002 - val_loss: 0.8738\n",
      "Epoch 75/100\n",
      "\u001b[1m598/598\u001b[0m \u001b[32m━━━━━━━━━━━━━━━━━━━━\u001b[0m\u001b[37m\u001b[0m \u001b[1m1s\u001b[0m 1ms/step - accuracy: 0.5944 - loss: 0.8777 - val_accuracy: 0.6006 - val_loss: 0.8709\n",
      "Epoch 76/100\n",
      "\u001b[1m598/598\u001b[0m \u001b[32m━━━━━━━━━━━━━━━━━━━━\u001b[0m\u001b[37m\u001b[0m \u001b[1m1s\u001b[0m 2ms/step - accuracy: 0.5972 - loss: 0.8718 - val_accuracy: 0.6029 - val_loss: 0.8696\n",
      "Epoch 77/100\n",
      "\u001b[1m598/598\u001b[0m \u001b[32m━━━━━━━━━━━━━━━━━━━━\u001b[0m\u001b[37m\u001b[0m \u001b[1m1s\u001b[0m 1ms/step - accuracy: 0.5986 - loss: 0.8696 - val_accuracy: 0.6048 - val_loss: 0.8678\n",
      "Epoch 78/100\n",
      "\u001b[1m598/598\u001b[0m \u001b[32m━━━━━━━━━━━━━━━━━━━━\u001b[0m\u001b[37m\u001b[0m \u001b[1m1s\u001b[0m 1ms/step - accuracy: 0.6009 - loss: 0.8673 - val_accuracy: 0.6027 - val_loss: 0.8655\n",
      "Epoch 79/100\n",
      "\u001b[1m598/598\u001b[0m \u001b[32m━━━━━━━━━━━━━━━━━━━━\u001b[0m\u001b[37m\u001b[0m \u001b[1m1s\u001b[0m 1ms/step - accuracy: 0.6022 - loss: 0.8673 - val_accuracy: 0.6047 - val_loss: 0.8637\n",
      "Epoch 80/100\n",
      "\u001b[1m598/598\u001b[0m \u001b[32m━━━━━━━━━━━━━━━━━━━━\u001b[0m\u001b[37m\u001b[0m \u001b[1m1s\u001b[0m 1ms/step - accuracy: 0.6012 - loss: 0.8660 - val_accuracy: 0.6092 - val_loss: 0.8623\n",
      "Epoch 81/100\n",
      "\u001b[1m598/598\u001b[0m \u001b[32m━━━━━━━━━━━━━━━━━━━━\u001b[0m\u001b[37m\u001b[0m \u001b[1m1s\u001b[0m 1ms/step - accuracy: 0.6031 - loss: 0.8624 - val_accuracy: 0.6085 - val_loss: 0.8605\n",
      "Epoch 82/100\n",
      "\u001b[1m598/598\u001b[0m \u001b[32m━━━━━━━━━━━━━━━━━━━━\u001b[0m\u001b[37m\u001b[0m \u001b[1m1s\u001b[0m 1ms/step - accuracy: 0.6040 - loss: 0.8617 - val_accuracy: 0.6092 - val_loss: 0.8586\n",
      "Epoch 83/100\n",
      "\u001b[1m598/598\u001b[0m \u001b[32m━━━━━━━━━━━━━━━━━━━━\u001b[0m\u001b[37m\u001b[0m \u001b[1m1s\u001b[0m 1ms/step - accuracy: 0.6043 - loss: 0.8620 - val_accuracy: 0.6093 - val_loss: 0.8568\n",
      "Epoch 84/100\n",
      "\u001b[1m598/598\u001b[0m \u001b[32m━━━━━━━━━━━━━━━━━━━━\u001b[0m\u001b[37m\u001b[0m \u001b[1m1s\u001b[0m 1ms/step - accuracy: 0.6068 - loss: 0.8589 - val_accuracy: 0.6102 - val_loss: 0.8557\n",
      "Epoch 85/100\n",
      "\u001b[1m598/598\u001b[0m \u001b[32m━━━━━━━━━━━━━━━━━━━━\u001b[0m\u001b[37m\u001b[0m \u001b[1m1s\u001b[0m 1ms/step - accuracy: 0.6061 - loss: 0.8591 - val_accuracy: 0.6105 - val_loss: 0.8545\n",
      "Epoch 86/100\n",
      "\u001b[1m598/598\u001b[0m \u001b[32m━━━━━━━━━━━━━━━━━━━━\u001b[0m\u001b[37m\u001b[0m \u001b[1m1s\u001b[0m 1ms/step - accuracy: 0.6077 - loss: 0.8555 - val_accuracy: 0.6125 - val_loss: 0.8530\n",
      "Epoch 87/100\n",
      "\u001b[1m598/598\u001b[0m \u001b[32m━━━━━━━━━━━━━━━━━━━━\u001b[0m\u001b[37m\u001b[0m \u001b[1m1s\u001b[0m 1ms/step - accuracy: 0.6100 - loss: 0.8523 - val_accuracy: 0.6109 - val_loss: 0.8505\n",
      "Epoch 88/100\n",
      "\u001b[1m598/598\u001b[0m \u001b[32m━━━━━━━━━━━━━━━━━━━━\u001b[0m\u001b[37m\u001b[0m \u001b[1m1s\u001b[0m 1ms/step - accuracy: 0.6075 - loss: 0.8570 - val_accuracy: 0.6131 - val_loss: 0.8495\n",
      "Epoch 89/100\n",
      "\u001b[1m598/598\u001b[0m \u001b[32m━━━━━━━━━━━━━━━━━━━━\u001b[0m\u001b[37m\u001b[0m \u001b[1m1s\u001b[0m 1ms/step - accuracy: 0.6076 - loss: 0.8544 - val_accuracy: 0.6120 - val_loss: 0.8475\n",
      "Epoch 90/100\n",
      "\u001b[1m598/598\u001b[0m \u001b[32m━━━━━━━━━━━━━━━━━━━━\u001b[0m\u001b[37m\u001b[0m \u001b[1m1s\u001b[0m 1ms/step - accuracy: 0.6136 - loss: 0.8483 - val_accuracy: 0.6132 - val_loss: 0.8466\n",
      "Epoch 91/100\n",
      "\u001b[1m598/598\u001b[0m \u001b[32m━━━━━━━━━━━━━━━━━━━━\u001b[0m\u001b[37m\u001b[0m \u001b[1m1s\u001b[0m 1ms/step - accuracy: 0.6132 - loss: 0.8498 - val_accuracy: 0.6164 - val_loss: 0.8458\n",
      "Epoch 92/100\n",
      "\u001b[1m598/598\u001b[0m \u001b[32m━━━━━━━━━━━━━━━━━━━━\u001b[0m\u001b[37m\u001b[0m \u001b[1m1s\u001b[0m 1ms/step - accuracy: 0.6133 - loss: 0.8482 - val_accuracy: 0.6134 - val_loss: 0.8434\n",
      "Epoch 93/100\n",
      "\u001b[1m598/598\u001b[0m \u001b[32m━━━━━━━━━━━━━━━━━━━━\u001b[0m\u001b[37m\u001b[0m \u001b[1m1s\u001b[0m 1ms/step - accuracy: 0.6157 - loss: 0.8435 - val_accuracy: 0.6142 - val_loss: 0.8420\n",
      "Epoch 94/100\n",
      "\u001b[1m598/598\u001b[0m \u001b[32m━━━━━━━━━━━━━━━━━━━━\u001b[0m\u001b[37m\u001b[0m \u001b[1m1s\u001b[0m 1ms/step - accuracy: 0.6157 - loss: 0.8422 - val_accuracy: 0.6174 - val_loss: 0.8409\n",
      "Epoch 95/100\n",
      "\u001b[1m598/598\u001b[0m \u001b[32m━━━━━━━━━━━━━━━━━━━━\u001b[0m\u001b[37m\u001b[0m \u001b[1m1s\u001b[0m 1ms/step - accuracy: 0.6131 - loss: 0.8437 - val_accuracy: 0.6178 - val_loss: 0.8401\n",
      "Epoch 96/100\n",
      "\u001b[1m598/598\u001b[0m \u001b[32m━━━━━━━━━━━━━━━━━━━━\u001b[0m\u001b[37m\u001b[0m \u001b[1m1s\u001b[0m 1ms/step - accuracy: 0.6171 - loss: 0.8405 - val_accuracy: 0.6181 - val_loss: 0.8384\n",
      "Epoch 97/100\n",
      "\u001b[1m598/598\u001b[0m \u001b[32m━━━━━━━━━━━━━━━━━━━━\u001b[0m\u001b[37m\u001b[0m \u001b[1m1s\u001b[0m 1ms/step - accuracy: 0.6158 - loss: 0.8427 - val_accuracy: 0.6181 - val_loss: 0.8369\n",
      "Epoch 98/100\n",
      "\u001b[1m598/598\u001b[0m \u001b[32m━━━━━━━━━━━━━━━━━━━━\u001b[0m\u001b[37m\u001b[0m \u001b[1m1s\u001b[0m 1ms/step - accuracy: 0.6175 - loss: 0.8386 - val_accuracy: 0.6185 - val_loss: 0.8364\n",
      "Epoch 99/100\n",
      "\u001b[1m598/598\u001b[0m \u001b[32m━━━━━━━━━━━━━━━━━━━━\u001b[0m\u001b[37m\u001b[0m \u001b[1m1s\u001b[0m 1ms/step - accuracy: 0.6180 - loss: 0.8367 - val_accuracy: 0.6179 - val_loss: 0.8348\n",
      "Epoch 100/100\n",
      "\u001b[1m598/598\u001b[0m \u001b[32m━━━━━━━━━━━━━━━━━━━━\u001b[0m\u001b[37m\u001b[0m \u001b[1m1s\u001b[0m 1ms/step - accuracy: 0.6161 - loss: 0.8398 - val_accuracy: 0.6194 - val_loss: 0.8338\n",
      "\u001b[1m469/469\u001b[0m \u001b[32m━━━━━━━━━━━━━━━━━━━━\u001b[0m\u001b[37m\u001b[0m \u001b[1m1s\u001b[0m 1ms/step - accuracy: 0.6121 - loss: 0.8413\n",
      "Baseline Test Accuracy: 0.6134\n"
     ]
    },
    {
     "data": {
      "image/png": "[encoded data removed]",
      "text/plain": [
       "<Figure size 640x480 with 1 Axes>"
      ]
     },
     "metadata": {},
     "output_type": "display_data"
    }
   ],
   "source": [
    "\n",
    "history_baseline = baseline_model.fit(\n",
    "    X_train, y_train, epochs=100, batch_size=128, validation_split=0.1\n",
    ")\n",
    "baseline_loss, baseline_acc = baseline_model.evaluate(X_test, y_test)\n",
    "print(f'Baseline Test Accuracy: {baseline_acc:.4f}')\n",
    "plot_history(history_baseline, 'baseline_history.png')\n",
    "\n",
    "\n"
   ]
  },
  {
   "cell_type": "code",
   "execution_count": 12,
   "id": "f021b402",
   "metadata": {
    "executionInfo": {
     "elapsed": 5,
     "status": "ok",
     "timestamp": 1750696397703,
     "user": {
      "displayName": "Arun G.K",
      "userId": "17299480642687934593"
     },
     "user_tz": -330
    },
    "id": "f021b402"
   },
   "outputs": [],
   "source": [
    "\n",
    "# 4. Hyperparameter Tuning via Manual Grid Search\n",
    "configs = [\n",
    "    {'units': 30, 'activation': 'relu',    'optimizer': 'SGD',     'lr': 0.01,   'batch_size': 64,  'epochs': 50},\n",
    "    {'units': 50, 'activation': 'sigmoid', 'optimizer': 'SGD',     'lr': 0.01,   'batch_size': 128, 'epochs': 100},\n",
    "    {'units': 50, 'activation': 'relu',    'optimizer': 'Adam',    'lr': 0.001,  'batch_size': 64,  'epochs': 100},\n",
    "    {'units': 100,'activation': 'tanh',    'optimizer': 'RMSprop', 'lr': 0.001,  'batch_size': 128, 'epochs': 50},\n",
    "    {'units': 100,'activation': 'relu',    'optimizer': 'SGD',     'lr': 0.1,    'batch_size': 32,  'epochs': 100},\n",
    "    {'units': 30, 'activation': 'tanh',    'optimizer': 'Adam',    'lr': 0.01,   'batch_size': 32,  'epochs': 50},\n",
    "    {'units': 75, 'activation': 'relu',    'optimizer': 'RMSprop', 'lr': 0.0005, 'batch_size': 64,  'epochs': 75},\n",
    "    {'units': 60, 'activation': 'sigmoid', 'optimizer': 'Adam',    'lr': 0.005,  'batch_size': 128, 'epochs': 100},\n",
    "]\n",
    "\n",
    "\n"
   ]
  },
  {
   "cell_type": "code",
   "execution_count": 13,
   "id": "46d29310",
   "metadata": {
    "colab": {
     "base_uri": "https://localhost:8080/"
    },
    "id": "46d29310",
    "outputId": "2dbf6a45-8d40-4936-ac62-4c35d6d1a512"
   },
   "outputs": [
    {
     "name": "stdout",
     "output_type": "stream",
     "text": [
      "Config {'units': 30, 'activation': 'relu', 'optimizer': 'SGD', 'lr': 0.01, 'batch_size': 64, 'epochs': 50} -> Test Accuracy: 0.6318\n",
      "Config {'units': 50, 'activation': 'sigmoid', 'optimizer': 'SGD', 'lr': 0.01, 'batch_size': 128, 'epochs': 100} -> Test Accuracy: 0.6101\n",
      "Config {'units': 50, 'activation': 'relu', 'optimizer': 'Adam', 'lr': 0.001, 'batch_size': 64, 'epochs': 100} -> Test Accuracy: 0.6400\n",
      "Config {'units': 100, 'activation': 'tanh', 'optimizer': 'RMSprop', 'lr': 0.001, 'batch_size': 128, 'epochs': 50} -> Test Accuracy: 0.6321\n",
      "Config {'units': 100, 'activation': 'relu', 'optimizer': 'SGD', 'lr': 0.1, 'batch_size': 32, 'epochs': 100} -> Test Accuracy: 0.6377\n",
      "Config {'units': 30, 'activation': 'tanh', 'optimizer': 'Adam', 'lr': 0.01, 'batch_size': 32, 'epochs': 50} -> Test Accuracy: 0.6340\n",
      "Config {'units': 75, 'activation': 'relu', 'optimizer': 'RMSprop', 'lr': 0.0005, 'batch_size': 64, 'epochs': 75} -> Test Accuracy: 0.6381\n",
      "Config {'units': 60, 'activation': 'sigmoid', 'optimizer': 'Adam', 'lr': 0.005, 'batch_size': 128, 'epochs': 100} -> Test Accuracy: 0.6336\n"
     ]
    }
   ],
   "source": [
    "\n",
    "config_results = []\n",
    "for cfg in configs:\n",
    "    # Select optimizer\n",
    "    if cfg['optimizer'] == 'SGD':\n",
    "        opt = SGD(learning_rate=cfg['lr'])\n",
    "    elif cfg['optimizer'] == 'Adam':\n",
    "        opt = Adam(learning_rate=cfg['lr'])\n",
    "    else:\n",
    "        opt = RMSprop(learning_rate=cfg['lr'])\n",
    "    # Build model\n",
    "    model = Sequential([\n",
    "        Dense(cfg['units'], activation=cfg['activation'], input_shape=(X_train.shape[1],)),\n",
    "        Dense(3, activation='softmax')\n",
    "    ])\n",
    "    model.compile(\n",
    "        loss='sparse_categorical_crossentropy',\n",
    "        optimizer=opt,\n",
    "        metrics=['accuracy']\n",
    "    )\n",
    "    # Train\n",
    "    history = model.fit(\n",
    "        X_train, y_train,\n",
    "        epochs=cfg['epochs'],\n",
    "        batch_size=cfg['batch_size'],\n",
    "        validation_split=0.1,\n",
    "        verbose=0\n",
    "    )\n",
    "    # Evaluate\n",
    "    loss, acc = model.evaluate(X_test, y_test, verbose=0)\n",
    "    config_results.append((cfg, acc))\n",
    "    print(f\"Config {cfg} -> Test Accuracy: {acc:.4f}\")\n",
    "\n",
    "\n"
   ]
  },
  {
   "cell_type": "code",
   "execution_count": 14,
   "id": "ec4dbc86",
   "metadata": {
    "id": "ec4dbc86"
   },
   "outputs": [
    {
     "name": "stdout",
     "output_type": "stream",
     "text": [
      "Best Config: {'units': 50, 'activation': 'relu', 'optimizer': 'Adam', 'lr': 0.001, 'batch_size': 64, 'epochs': 100} with Accuracy: 0.6400\n"
     ]
    }
   ],
   "source": [
    "\n",
    "# Identify best configuration\n",
    "best_cfg, best_acc = max(config_results, key=lambda x: x[1])\n",
    "print(f\"Best Config: {best_cfg} with Accuracy: {best_acc:.4f}\")"
   ]
  },
  {
   "cell_type": "code",
   "execution_count": 15,
   "id": "f047c231",
   "metadata": {
    "id": "f047c231"
   },
   "outputs": [],
   "source": [
    "\n",
    "# 5. Improved Model with Best Configuration\n",
    "if best_cfg['optimizer'] == 'SGD':\n",
    "    opt = SGD(learning_rate=best_cfg['lr'])\n",
    "elif best_cfg['optimizer'] == 'Adam':\n",
    "    opt = Adam(learning_rate=best_cfg['lr'])\n",
    "else:\n",
    "    opt = RMSprop(learning_rate=best_cfg['lr'])\n",
    "\n",
    "\n"
   ]
  },
  {
   "cell_type": "code",
   "execution_count": 16,
   "id": "938e0549",
   "metadata": {
    "id": "938e0549"
   },
   "outputs": [
    {
     "name": "stdout",
     "output_type": "stream",
     "text": [
      "Epoch 1/100\n",
      "\u001b[1m1196/1196\u001b[0m \u001b[32m━━━━━━━━━━━━━━━━━━━━\u001b[0m\u001b[37m\u001b[0m \u001b[1m2s\u001b[0m 1ms/step - accuracy: 0.5186 - loss: 0.9700 - val_accuracy: 0.5724 - val_loss: 0.8931\n",
      "Epoch 2/100\n",
      "\u001b[1m1196/1196\u001b[0m \u001b[32m━━━━━━━━━━━━━━━━━━━━\u001b[0m\u001b[37m\u001b[0m \u001b[1m2s\u001b[0m 1ms/step - accuracy: 0.5872 - loss: 0.8786 - val_accuracy: 0.6142 - val_loss: 0.8348\n",
      "Epoch 3/100\n",
      "\u001b[1m1196/1196\u001b[0m \u001b[32m━━━━━━━━━━━━━━━━━━━━\u001b[0m\u001b[37m\u001b[0m \u001b[1m2s\u001b[0m 1ms/step - accuracy: 0.6188 - loss: 0.8311 - val_accuracy: 0.6294 - val_loss: 0.8099\n",
      "Epoch 4/100\n",
      "\u001b[1m1196/1196\u001b[0m \u001b[32m━━━━━━━━━━━━━━━━━━━━\u001b[0m\u001b[37m\u001b[0m \u001b[1m2s\u001b[0m 1ms/step - accuracy: 0.6303 - loss: 0.8131 - val_accuracy: 0.6325 - val_loss: 0.8016\n",
      "Epoch 5/100\n",
      "\u001b[1m1196/1196\u001b[0m \u001b[32m━━━━━━━━━━━━━━━━━━━━\u001b[0m\u001b[37m\u001b[0m \u001b[1m2s\u001b[0m 1ms/step - accuracy: 0.6311 - loss: 0.8095 - val_accuracy: 0.6294 - val_loss: 0.7999\n",
      "Epoch 6/100\n",
      "\u001b[1m1196/1196\u001b[0m \u001b[32m━━━━━━━━━━━━━━━━━━━━\u001b[0m\u001b[37m\u001b[0m \u001b[1m2s\u001b[0m 1ms/step - accuracy: 0.6359 - loss: 0.8039 - val_accuracy: 0.6376 - val_loss: 0.7992\n",
      "Epoch 7/100\n",
      "\u001b[1m1196/1196\u001b[0m \u001b[32m━━━━━━━━━━━━━━━━━━━━\u001b[0m\u001b[37m\u001b[0m \u001b[1m2s\u001b[0m 1ms/step - accuracy: 0.6371 - loss: 0.7995 - val_accuracy: 0.6335 - val_loss: 0.7962\n",
      "Epoch 8/100\n",
      "\u001b[1m1196/1196\u001b[0m \u001b[32m━━━━━━━━━━━━━━━━━━━━\u001b[0m\u001b[37m\u001b[0m \u001b[1m2s\u001b[0m 1ms/step - accuracy: 0.6365 - loss: 0.8021 - val_accuracy: 0.6349 - val_loss: 0.7949\n",
      "Epoch 9/100\n",
      "\u001b[1m1196/1196\u001b[0m \u001b[32m━━━━━━━━━━━━━━━━━━━━\u001b[0m\u001b[37m\u001b[0m \u001b[1m2s\u001b[0m 1ms/step - accuracy: 0.6407 - loss: 0.7993 - val_accuracy: 0.6345 - val_loss: 0.7956\n",
      "Epoch 10/100\n",
      "\u001b[1m1196/1196\u001b[0m \u001b[32m━━━━━━━━━━━━━━━━━━━━\u001b[0m\u001b[37m\u001b[0m \u001b[1m2s\u001b[0m 1ms/step - accuracy: 0.6370 - loss: 0.8036 - val_accuracy: 0.6326 - val_loss: 0.7953\n",
      "Epoch 11/100\n",
      "\u001b[1m1196/1196\u001b[0m \u001b[32m━━━━━━━━━━━━━━━━━━━━\u001b[0m\u001b[37m\u001b[0m \u001b[1m2s\u001b[0m 1ms/step - accuracy: 0.6405 - loss: 0.7997 - val_accuracy: 0.6375 - val_loss: 0.7943\n",
      "Epoch 12/100\n",
      "\u001b[1m1196/1196\u001b[0m \u001b[32m━━━━━━━━━━━━━━━━━━━━\u001b[0m\u001b[37m\u001b[0m \u001b[1m2s\u001b[0m 1ms/step - accuracy: 0.6394 - loss: 0.7982 - val_accuracy: 0.6359 - val_loss: 0.7940\n",
      "Epoch 13/100\n",
      "\u001b[1m1196/1196\u001b[0m \u001b[32m━━━━━━━━━━━━━━━━━━━━\u001b[0m\u001b[37m\u001b[0m \u001b[1m2s\u001b[0m 1ms/step - accuracy: 0.6353 - loss: 0.8064 - val_accuracy: 0.6382 - val_loss: 0.7946\n",
      "Epoch 14/100\n",
      "\u001b[1m1196/1196\u001b[0m \u001b[32m━━━━━━━━━━━━━━━━━━━━\u001b[0m\u001b[37m\u001b[0m \u001b[1m2s\u001b[0m 1ms/step - accuracy: 0.6378 - loss: 0.7999 - val_accuracy: 0.6352 - val_loss: 0.7972\n",
      "Epoch 15/100\n",
      "\u001b[1m1196/1196\u001b[0m \u001b[32m━━━━━━━━━━━━━━━━━━━━\u001b[0m\u001b[37m\u001b[0m \u001b[1m2s\u001b[0m 1ms/step - accuracy: 0.6350 - loss: 0.8002 - val_accuracy: 0.6392 - val_loss: 0.7938\n",
      "Epoch 16/100\n",
      "\u001b[1m1196/1196\u001b[0m \u001b[32m━━━━━━━━━━━━━━━━━━━━\u001b[0m\u001b[37m\u001b[0m \u001b[1m2s\u001b[0m 1ms/step - accuracy: 0.6373 - loss: 0.7995 - val_accuracy: 0.6375 - val_loss: 0.7916\n",
      "Epoch 17/100\n",
      "\u001b[1m1196/1196\u001b[0m \u001b[32m━━━━━━━━━━━━━━━━━━━━\u001b[0m\u001b[37m\u001b[0m \u001b[1m2s\u001b[0m 1ms/step - accuracy: 0.6398 - loss: 0.8007 - val_accuracy: 0.6394 - val_loss: 0.7906\n",
      "Epoch 18/100\n",
      "\u001b[1m1196/1196\u001b[0m \u001b[32m━━━━━━━━━━━━━━━━━━━━\u001b[0m\u001b[37m\u001b[0m \u001b[1m2s\u001b[0m 1ms/step - accuracy: 0.6394 - loss: 0.7993 - val_accuracy: 0.6409 - val_loss: 0.7909\n",
      "Epoch 19/100\n",
      "\u001b[1m1196/1196\u001b[0m \u001b[32m━━━━━━━━━━━━━━━━━━━━\u001b[0m\u001b[37m\u001b[0m \u001b[1m2s\u001b[0m 1ms/step - accuracy: 0.6372 - loss: 0.8022 - val_accuracy: 0.6369 - val_loss: 0.7962\n",
      "Epoch 20/100\n",
      "\u001b[1m1196/1196\u001b[0m \u001b[32m━━━━━━━━━━━━━━━━━━━━\u001b[0m\u001b[37m\u001b[0m \u001b[1m2s\u001b[0m 1ms/step - accuracy: 0.6396 - loss: 0.8012 - val_accuracy: 0.6351 - val_loss: 0.7936\n",
      "Epoch 21/100\n",
      "\u001b[1m1196/1196\u001b[0m \u001b[32m━━━━━━━━━━━━━━━━━━━━\u001b[0m\u001b[37m\u001b[0m \u001b[1m2s\u001b[0m 1ms/step - accuracy: 0.6414 - loss: 0.7963 - val_accuracy: 0.6409 - val_loss: 0.7905\n",
      "Epoch 22/100\n",
      "\u001b[1m1196/1196\u001b[0m \u001b[32m━━━━━━━━━━━━━━━━━━━━\u001b[0m\u001b[37m\u001b[0m \u001b[1m2s\u001b[0m 1ms/step - accuracy: 0.6386 - loss: 0.7966 - val_accuracy: 0.6376 - val_loss: 0.7911\n",
      "Epoch 23/100\n",
      "\u001b[1m1196/1196\u001b[0m \u001b[32m━━━━━━━━━━━━━━━━━━━━\u001b[0m\u001b[37m\u001b[0m \u001b[1m2s\u001b[0m 1ms/step - accuracy: 0.6375 - loss: 0.7994 - val_accuracy: 0.6379 - val_loss: 0.7914\n",
      "Epoch 24/100\n",
      "\u001b[1m1196/1196\u001b[0m \u001b[32m━━━━━━━━━━━━━━━━━━━━\u001b[0m\u001b[37m\u001b[0m \u001b[1m2s\u001b[0m 1ms/step - accuracy: 0.6403 - loss: 0.7975 - val_accuracy: 0.6361 - val_loss: 0.7971\n",
      "Epoch 25/100\n",
      "\u001b[1m1196/1196\u001b[0m \u001b[32m━━━━━━━━━━━━━━━━━━━━\u001b[0m\u001b[37m\u001b[0m \u001b[1m2s\u001b[0m 1ms/step - accuracy: 0.6403 - loss: 0.7979 - val_accuracy: 0.6362 - val_loss: 0.7924\n",
      "Epoch 26/100\n",
      "\u001b[1m1196/1196\u001b[0m \u001b[32m━━━━━━━━━━━━━━━━━━━━\u001b[0m\u001b[37m\u001b[0m \u001b[1m2s\u001b[0m 1ms/step - accuracy: 0.6399 - loss: 0.7980 - val_accuracy: 0.6372 - val_loss: 0.7917\n",
      "Epoch 27/100\n",
      "\u001b[1m1196/1196\u001b[0m \u001b[32m━━━━━━━━━━━━━━━━━━━━\u001b[0m\u001b[37m\u001b[0m \u001b[1m2s\u001b[0m 1ms/step - accuracy: 0.6418 - loss: 0.7973 - val_accuracy: 0.6434 - val_loss: 0.7920\n",
      "Epoch 28/100\n",
      "\u001b[1m1196/1196\u001b[0m \u001b[32m━━━━━━━━━━━━━━━━━━━━\u001b[0m\u001b[37m\u001b[0m \u001b[1m2s\u001b[0m 1ms/step - accuracy: 0.6385 - loss: 0.8008 - val_accuracy: 0.6416 - val_loss: 0.7914\n",
      "Epoch 29/100\n",
      "\u001b[1m1196/1196\u001b[0m \u001b[32m━━━━━━━━━━━━━━━━━━━━\u001b[0m\u001b[37m\u001b[0m \u001b[1m2s\u001b[0m 1ms/step - accuracy: 0.6423 - loss: 0.7975 - val_accuracy: 0.6353 - val_loss: 0.7947\n",
      "Epoch 30/100\n",
      "\u001b[1m1196/1196\u001b[0m \u001b[32m━━━━━━━━━━━━━━━━━━━━\u001b[0m\u001b[37m\u001b[0m \u001b[1m2s\u001b[0m 1ms/step - accuracy: 0.6405 - loss: 0.7993 - val_accuracy: 0.6373 - val_loss: 0.7911\n",
      "Epoch 31/100\n",
      "\u001b[1m1196/1196\u001b[0m \u001b[32m━━━━━━━━━━━━━━━━━━━━\u001b[0m\u001b[37m\u001b[0m \u001b[1m2s\u001b[0m 1ms/step - accuracy: 0.6446 - loss: 0.7913 - val_accuracy: 0.6418 - val_loss: 0.7905\n",
      "Epoch 32/100\n",
      "\u001b[1m1196/1196\u001b[0m \u001b[32m━━━━━━━━━━━━━━━━━━━━\u001b[0m\u001b[37m\u001b[0m \u001b[1m2s\u001b[0m 1ms/step - accuracy: 0.6434 - loss: 0.7939 - val_accuracy: 0.6388 - val_loss: 0.7905\n",
      "Epoch 33/100\n",
      "\u001b[1m1196/1196\u001b[0m \u001b[32m━━━━━━━━━━━━━━━━━━━━\u001b[0m\u001b[37m\u001b[0m \u001b[1m2s\u001b[0m 1ms/step - accuracy: 0.6406 - loss: 0.7958 - val_accuracy: 0.6421 - val_loss: 0.7890\n",
      "Epoch 34/100\n",
      "\u001b[1m1196/1196\u001b[0m \u001b[32m━━━━━━━━━━━━━━━━━━━━\u001b[0m\u001b[37m\u001b[0m \u001b[1m2s\u001b[0m 1ms/step - accuracy: 0.6460 - loss: 0.7929 - val_accuracy: 0.6356 - val_loss: 0.7930\n",
      "Epoch 35/100\n",
      "\u001b[1m1196/1196\u001b[0m \u001b[32m━━━━━━━━━━━━━━━━━━━━\u001b[0m\u001b[37m\u001b[0m \u001b[1m2s\u001b[0m 1ms/step - accuracy: 0.6446 - loss: 0.7917 - val_accuracy: 0.6419 - val_loss: 0.7898\n",
      "Epoch 36/100\n",
      "\u001b[1m1196/1196\u001b[0m \u001b[32m━━━━━━━━━━━━━━━━━━━━\u001b[0m\u001b[37m\u001b[0m \u001b[1m2s\u001b[0m 1ms/step - accuracy: 0.6437 - loss: 0.7933 - val_accuracy: 0.6434 - val_loss: 0.7887\n",
      "Epoch 37/100\n",
      "\u001b[1m1196/1196\u001b[0m \u001b[32m━━━━━━━━━━━━━━━━━━━━\u001b[0m\u001b[37m\u001b[0m \u001b[1m2s\u001b[0m 1ms/step - accuracy: 0.6418 - loss: 0.7949 - val_accuracy: 0.6408 - val_loss: 0.7917\n",
      "Epoch 38/100\n",
      "\u001b[1m1196/1196\u001b[0m \u001b[32m━━━━━━━━━━━━━━━━━━━━\u001b[0m\u001b[37m\u001b[0m \u001b[1m2s\u001b[0m 1ms/step - accuracy: 0.6438 - loss: 0.7889 - val_accuracy: 0.6405 - val_loss: 0.7883\n",
      "Epoch 39/100\n",
      "\u001b[1m1196/1196\u001b[0m \u001b[32m━━━━━━━━━━━━━━━━━━━━\u001b[0m\u001b[37m\u001b[0m \u001b[1m2s\u001b[0m 1ms/step - accuracy: 0.6438 - loss: 0.7913 - val_accuracy: 0.6405 - val_loss: 0.7901\n",
      "Epoch 40/100\n",
      "\u001b[1m1196/1196\u001b[0m \u001b[32m━━━━━━━━━━━━━━━━━━━━\u001b[0m\u001b[37m\u001b[0m \u001b[1m2s\u001b[0m 1ms/step - accuracy: 0.6459 - loss: 0.7922 - val_accuracy: 0.6408 - val_loss: 0.7921\n",
      "Epoch 41/100\n",
      "\u001b[1m1196/1196\u001b[0m \u001b[32m━━━━━━━━━━━━━━━━━━━━\u001b[0m\u001b[37m\u001b[0m \u001b[1m2s\u001b[0m 1ms/step - accuracy: 0.6427 - loss: 0.7939 - val_accuracy: 0.6411 - val_loss: 0.7888\n",
      "Epoch 42/100\n",
      "\u001b[1m1196/1196\u001b[0m \u001b[32m━━━━━━━━━━━━━━━━━━━━\u001b[0m\u001b[37m\u001b[0m \u001b[1m2s\u001b[0m 1ms/step - accuracy: 0.6449 - loss: 0.7899 - val_accuracy: 0.6385 - val_loss: 0.7911\n",
      "Epoch 43/100\n",
      "\u001b[1m1196/1196\u001b[0m \u001b[32m━━━━━━━━━━━━━━━━━━━━\u001b[0m\u001b[37m\u001b[0m \u001b[1m2s\u001b[0m 1ms/step - accuracy: 0.6431 - loss: 0.7909 - val_accuracy: 0.6372 - val_loss: 0.7900\n",
      "Epoch 44/100\n",
      "\u001b[1m1196/1196\u001b[0m \u001b[32m━━━━━━━━━━━━━━━━━━━━\u001b[0m\u001b[37m\u001b[0m \u001b[1m2s\u001b[0m 1ms/step - accuracy: 0.6430 - loss: 0.7945 - val_accuracy: 0.6385 - val_loss: 0.7895\n",
      "Epoch 45/100\n",
      "\u001b[1m1196/1196\u001b[0m \u001b[32m━━━━━━━━━━━━━━━━━━━━\u001b[0m\u001b[37m\u001b[0m \u001b[1m2s\u001b[0m 1ms/step - accuracy: 0.6444 - loss: 0.7941 - val_accuracy: 0.6434 - val_loss: 0.7882\n",
      "Epoch 46/100\n",
      "\u001b[1m1196/1196\u001b[0m \u001b[32m━━━━━━━━━━━━━━━━━━━━\u001b[0m\u001b[37m\u001b[0m \u001b[1m2s\u001b[0m 1ms/step - accuracy: 0.6455 - loss: 0.7933 - val_accuracy: 0.6378 - val_loss: 0.7925\n",
      "Epoch 47/100\n",
      "\u001b[1m1196/1196\u001b[0m \u001b[32m━━━━━━━━━━━━━━━━━━━━\u001b[0m\u001b[37m\u001b[0m \u001b[1m2s\u001b[0m 1ms/step - accuracy: 0.6461 - loss: 0.7875 - val_accuracy: 0.6394 - val_loss: 0.7905\n",
      "Epoch 48/100\n",
      "\u001b[1m1196/1196\u001b[0m \u001b[32m━━━━━━━━━━━━━━━━━━━━\u001b[0m\u001b[37m\u001b[0m \u001b[1m2s\u001b[0m 1ms/step - accuracy: 0.6448 - loss: 0.7936 - val_accuracy: 0.6433 - val_loss: 0.7883\n",
      "Epoch 49/100\n",
      "\u001b[1m1196/1196\u001b[0m \u001b[32m━━━━━━━━━━━━━━━━━━━━\u001b[0m\u001b[37m\u001b[0m \u001b[1m2s\u001b[0m 1ms/step - accuracy: 0.6441 - loss: 0.7925 - val_accuracy: 0.6391 - val_loss: 0.7887\n",
      "Epoch 50/100\n",
      "\u001b[1m1196/1196\u001b[0m \u001b[32m━━━━━━━━━━━━━━━━━━━━\u001b[0m\u001b[37m\u001b[0m \u001b[1m2s\u001b[0m 1ms/step - accuracy: 0.6454 - loss: 0.7913 - val_accuracy: 0.6480 - val_loss: 0.7873\n",
      "Epoch 51/100\n",
      "\u001b[1m1196/1196\u001b[0m \u001b[32m━━━━━━━━━━━━━━━━━━━━\u001b[0m\u001b[37m\u001b[0m \u001b[1m2s\u001b[0m 1ms/step - accuracy: 0.6425 - loss: 0.7937 - val_accuracy: 0.6419 - val_loss: 0.7885\n",
      "Epoch 52/100\n",
      "\u001b[1m1196/1196\u001b[0m \u001b[32m━━━━━━━━━━━━━━━━━━━━\u001b[0m\u001b[37m\u001b[0m \u001b[1m2s\u001b[0m 1ms/step - accuracy: 0.6468 - loss: 0.7891 - val_accuracy: 0.6434 - val_loss: 0.7873\n",
      "Epoch 53/100\n",
      "\u001b[1m1196/1196\u001b[0m \u001b[32m━━━━━━━━━━━━━━━━━━━━\u001b[0m\u001b[37m\u001b[0m \u001b[1m2s\u001b[0m 1ms/step - accuracy: 0.6444 - loss: 0.7910 - val_accuracy: 0.6433 - val_loss: 0.7888\n",
      "Epoch 54/100\n",
      "\u001b[1m1196/1196\u001b[0m \u001b[32m━━━━━━━━━━━━━━━━━━━━\u001b[0m\u001b[37m\u001b[0m \u001b[1m2s\u001b[0m 1ms/step - accuracy: 0.6455 - loss: 0.7887 - val_accuracy: 0.6432 - val_loss: 0.7876\n",
      "Epoch 55/100\n",
      "\u001b[1m1196/1196\u001b[0m \u001b[32m━━━━━━━━━━━━━━━━━━━━\u001b[0m\u001b[37m\u001b[0m \u001b[1m2s\u001b[0m 1ms/step - accuracy: 0.6429 - loss: 0.7932 - val_accuracy: 0.6432 - val_loss: 0.7875\n",
      "Epoch 56/100\n",
      "\u001b[1m1196/1196\u001b[0m \u001b[32m━━━━━━━━━━━━━━━━━━━━\u001b[0m\u001b[37m\u001b[0m \u001b[1m2s\u001b[0m 1ms/step - accuracy: 0.6429 - loss: 0.7914 - val_accuracy: 0.6453 - val_loss: 0.7879\n",
      "Epoch 57/100\n",
      "\u001b[1m1196/1196\u001b[0m \u001b[32m━━━━━━━━━━━━━━━━━━━━\u001b[0m\u001b[37m\u001b[0m \u001b[1m2s\u001b[0m 1ms/step - accuracy: 0.6462 - loss: 0.7922 - val_accuracy: 0.6439 - val_loss: 0.7872\n",
      "Epoch 58/100\n",
      "\u001b[1m1196/1196\u001b[0m \u001b[32m━━━━━━━━━━━━━━━━━━━━\u001b[0m\u001b[37m\u001b[0m \u001b[1m2s\u001b[0m 1ms/step - accuracy: 0.6463 - loss: 0.7865 - val_accuracy: 0.6420 - val_loss: 0.7875\n",
      "Epoch 59/100\n",
      "\u001b[1m1196/1196\u001b[0m \u001b[32m━━━━━━━━━━━━━━━━━━━━\u001b[0m\u001b[37m\u001b[0m \u001b[1m2s\u001b[0m 1ms/step - accuracy: 0.6449 - loss: 0.7896 - val_accuracy: 0.6405 - val_loss: 0.7867\n",
      "Epoch 60/100\n",
      "\u001b[1m1196/1196\u001b[0m \u001b[32m━━━━━━━━━━━━━━━━━━━━\u001b[0m\u001b[37m\u001b[0m \u001b[1m2s\u001b[0m 1ms/step - accuracy: 0.6454 - loss: 0.7915 - val_accuracy: 0.6442 - val_loss: 0.7866\n",
      "Epoch 61/100\n",
      "\u001b[1m1196/1196\u001b[0m \u001b[32m━━━━━━━━━━━━━━━━━━━━\u001b[0m\u001b[37m\u001b[0m \u001b[1m2s\u001b[0m 1ms/step - accuracy: 0.6446 - loss: 0.7910 - val_accuracy: 0.6375 - val_loss: 0.7926\n",
      "Epoch 62/100\n",
      "\u001b[1m1196/1196\u001b[0m \u001b[32m━━━━━━━━━━━━━━━━━━━━\u001b[0m\u001b[37m\u001b[0m \u001b[1m2s\u001b[0m 1ms/step - accuracy: 0.6467 - loss: 0.7913 - val_accuracy: 0.6435 - val_loss: 0.7862\n",
      "Epoch 63/100\n",
      "\u001b[1m1196/1196\u001b[0m \u001b[32m━━━━━━━━━━━━━━━━━━━━\u001b[0m\u001b[37m\u001b[0m \u001b[1m2s\u001b[0m 1ms/step - accuracy: 0.6422 - loss: 0.7926 - val_accuracy: 0.6467 - val_loss: 0.7862\n",
      "Epoch 64/100\n",
      "\u001b[1m1196/1196\u001b[0m \u001b[32m━━━━━━━━━━━━━━━━━━━━\u001b[0m\u001b[37m\u001b[0m \u001b[1m2s\u001b[0m 1ms/step - accuracy: 0.6466 - loss: 0.7844 - val_accuracy: 0.6412 - val_loss: 0.7883\n",
      "Epoch 65/100\n",
      "\u001b[1m1196/1196\u001b[0m \u001b[32m━━━━━━━━━━━━━━━━━━━━\u001b[0m\u001b[37m\u001b[0m \u001b[1m2s\u001b[0m 1ms/step - accuracy: 0.6437 - loss: 0.7925 - val_accuracy: 0.6439 - val_loss: 0.7890\n",
      "Epoch 66/100\n",
      "\u001b[1m1196/1196\u001b[0m \u001b[32m━━━━━━━━━━━━━━━━━━━━\u001b[0m\u001b[37m\u001b[0m \u001b[1m2s\u001b[0m 1ms/step - accuracy: 0.6462 - loss: 0.7894 - val_accuracy: 0.6435 - val_loss: 0.7916\n",
      "Epoch 67/100\n",
      "\u001b[1m1196/1196\u001b[0m \u001b[32m━━━━━━━━━━━━━━━━━━━━\u001b[0m\u001b[37m\u001b[0m \u001b[1m2s\u001b[0m 1ms/step - accuracy: 0.6443 - loss: 0.7886 - val_accuracy: 0.6406 - val_loss: 0.7863\n",
      "Epoch 68/100\n",
      "\u001b[1m1196/1196\u001b[0m \u001b[32m━━━━━━━━━━━━━━━━━━━━\u001b[0m\u001b[37m\u001b[0m \u001b[1m2s\u001b[0m 1ms/step - accuracy: 0.6450 - loss: 0.7883 - val_accuracy: 0.6451 - val_loss: 0.7859\n",
      "Epoch 69/100\n",
      "\u001b[1m1196/1196\u001b[0m \u001b[32m━━━━━━━━━━━━━━━━━━━━\u001b[0m\u001b[37m\u001b[0m \u001b[1m2s\u001b[0m 1ms/step - accuracy: 0.6446 - loss: 0.7903 - val_accuracy: 0.6465 - val_loss: 0.7889\n",
      "Epoch 70/100\n",
      "\u001b[1m1196/1196\u001b[0m \u001b[32m━━━━━━━━━━━━━━━━━━━━\u001b[0m\u001b[37m\u001b[0m \u001b[1m2s\u001b[0m 1ms/step - accuracy: 0.6428 - loss: 0.7891 - val_accuracy: 0.6429 - val_loss: 0.7884\n",
      "Epoch 71/100\n",
      "\u001b[1m1196/1196\u001b[0m \u001b[32m━━━━━━━━━━━━━━━━━━━━\u001b[0m\u001b[37m\u001b[0m \u001b[1m2s\u001b[0m 1ms/step - accuracy: 0.6440 - loss: 0.7930 - val_accuracy: 0.6446 - val_loss: 0.7856\n",
      "Epoch 72/100\n",
      "\u001b[1m1196/1196\u001b[0m \u001b[32m━━━━━━━━━━━━━━━━━━━━\u001b[0m\u001b[37m\u001b[0m \u001b[1m2s\u001b[0m 1ms/step - accuracy: 0.6441 - loss: 0.7926 - val_accuracy: 0.6434 - val_loss: 0.7869\n",
      "Epoch 73/100\n",
      "\u001b[1m1196/1196\u001b[0m \u001b[32m━━━━━━━━━━━━━━━━━━━━\u001b[0m\u001b[37m\u001b[0m \u001b[1m2s\u001b[0m 1ms/step - accuracy: 0.6459 - loss: 0.7911 - val_accuracy: 0.6398 - val_loss: 0.7904\n",
      "Epoch 74/100\n",
      "\u001b[1m1196/1196\u001b[0m \u001b[32m━━━━━━━━━━━━━━━━━━━━\u001b[0m\u001b[37m\u001b[0m \u001b[1m2s\u001b[0m 1ms/step - accuracy: 0.6481 - loss: 0.7853 - val_accuracy: 0.6404 - val_loss: 0.7859\n",
      "Epoch 75/100\n",
      "\u001b[1m1196/1196\u001b[0m \u001b[32m━━━━━━━━━━━━━━━━━━━━\u001b[0m\u001b[37m\u001b[0m \u001b[1m2s\u001b[0m 1ms/step - accuracy: 0.6415 - loss: 0.7905 - val_accuracy: 0.6446 - val_loss: 0.7857\n",
      "Epoch 76/100\n",
      "\u001b[1m1196/1196\u001b[0m \u001b[32m━━━━━━━━━━━━━━━━━━━━\u001b[0m\u001b[37m\u001b[0m \u001b[1m2s\u001b[0m 1ms/step - accuracy: 0.6453 - loss: 0.7899 - val_accuracy: 0.6442 - val_loss: 0.7863\n",
      "Epoch 77/100\n",
      "\u001b[1m1196/1196\u001b[0m \u001b[32m━━━━━━━━━━━━━━━━━━━━\u001b[0m\u001b[37m\u001b[0m \u001b[1m2s\u001b[0m 2ms/step - accuracy: 0.6435 - loss: 0.7890 - val_accuracy: 0.6419 - val_loss: 0.7874\n",
      "Epoch 78/100\n",
      "\u001b[1m1196/1196\u001b[0m \u001b[32m━━━━━━━━━━━━━━━━━━━━\u001b[0m\u001b[37m\u001b[0m \u001b[1m2s\u001b[0m 1ms/step - accuracy: 0.6443 - loss: 0.7891 - val_accuracy: 0.6471 - val_loss: 0.7851\n",
      "Epoch 79/100\n",
      "\u001b[1m1196/1196\u001b[0m \u001b[32m━━━━━━━━━━━━━━━━━━━━\u001b[0m\u001b[37m\u001b[0m \u001b[1m2s\u001b[0m 1ms/step - accuracy: 0.6471 - loss: 0.7891 - val_accuracy: 0.6447 - val_loss: 0.7849\n",
      "Epoch 80/100\n",
      "\u001b[1m1196/1196\u001b[0m \u001b[32m━━━━━━━━━━━━━━━━━━━━\u001b[0m\u001b[37m\u001b[0m \u001b[1m2s\u001b[0m 1ms/step - accuracy: 0.6484 - loss: 0.7866 - val_accuracy: 0.6413 - val_loss: 0.7881\n",
      "Epoch 81/100\n",
      "\u001b[1m1196/1196\u001b[0m \u001b[32m━━━━━━━━━━━━━━━━━━━━\u001b[0m\u001b[37m\u001b[0m \u001b[1m2s\u001b[0m 2ms/step - accuracy: 0.6450 - loss: 0.7903 - val_accuracy: 0.6432 - val_loss: 0.7844\n",
      "Epoch 82/100\n",
      "\u001b[1m1196/1196\u001b[0m \u001b[32m━━━━━━━━━━━━━━━━━━━━\u001b[0m\u001b[37m\u001b[0m \u001b[1m2s\u001b[0m 1ms/step - accuracy: 0.6461 - loss: 0.7883 - val_accuracy: 0.6448 - val_loss: 0.7851\n",
      "Epoch 83/100\n",
      "\u001b[1m1196/1196\u001b[0m \u001b[32m━━━━━━━━━━━━━━━━━━━━\u001b[0m\u001b[37m\u001b[0m \u001b[1m2s\u001b[0m 1ms/step - accuracy: 0.6474 - loss: 0.7890 - val_accuracy: 0.6464 - val_loss: 0.7847\n",
      "Epoch 84/100\n",
      "\u001b[1m1196/1196\u001b[0m \u001b[32m━━━━━━━━━━━━━━━━━━━━\u001b[0m\u001b[37m\u001b[0m \u001b[1m2s\u001b[0m 1ms/step - accuracy: 0.6467 - loss: 0.7879 - val_accuracy: 0.6440 - val_loss: 0.7846\n",
      "Epoch 85/100\n",
      "\u001b[1m1196/1196\u001b[0m \u001b[32m━━━━━━━━━━━━━━━━━━━━\u001b[0m\u001b[37m\u001b[0m \u001b[1m2s\u001b[0m 1ms/step - accuracy: 0.6426 - loss: 0.7896 - val_accuracy: 0.6393 - val_loss: 0.7880\n",
      "Epoch 86/100\n",
      "\u001b[1m1196/1196\u001b[0m \u001b[32m━━━━━━━━━━━━━━━━━━━━\u001b[0m\u001b[37m\u001b[0m \u001b[1m2s\u001b[0m 1ms/step - accuracy: 0.6466 - loss: 0.7886 - val_accuracy: 0.6418 - val_loss: 0.7902\n",
      "Epoch 87/100\n",
      "\u001b[1m1196/1196\u001b[0m \u001b[32m━━━━━━━━━━━━━━━━━━━━\u001b[0m\u001b[37m\u001b[0m \u001b[1m2s\u001b[0m 1ms/step - accuracy: 0.6442 - loss: 0.7898 - val_accuracy: 0.6433 - val_loss: 0.7864\n",
      "Epoch 88/100\n",
      "\u001b[1m1196/1196\u001b[0m \u001b[32m━━━━━━━━━━━━━━━━━━━━\u001b[0m\u001b[37m\u001b[0m \u001b[1m2s\u001b[0m 1ms/step - accuracy: 0.6481 - loss: 0.7881 - val_accuracy: 0.6442 - val_loss: 0.7879\n",
      "Epoch 89/100\n",
      "\u001b[1m1196/1196\u001b[0m \u001b[32m━━━━━━━━━━━━━━━━━━━━\u001b[0m\u001b[37m\u001b[0m \u001b[1m2s\u001b[0m 1ms/step - accuracy: 0.6470 - loss: 0.7864 - val_accuracy: 0.6385 - val_loss: 0.7889\n",
      "Epoch 90/100\n",
      "\u001b[1m1196/1196\u001b[0m \u001b[32m━━━━━━━━━━━━━━━━━━━━\u001b[0m\u001b[37m\u001b[0m \u001b[1m2s\u001b[0m 1ms/step - accuracy: 0.6469 - loss: 0.7856 - val_accuracy: 0.6411 - val_loss: 0.7849\n",
      "Epoch 91/100\n",
      "\u001b[1m1196/1196\u001b[0m \u001b[32m━━━━━━━━━━━━━━━━━━━━\u001b[0m\u001b[37m\u001b[0m \u001b[1m2s\u001b[0m 1ms/step - accuracy: 0.6476 - loss: 0.7841 - val_accuracy: 0.6439 - val_loss: 0.7838\n",
      "Epoch 92/100\n",
      "\u001b[1m1196/1196\u001b[0m \u001b[32m━━━━━━━━━━━━━━━━━━━━\u001b[0m\u001b[37m\u001b[0m \u001b[1m2s\u001b[0m 1ms/step - accuracy: 0.6468 - loss: 0.7884 - val_accuracy: 0.6441 - val_loss: 0.7837\n",
      "Epoch 93/100\n",
      "\u001b[1m1196/1196\u001b[0m \u001b[32m━━━━━━━━━━━━━━━━━━━━\u001b[0m\u001b[37m\u001b[0m \u001b[1m2s\u001b[0m 1ms/step - accuracy: 0.6475 - loss: 0.7868 - val_accuracy: 0.6426 - val_loss: 0.7848\n",
      "Epoch 94/100\n",
      "\u001b[1m1196/1196\u001b[0m \u001b[32m━━━━━━━━━━━━━━━━━━━━\u001b[0m\u001b[37m\u001b[0m \u001b[1m2s\u001b[0m 1ms/step - accuracy: 0.6459 - loss: 0.7909 - val_accuracy: 0.6373 - val_loss: 0.7891\n",
      "Epoch 95/100\n",
      "\u001b[1m1196/1196\u001b[0m \u001b[32m━━━━━━━━━━━━━━━━━━━━\u001b[0m\u001b[37m\u001b[0m \u001b[1m2s\u001b[0m 1ms/step - accuracy: 0.6456 - loss: 0.7877 - val_accuracy: 0.6411 - val_loss: 0.7874\n",
      "Epoch 96/100\n",
      "\u001b[1m1196/1196\u001b[0m \u001b[32m━━━━━━━━━━━━━━━━━━━━\u001b[0m\u001b[37m\u001b[0m \u001b[1m2s\u001b[0m 1ms/step - accuracy: 0.6469 - loss: 0.7855 - val_accuracy: 0.6431 - val_loss: 0.7860\n",
      "Epoch 97/100\n",
      "\u001b[1m1196/1196\u001b[0m \u001b[32m━━━━━━━━━━━━━━━━━━━━\u001b[0m\u001b[37m\u001b[0m \u001b[1m2s\u001b[0m 1ms/step - accuracy: 0.6462 - loss: 0.7886 - val_accuracy: 0.6435 - val_loss: 0.7840\n",
      "Epoch 98/100\n",
      "\u001b[1m1196/1196\u001b[0m \u001b[32m━━━━━━━━━━━━━━━━━━━━\u001b[0m\u001b[37m\u001b[0m \u001b[1m2s\u001b[0m 1ms/step - accuracy: 0.6399 - loss: 0.7919 - val_accuracy: 0.6408 - val_loss: 0.7867\n",
      "Epoch 99/100\n",
      "\u001b[1m1196/1196\u001b[0m \u001b[32m━━━━━━━━━━━━━━━━━━━━\u001b[0m\u001b[37m\u001b[0m \u001b[1m2s\u001b[0m 1ms/step - accuracy: 0.6457 - loss: 0.7895 - val_accuracy: 0.6416 - val_loss: 0.7860\n",
      "Epoch 100/100\n",
      "\u001b[1m1196/1196\u001b[0m \u001b[32m━━━━━━━━━━━━━━━━━━━━\u001b[0m\u001b[37m\u001b[0m \u001b[1m2s\u001b[0m 1ms/step - accuracy: 0.6461 - loss: 0.7894 - val_accuracy: 0.6427 - val_loss: 0.7843\n",
      "\u001b[1m469/469\u001b[0m \u001b[32m━━━━━━━━━━━━━━━━━━━━\u001b[0m\u001b[37m\u001b[0m \u001b[1m1s\u001b[0m 1ms/step - accuracy: 0.6341 - loss: 0.7916\n",
      "Improved Model Test Accuracy: 0.6390\n"
     ]
    },
    {
     "data": {
      "image/png": "[encoded data removed]",
      "text/plain": [
       "<Figure size 640x480 with 1 Axes>"
      ]
     },
     "metadata": {},
     "output_type": "display_data"
    }
   ],
   "source": [
    "\n",
    "imp_model = Sequential([\n",
    "    Dense(best_cfg['units'], activation=best_cfg['activation'], input_shape=(X_train.shape[1],)),\n",
    "    Dense(3, activation='softmax')\n",
    "])\n",
    "imp_model.compile(\n",
    "    loss='sparse_categorical_crossentropy',\n",
    "    optimizer=opt,\n",
    "    metrics=['accuracy']\n",
    ")\n",
    "history_imp = imp_model.fit(\n",
    "    X_train, y_train,\n",
    "    epochs=best_cfg['epochs'],\n",
    "    batch_size=best_cfg['batch_size'],\n",
    "    validation_split=0.1\n",
    ")\n",
    "imp_loss, imp_acc = imp_model.evaluate(X_test, y_test)\n",
    "print(f'Improved Model Test Accuracy: {imp_acc:.4f}')\n",
    "plot_history(history_imp, 'improved_history.png')\n",
    "\n",
    "\n"
   ]
  },
  {
   "cell_type": "code",
   "execution_count": 17,
   "id": "b9990c93",
   "metadata": {
    "id": "b9990c93"
   },
   "outputs": [
    {
     "name": "stdout",
     "output_type": "stream",
     "text": [
      "Accuracy Comparison -> Baseline: 0.6134, Improved: 0.6390\n"
     ]
    }
   ],
   "source": [
    "\n",
    "print(f\"Accuracy Comparison -> Baseline: {baseline_acc:.4f}, Improved: {imp_acc:.4f}\")\n",
    "\n",
    "\n"
   ]
  },
  {
   "cell_type": "code",
   "execution_count": 2,
   "id": "4af55886",
   "metadata": {},
   "outputs": [
    {
     "name": "stdout",
     "output_type": "stream",
     "text": [
      "Collecting pandas\n",
      "  Downloading pandas-2.3.0-cp310-cp310-manylinux_2_17_x86_64.manylinux2014_x86_64.whl (12.3 MB)\n",
      "\u001b[2K     \u001b[38;2;114;156;31m━━━━━━━━━━━━━━━━━━━━━━━━━━━━━━━━━━━━━━━━\u001b[0m \u001b[32m12.3/12.3 MB\u001b[0m \u001b[31m3.3 MB/s\u001b[0m eta \u001b[36m0:00:00\u001b[0mm eta \u001b[36m0:00:01\u001b[0m[36m0:00:01\u001b[0m\n",
      "\u001b[?25hCollecting seaborn\n",
      "  Using cached seaborn-0.13.2-py3-none-any.whl (294 kB)\n",
      "Requirement already satisfied: python-dateutil>=2.8.2 in /home/section/sandman_venv_rocm/lib/python3.10/site-packages (from pandas) (2.9.0.post0)\n",
      "Requirement already satisfied: numpy>=1.22.4 in /home/section/sandman_venv_rocm/lib/python3.10/site-packages (from pandas) (2.1.2)\n",
      "Collecting pytz>=2020.1\n",
      "  Downloading pytz-2025.2-py2.py3-none-any.whl (509 kB)\n",
      "\u001b[2K     \u001b[38;2;114;156;31m━━━━━━━━━━━━━━━━━━━━━━━━━━━━━━━━━━━━━━━\u001b[0m \u001b[32m509.2/509.2 KB\u001b[0m \u001b[31m7.5 MB/s\u001b[0m eta \u001b[36m0:00:00\u001b[0m MB/s\u001b[0m eta \u001b[36m0:00:01\u001b[0m\n",
      "\u001b[?25hCollecting tzdata>=2022.7\n",
      "  Downloading tzdata-2025.2-py2.py3-none-any.whl (347 kB)\n",
      "\u001b[2K     \u001b[38;2;114;156;31m━━━━━━━━━━━━━━━━━━━━━━━━━━━━━━━━━━━━━━━\u001b[0m \u001b[32m347.8/347.8 KB\u001b[0m \u001b[31m2.2 MB/s\u001b[0m eta \u001b[36m0:00:00\u001b[0m[31m7.9 MB/s\u001b[0m eta \u001b[36m0:00:01\u001b[0m\n",
      "\u001b[?25hCollecting matplotlib!=3.6.1,>=3.4\n",
      "  Downloading matplotlib-3.10.3-cp310-cp310-manylinux_2_17_x86_64.manylinux2014_x86_64.whl (8.6 MB)\n",
      "\u001b[2K     \u001b[38;2;114;156;31m━━━━━━━━━━━━━━━━━━━━━━━━━━━━━━━━━━━━━━━━\u001b[0m \u001b[32m8.6/8.6 MB\u001b[0m \u001b[31m1.1 MB/s\u001b[0m eta \u001b[36m0:00:00\u001b[0mm eta \u001b[36m0:00:01\u001b[0m[36m0:00:01\u001b[0m0m\n",
      "\u001b[?25hCollecting fonttools>=4.22.0\n",
      "  Downloading fonttools-4.58.4-cp310-cp310-manylinux2014_x86_64.manylinux_2_17_x86_64.whl (4.8 MB)\n",
      "\u001b[2K     \u001b[38;2;114;156;31m━━━━━━━━━━━━━━━━━━━━━━━━━━━━━━━━━━━━━━━━\u001b[0m \u001b[32m4.8/4.8 MB\u001b[0m \u001b[31m3.2 MB/s\u001b[0m eta \u001b[36m0:00:00\u001b[0mm eta \u001b[36m0:00:01\u001b[0m0:01\u001b[0m:01\u001b[0m\n",
      "\u001b[?25hCollecting contourpy>=1.0.1\n",
      "  Downloading contourpy-1.3.2-cp310-cp310-manylinux_2_17_x86_64.manylinux2014_x86_64.whl (325 kB)\n",
      "\u001b[2K     \u001b[38;2;114;156;31m━━━━━━━━━━━━━━━━━━━━━━━━━━━━━━━━━━━━━━━\u001b[0m \u001b[32m325.0/325.0 KB\u001b[0m \u001b[31m3.4 MB/s\u001b[0m eta \u001b[36m0:00:00\u001b[0m[36m0:00:01\u001b[0mm eta \u001b[36m0:00:01\u001b[0m\n",
      "\u001b[?25hRequirement already satisfied: packaging>=20.0 in /home/section/sandman_venv_rocm/lib/python3.10/site-packages (from matplotlib!=3.6.1,>=3.4->seaborn) (25.0)\n",
      "Collecting kiwisolver>=1.3.1\n",
      "  Using cached kiwisolver-1.4.8-cp310-cp310-manylinux_2_12_x86_64.manylinux2010_x86_64.whl (1.6 MB)\n",
      "Requirement already satisfied: pillow>=8 in /home/section/sandman_venv_rocm/lib/python3.10/site-packages (from matplotlib!=3.6.1,>=3.4->seaborn) (11.0.0)\n",
      "Collecting cycler>=0.10\n",
      "  Using cached cycler-0.12.1-py3-none-any.whl (8.3 kB)\n",
      "Collecting pyparsing>=2.3.1\n",
      "  Downloading pyparsing-3.2.3-py3-none-any.whl (111 kB)\n",
      "\u001b[2K     \u001b[38;2;114;156;31m━━━━━━━━━━━━━━━━━━━━━━━━━━━━━━━━━━━━━━━\u001b[0m \u001b[32m111.1/111.1 KB\u001b[0m \u001b[31m5.3 MB/s\u001b[0m eta \u001b[36m0:00:00\u001b[0m\n",
      "\u001b[?25hRequirement already satisfied: six>=1.5 in /home/section/sandman_venv_rocm/lib/python3.10/site-packages (from python-dateutil>=2.8.2->pandas) (1.17.0)\n",
      "Installing collected packages: pytz, tzdata, pyparsing, kiwisolver, fonttools, cycler, contourpy, pandas, matplotlib, seaborn\n",
      "Successfully installed contourpy-1.3.2 cycler-0.12.1 fonttools-4.58.4 kiwisolver-1.4.8 matplotlib-3.10.3 pandas-2.3.0 pyparsing-3.2.3 pytz-2025.2 seaborn-0.13.2 tzdata-2025.2\n",
      "Note: you may need to restart the kernel to use updated packages.\n"
     ]
    }
   ],
   "source": [
    "pip install pandas seaborn"
   ]
  },
  {
   "cell_type": "code",
   "execution_count": 6,
   "id": "1a6b4c6f",
   "metadata": {},
   "outputs": [
    {
     "name": "stdout",
     "output_type": "stream",
     "text": [
      "Collecting optuna\n",
      "  Using cached optuna-4.4.0-py3-none-any.whl (395 kB)\n",
      "Collecting scikit-learn\n",
      "  Downloading scikit_learn-1.7.0-cp310-cp310-manylinux_2_17_x86_64.manylinux2014_x86_64.whl (12.9 MB)\n",
      "\u001b[2K     \u001b[38;2;114;156;31m━━━━━━━━━━━━━━━━━━━━━━━━━━━━━━━━━━━━━━━━\u001b[0m \u001b[32m12.9/12.9 MB\u001b[0m \u001b[31m3.5 MB/s\u001b[0m eta \u001b[36m0:00:00\u001b[0mm eta \u001b[36m0:00:01\u001b[0m[36m0:00:01\u001b[0mm\n",
      "\u001b[?25hCollecting tqdm\n",
      "  Using cached tqdm-4.67.1-py3-none-any.whl (78 kB)\n",
      "Collecting PyYAML\n",
      "  Using cached PyYAML-6.0.2-cp310-cp310-manylinux_2_17_x86_64.manylinux2014_x86_64.whl (751 kB)\n",
      "Collecting sqlalchemy>=1.4.2\n",
      "  Using cached sqlalchemy-2.0.41-cp310-cp310-manylinux_2_17_x86_64.manylinux2014_x86_64.whl (3.2 MB)\n",
      "Collecting alembic>=1.5.0\n",
      "  Downloading alembic-1.16.2-py3-none-any.whl (242 kB)\n",
      "\u001b[2K     \u001b[38;2;114;156;31m━━━━━━━━━━━━━━━━━━━━━━━━━━━━━━━━━━━━━━━\u001b[0m \u001b[32m242.7/242.7 KB\u001b[0m \u001b[31m3.2 MB/s\u001b[0m eta \u001b[36m0:00:00\u001b[0m[31m3.6 MB/s\u001b[0m eta \u001b[36m0:00:01\u001b[0m\n",
      "\u001b[?25hRequirement already satisfied: packaging>=20.0 in /home/section/sandman_venv_rocm/lib/python3.10/site-packages (from optuna) (25.0)\n",
      "Collecting colorlog\n",
      "  Using cached colorlog-6.9.0-py3-none-any.whl (11 kB)\n",
      "Requirement already satisfied: numpy in /home/section/sandman_venv_rocm/lib/python3.10/site-packages (from optuna) (2.1.2)\n",
      "Collecting threadpoolctl>=3.1.0\n",
      "  Downloading threadpoolctl-3.6.0-py3-none-any.whl (18 kB)\n",
      "Collecting joblib>=1.2.0\n",
      "  Downloading joblib-1.5.1-py3-none-any.whl (307 kB)\n",
      "\u001b[2K     \u001b[38;2;114;156;31m━━━━━━━━━━━━━━━━━━━━━━━━━━━━━━━━━━━━━━━\u001b[0m \u001b[32m307.7/307.7 KB\u001b[0m \u001b[31m2.4 MB/s\u001b[0m eta \u001b[36m0:00:00\u001b[0m[31m2.2 MB/s\u001b[0m eta \u001b[36m0:00:01\u001b[0m\n",
      "\u001b[?25hCollecting scipy>=1.8.0\n",
      "  Downloading scipy-1.15.3-cp310-cp310-manylinux_2_17_x86_64.manylinux2014_x86_64.whl (37.7 MB)\n",
      "\u001b[2K     \u001b[38;2;114;156;31m━━━━━━━━━━━━━━━━━━━━━━━━━━━━━━━━━━━━━━━━\u001b[0m \u001b[32m37.7/37.7 MB\u001b[0m \u001b[31m3.6 MB/s\u001b[0m eta \u001b[36m0:00:00\u001b[0mm eta \u001b[36m0:00:01\u001b[0m[36m0:00:01\u001b[0m\n",
      "\u001b[?25hRequirement already satisfied: typing-extensions>=4.12 in /home/section/sandman_venv_rocm/lib/python3.10/site-packages (from alembic>=1.5.0->optuna) (4.14.0)\n",
      "Collecting tomli\n",
      "  Using cached tomli-2.2.1-py3-none-any.whl (14 kB)\n",
      "Collecting Mako\n",
      "  Using cached mako-1.3.10-py3-none-any.whl (78 kB)\n",
      "Collecting greenlet>=1\n",
      "  Using cached greenlet-3.2.3-cp310-cp310-manylinux_2_24_x86_64.manylinux_2_28_x86_64.whl (582 kB)\n",
      "Requirement already satisfied: MarkupSafe>=0.9.2 in /home/section/sandman_venv_rocm/lib/python3.10/site-packages (from Mako->alembic>=1.5.0->optuna) (2.1.5)\n",
      "Installing collected packages: tqdm, tomli, threadpoolctl, scipy, PyYAML, Mako, joblib, greenlet, colorlog, sqlalchemy, scikit-learn, alembic, optuna\n",
      "Successfully installed Mako-1.3.10 PyYAML-6.0.2 alembic-1.16.2 colorlog-6.9.0 greenlet-3.2.3 joblib-1.5.1 optuna-4.4.0 scikit-learn-1.7.0 scipy-1.15.3 sqlalchemy-2.0.41 threadpoolctl-3.6.0 tomli-2.2.1 tqdm-4.67.1\n",
      "Note: you may need to restart the kernel to use updated packages.\n"
     ]
    }
   ],
   "source": [
    "pip install optuna scikit-learn\n"
   ]
  },
  {
   "cell_type": "code",
   "execution_count": 18,
   "id": "8b15d207",
   "metadata": {
    "id": "8b15d207"
   },
   "outputs": [
    {
     "name": "stderr",
     "output_type": "stream",
     "text": [
      "WARNING:absl:You are saving your model as an HDF5 file via `model.save()` or `keras.saving.save_model(model)`. This file format is considered legacy. We recommend using instead the native Keras format, e.g. `model.save('my_model.keras')` or `keras.saving.save_model(model, 'my_model.keras')`. \n",
      "WARNING:absl:You are saving your model as an HDF5 file via `model.save()` or `keras.saving.save_model(model)`. This file format is considered legacy. We recommend using instead the native Keras format, e.g. `model.save('my_model.keras')` or `keras.saving.save_model(model, 'my_model.keras')`. \n"
     ]
    }
   ],
   "source": [
    "\n",
    "# Save models\n",
    "baseline_model.save('baseline_model.h5')\n",
    "imp_model.save('improved_model.h5')\n",
    "\n",
    "\n"
   ]
  },
  {
   "cell_type": "code",
   "execution_count": 19,
   "id": "374dcbef",
   "metadata": {
    "id": "374dcbef"
   },
   "outputs": [],
   "source": [
    "\n",
    "# Save final results to a CSV\n",
    "results_df = pd.DataFrame([\n",
    "    {\"model\": \"baseline\", \"accuracy\": baseline_acc},\n",
    "    {\"model\": \"improved\", \"accuracy\": imp_acc}\n",
    "])\n",
    "results_df.to_csv('model_comparison.csv', index=False)\n",
    "\n",
    "\n"
   ]
  },
  {
   "cell_type": "code",
   "execution_count": null,
   "id": "67c8e90f",
   "metadata": {},
   "outputs": [],
   "source": []
  }
 ],
 "metadata": {
  "accelerator": "GPU",
  "colab": {
   "gpuType": "T4",
   "provenance": []
  },
  "kernelspec": {
   "display_name": "sandman_venv_rocm",
   "language": "python",
   "name": "python3"
  },
  "language_info": {
   "codemirror_mode": {
    "name": "ipython",
    "version": 3
   },
   "file_extension": ".py",
   "mimetype": "text/x-python",
   "name": "python",
   "nbconvert_exporter": "python",
   "pygments_lexer": "ipython3",
   "version": "3.10.12"
  }
 },
 "nbformat": 4,
 "nbformat_minor": 5
}
