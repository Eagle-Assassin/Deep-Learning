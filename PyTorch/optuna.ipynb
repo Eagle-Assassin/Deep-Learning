{
 "cells": [
  {
   "cell_type": "code",
   "execution_count": 29,
   "id": "22b7717f",
   "metadata": {},
   "outputs": [
    {
     "data": {
      "text/html": [
       "<div>\n",
       "<style scoped>\n",
       "    .dataframe tbody tr th:only-of-type {\n",
       "        vertical-align: middle;\n",
       "    }\n",
       "\n",
       "    .dataframe tbody tr th {\n",
       "        vertical-align: top;\n",
       "    }\n",
       "\n",
       "    .dataframe thead th {\n",
       "        text-align: right;\n",
       "    }\n",
       "</style>\n",
       "<table border=\"1\" class=\"dataframe\">\n",
       "  <thead>\n",
       "    <tr style=\"text-align: right;\">\n",
       "      <th></th>\n",
       "      <th>Pregnancies</th>\n",
       "      <th>Glucose</th>\n",
       "      <th>BloodPressure</th>\n",
       "      <th>SkinThickness</th>\n",
       "      <th>Insulin</th>\n",
       "      <th>BMI</th>\n",
       "      <th>DiabetesPedigreeFunction</th>\n",
       "      <th>Age</th>\n",
       "      <th>Outcome</th>\n",
       "    </tr>\n",
       "  </thead>\n",
       "  <tbody>\n",
       "    <tr>\n",
       "      <th>0</th>\n",
       "      <td>6</td>\n",
       "      <td>148</td>\n",
       "      <td>72</td>\n",
       "      <td>35</td>\n",
       "      <td>0</td>\n",
       "      <td>33.6</td>\n",
       "      <td>0.627</td>\n",
       "      <td>50</td>\n",
       "      <td>1</td>\n",
       "    </tr>\n",
       "    <tr>\n",
       "      <th>1</th>\n",
       "      <td>1</td>\n",
       "      <td>85</td>\n",
       "      <td>66</td>\n",
       "      <td>29</td>\n",
       "      <td>0</td>\n",
       "      <td>26.6</td>\n",
       "      <td>0.351</td>\n",
       "      <td>31</td>\n",
       "      <td>0</td>\n",
       "    </tr>\n",
       "    <tr>\n",
       "      <th>2</th>\n",
       "      <td>8</td>\n",
       "      <td>183</td>\n",
       "      <td>64</td>\n",
       "      <td>0</td>\n",
       "      <td>0</td>\n",
       "      <td>23.3</td>\n",
       "      <td>0.672</td>\n",
       "      <td>32</td>\n",
       "      <td>1</td>\n",
       "    </tr>\n",
       "    <tr>\n",
       "      <th>3</th>\n",
       "      <td>1</td>\n",
       "      <td>89</td>\n",
       "      <td>66</td>\n",
       "      <td>23</td>\n",
       "      <td>94</td>\n",
       "      <td>28.1</td>\n",
       "      <td>0.167</td>\n",
       "      <td>21</td>\n",
       "      <td>0</td>\n",
       "    </tr>\n",
       "    <tr>\n",
       "      <th>4</th>\n",
       "      <td>0</td>\n",
       "      <td>137</td>\n",
       "      <td>40</td>\n",
       "      <td>35</td>\n",
       "      <td>168</td>\n",
       "      <td>43.1</td>\n",
       "      <td>2.288</td>\n",
       "      <td>33</td>\n",
       "      <td>1</td>\n",
       "    </tr>\n",
       "  </tbody>\n",
       "</table>\n",
       "</div>"
      ],
      "text/plain": [
       "   Pregnancies  Glucose  BloodPressure  SkinThickness  Insulin   BMI  \\\n",
       "0            6      148             72             35        0  33.6   \n",
       "1            1       85             66             29        0  26.6   \n",
       "2            8      183             64              0        0  23.3   \n",
       "3            1       89             66             23       94  28.1   \n",
       "4            0      137             40             35      168  43.1   \n",
       "\n",
       "   DiabetesPedigreeFunction  Age  Outcome  \n",
       "0                     0.627   50        1  \n",
       "1                     0.351   31        0  \n",
       "2                     0.672   32        1  \n",
       "3                     0.167   21        0  \n",
       "4                     2.288   33        1  "
      ]
     },
     "execution_count": 29,
     "metadata": {},
     "output_type": "execute_result"
    }
   ],
   "source": [
    "# Import necessary libraries\n",
    "import optuna\n",
    "from sklearn.datasets import load_diabetes\n",
    "from sklearn.model_selection import train_test_split\n",
    "from sklearn.preprocessing import StandardScaler\n",
    "\n",
    "# Load the Pima Indian Diabetes dataset from sklearn\n",
    "# Note: Scikit-learn's built-in 'load_diabetes' is a regression dataset.\n",
    "# We will load the actual diabetes dataset from an external source\n",
    "import pandas as pd\n",
    "\n",
    "# Load the Pima Indian Diabetes dataset (from UCI repository)\n",
    "url = \"https://raw.githubusercontent.com/jbrownlee/Datasets/master/pima-indians-diabetes.data.csv\"\n",
    "columns = ['Pregnancies', 'Glucose', 'BloodPressure', 'SkinThickness', 'Insulin', 'BMI',\n",
    "           'DiabetesPedigreeFunction', 'Age', 'Outcome']\n",
    "\n",
    "# Load the dataset\n",
    "df = pd.read_csv(url, names=columns)\n",
    "\n",
    "df.head()"
   ]
  },
  {
   "cell_type": "code",
   "execution_count": 2,
   "id": "0436b36c",
   "metadata": {},
   "outputs": [
    {
     "name": "stdout",
     "output_type": "stream",
     "text": [
      "Pregnancies                 0\n",
      "Glucose                     0\n",
      "BloodPressure               0\n",
      "SkinThickness               0\n",
      "Insulin                     0\n",
      "BMI                         0\n",
      "DiabetesPedigreeFunction    0\n",
      "Age                         0\n",
      "Outcome                     0\n",
      "dtype: int64\n"
     ]
    }
   ],
   "source": [
    "import numpy as np\n",
    "\n",
    "# Replace zero values with NaN in columns where zero is not a valid value\n",
    "cols_with_missing_vals = ['Glucose', 'BloodPressure', 'SkinThickness', 'Insulin', 'BMI']\n",
    "df[cols_with_missing_vals] = df[cols_with_missing_vals].replace(0, np.nan)\n",
    "\n",
    "# Impute the missing values with the mean of the respective column\n",
    "df.fillna(df.mean(), inplace=True)\n",
    "\n",
    "# Check if there are any remaining missing values\n",
    "print(df.isnull().sum())\n"
   ]
  },
  {
   "cell_type": "code",
   "execution_count": 3,
   "id": "71fb0833",
   "metadata": {},
   "outputs": [
    {
     "name": "stdout",
     "output_type": "stream",
     "text": [
      "Training set shape: (537, 8)\n",
      "Test set shape: (231, 8)\n"
     ]
    }
   ],
   "source": [
    "# Split into features (X) and target (y)\n",
    "X = df.drop('Outcome', axis=1)\n",
    "y = df['Outcome']\n",
    "\n",
    "# Split data into training and test sets (70% train, 30% test)\n",
    "X_train, X_test, y_train, y_test = train_test_split(X, y, test_size=0.3, random_state=42)\n",
    "\n",
    "# Optional: Scale the data for better model performance\n",
    "scaler = StandardScaler()\n",
    "X_train = scaler.fit_transform(X_train)\n",
    "X_test = scaler.transform(X_test)\n",
    "\n",
    "# Check the shape of the data\n",
    "print(f'Training set shape: {X_train.shape}')\n",
    "print(f'Test set shape: {X_test.shape}')\n"
   ]
  },
  {
   "cell_type": "code",
   "execution_count": 4,
   "id": "556c8774",
   "metadata": {},
   "outputs": [],
   "source": [
    "from sklearn.ensemble import RandomForestClassifier\n",
    "from sklearn.model_selection import cross_val_score\n",
    "\n",
    "#Define the objective Function\n",
    "def objective(trial):\n",
    "    n_estimators=trial.suggest_int('n_estimators',50,200)\n",
    "    max_depth=trial.suggest_int('max_depth',3,20)\n",
    "\n",
    "    #Create the randomForestClassifier with suggested hyperparameter\n",
    "    model=RandomForestClassifier(n_estimators=n_estimators,max_depth=max_depth,random_state=42)\n",
    "\n",
    "    #perform 3-fold cross-validation and calculate accuracy\n",
    "    score=cross_val_score(model,X_train,y_train,cv=3,scoring='accuracy').mean()\n",
    "\n",
    "    return score #Return the accuracy score for optuna to maximize\n",
    "\n",
    "\n",
    "\n"
   ]
  },
  {
   "cell_type": "code",
   "execution_count": 5,
   "id": "340423e0",
   "metadata": {},
   "outputs": [
    {
     "name": "stderr",
     "output_type": "stream",
     "text": [
      "[I 2025-06-11 15:49:16,209] A new study created in memory with name: no-name-1ed9c4bc-2bdd-4f1f-9e8b-91f10496bf7d\n",
      "[I 2025-06-11 15:49:16,871] Trial 0 finished with value: 0.7616387337057727 and parameters: {'n_estimators': 198, 'max_depth': 9}. Best is trial 0 with value: 0.7616387337057727.\n",
      "[I 2025-06-11 15:49:17,492] Trial 1 finished with value: 0.7597765363128491 and parameters: {'n_estimators': 198, 'max_depth': 6}. Best is trial 0 with value: 0.7616387337057727.\n",
      "[I 2025-06-11 15:49:17,870] Trial 2 finished with value: 0.7690875232774674 and parameters: {'n_estimators': 103, 'max_depth': 7}. Best is trial 2 with value: 0.7690875232774674.\n",
      "[I 2025-06-11 15:49:18,510] Trial 3 finished with value: 0.7709497206703911 and parameters: {'n_estimators': 185, 'max_depth': 12}. Best is trial 3 with value: 0.7709497206703911.\n",
      "[I 2025-06-11 15:49:19,160] Trial 4 finished with value: 0.7672253258845437 and parameters: {'n_estimators': 185, 'max_depth': 15}. Best is trial 3 with value: 0.7709497206703911.\n",
      "[I 2025-06-11 15:49:19,564] Trial 5 finished with value: 0.7765363128491621 and parameters: {'n_estimators': 118, 'max_depth': 18}. Best is trial 5 with value: 0.7765363128491621.\n",
      "[I 2025-06-11 15:49:19,855] Trial 6 finished with value: 0.7672253258845437 and parameters: {'n_estimators': 86, 'max_depth': 8}. Best is trial 5 with value: 0.7765363128491621.\n",
      "[I 2025-06-11 15:49:20,536] Trial 7 finished with value: 0.7709497206703911 and parameters: {'n_estimators': 168, 'max_depth': 15}. Best is trial 5 with value: 0.7765363128491621.\n",
      "[I 2025-06-11 15:49:20,866] Trial 8 finished with value: 0.7746741154562384 and parameters: {'n_estimators': 89, 'max_depth': 20}. Best is trial 5 with value: 0.7765363128491621.\n",
      "[I 2025-06-11 15:49:21,573] Trial 9 finished with value: 0.7672253258845437 and parameters: {'n_estimators': 146, 'max_depth': 18}. Best is trial 5 with value: 0.7765363128491621.\n",
      "[I 2025-06-11 15:49:21,813] Trial 10 finished with value: 0.7541899441340782 and parameters: {'n_estimators': 61, 'max_depth': 3}. Best is trial 5 with value: 0.7765363128491621.\n",
      "[I 2025-06-11 15:49:22,230] Trial 11 finished with value: 0.7746741154562384 and parameters: {'n_estimators': 115, 'max_depth': 20}. Best is trial 5 with value: 0.7765363128491621.\n",
      "[I 2025-06-11 15:49:22,759] Trial 12 finished with value: 0.7746741154562383 and parameters: {'n_estimators': 137, 'max_depth': 20}. Best is trial 5 with value: 0.7765363128491621.\n",
      "[I 2025-06-11 15:49:23,062] Trial 13 finished with value: 0.7616387337057727 and parameters: {'n_estimators': 84, 'max_depth': 17}. Best is trial 5 with value: 0.7765363128491621.\n",
      "[I 2025-06-11 15:49:23,259] Trial 14 finished with value: 0.7690875232774674 and parameters: {'n_estimators': 52, 'max_depth': 13}. Best is trial 5 with value: 0.7765363128491621.\n",
      "[I 2025-06-11 15:49:23,603] Trial 15 finished with value: 0.7746741154562384 and parameters: {'n_estimators': 97, 'max_depth': 17}. Best is trial 5 with value: 0.7765363128491621.\n",
      "[I 2025-06-11 15:49:24,044] Trial 16 finished with value: 0.7765363128491621 and parameters: {'n_estimators': 128, 'max_depth': 19}. Best is trial 5 with value: 0.7765363128491621.\n",
      "[I 2025-06-11 15:49:24,504] Trial 17 finished with value: 0.7746741154562383 and parameters: {'n_estimators': 132, 'max_depth': 15}. Best is trial 5 with value: 0.7765363128491621.\n",
      "[I 2025-06-11 15:49:25,016] Trial 18 finished with value: 0.7672253258845437 and parameters: {'n_estimators': 148, 'max_depth': 18}. Best is trial 5 with value: 0.7765363128491621.\n",
      "[I 2025-06-11 15:49:25,423] Trial 19 finished with value: 0.7653631284916201 and parameters: {'n_estimators': 120, 'max_depth': 10}. Best is trial 5 with value: 0.7765363128491621.\n",
      "[I 2025-06-11 15:49:25,983] Trial 20 finished with value: 0.7709497206703911 and parameters: {'n_estimators': 165, 'max_depth': 13}. Best is trial 5 with value: 0.7765363128491621.\n",
      "[I 2025-06-11 15:49:26,264] Trial 21 finished with value: 0.7821229050279331 and parameters: {'n_estimators': 73, 'max_depth': 20}. Best is trial 21 with value: 0.7821229050279331.\n",
      "[I 2025-06-11 15:49:26,536] Trial 22 finished with value: 0.7783985102420857 and parameters: {'n_estimators': 74, 'max_depth': 18}. Best is trial 21 with value: 0.7821229050279331.\n",
      "[I 2025-06-11 15:49:26,803] Trial 23 finished with value: 0.7728119180633147 and parameters: {'n_estimators': 75, 'max_depth': 16}. Best is trial 21 with value: 0.7821229050279331.\n",
      "[I 2025-06-11 15:49:27,046] Trial 24 finished with value: 0.7783985102420857 and parameters: {'n_estimators': 67, 'max_depth': 18}. Best is trial 21 with value: 0.7821229050279331.\n",
      "[I 2025-06-11 15:49:27,290] Trial 25 finished with value: 0.7709497206703911 and parameters: {'n_estimators': 69, 'max_depth': 16}. Best is trial 21 with value: 0.7821229050279331.\n",
      "[I 2025-06-11 15:49:27,485] Trial 26 finished with value: 0.7746741154562384 and parameters: {'n_estimators': 53, 'max_depth': 19}. Best is trial 21 with value: 0.7821229050279331.\n",
      "[I 2025-06-11 15:49:27,743] Trial 27 finished with value: 0.7765363128491621 and parameters: {'n_estimators': 72, 'max_depth': 13}. Best is trial 21 with value: 0.7821229050279331.\n",
      "[I 2025-06-11 15:49:28,105] Trial 28 finished with value: 0.7746741154562384 and parameters: {'n_estimators': 103, 'max_depth': 17}. Best is trial 21 with value: 0.7821229050279331.\n",
      "[I 2025-06-11 15:49:28,339] Trial 29 finished with value: 0.7783985102420857 and parameters: {'n_estimators': 65, 'max_depth': 19}. Best is trial 21 with value: 0.7821229050279331.\n",
      "[I 2025-06-11 15:49:28,624] Trial 30 finished with value: 0.7635009310986964 and parameters: {'n_estimators': 81, 'max_depth': 10}. Best is trial 21 with value: 0.7821229050279331.\n",
      "[I 2025-06-11 15:49:28,851] Trial 31 finished with value: 0.7746741154562384 and parameters: {'n_estimators': 63, 'max_depth': 19}. Best is trial 21 with value: 0.7821229050279331.\n",
      "[I 2025-06-11 15:49:29,072] Trial 32 finished with value: 0.7765363128491621 and parameters: {'n_estimators': 61, 'max_depth': 20}. Best is trial 21 with value: 0.7821229050279331.\n",
      "[I 2025-06-11 15:49:29,404] Trial 33 finished with value: 0.7728119180633147 and parameters: {'n_estimators': 95, 'max_depth': 18}. Best is trial 21 with value: 0.7821229050279331.\n",
      "[I 2025-06-11 15:49:29,677] Trial 34 finished with value: 0.7709497206703911 and parameters: {'n_estimators': 77, 'max_depth': 16}. Best is trial 21 with value: 0.7821229050279331.\n",
      "[I 2025-06-11 15:49:30,023] Trial 35 finished with value: 0.7690875232774674 and parameters: {'n_estimators': 106, 'max_depth': 5}. Best is trial 21 with value: 0.7821229050279331.\n",
      "[I 2025-06-11 15:49:30,262] Trial 36 finished with value: 0.7690875232774674 and parameters: {'n_estimators': 66, 'max_depth': 19}. Best is trial 21 with value: 0.7821229050279331.\n",
      "[I 2025-06-11 15:49:30,480] Trial 37 finished with value: 0.7653631284916201 and parameters: {'n_estimators': 59, 'max_depth': 14}. Best is trial 21 with value: 0.7821229050279331.\n",
      "[I 2025-06-11 15:49:30,717] Trial 38 finished with value: 0.7728119180633147 and parameters: {'n_estimators': 50, 'max_depth': 17}. Best is trial 21 with value: 0.7821229050279331.\n",
      "[I 2025-06-11 15:49:31,040] Trial 39 finished with value: 0.7728119180633147 and parameters: {'n_estimators': 92, 'max_depth': 18}. Best is trial 21 with value: 0.7821229050279331.\n",
      "[I 2025-06-11 15:49:31,422] Trial 40 finished with value: 0.7672253258845437 and parameters: {'n_estimators': 110, 'max_depth': 11}. Best is trial 21 with value: 0.7821229050279331.\n",
      "[I 2025-06-11 15:49:31,712] Trial 41 finished with value: 0.7728119180633147 and parameters: {'n_estimators': 80, 'max_depth': 19}. Best is trial 21 with value: 0.7821229050279331.\n",
      "[I 2025-06-11 15:49:32,025] Trial 42 finished with value: 0.7765363128491621 and parameters: {'n_estimators': 87, 'max_depth': 18}. Best is trial 21 with value: 0.7821229050279331.\n",
      "[I 2025-06-11 15:49:32,292] Trial 43 finished with value: 0.7783985102420857 and parameters: {'n_estimators': 75, 'max_depth': 20}. Best is trial 21 with value: 0.7821229050279331.\n",
      "[I 2025-06-11 15:49:32,565] Trial 44 finished with value: 0.7746741154562384 and parameters: {'n_estimators': 76, 'max_depth': 20}. Best is trial 21 with value: 0.7821229050279331.\n",
      "[I 2025-06-11 15:49:32,824] Trial 45 finished with value: 0.7783985102420857 and parameters: {'n_estimators': 71, 'max_depth': 20}. Best is trial 21 with value: 0.7821229050279331.\n",
      "[I 2025-06-11 15:49:33,058] Trial 46 finished with value: 0.7690875232774674 and parameters: {'n_estimators': 58, 'max_depth': 19}. Best is trial 21 with value: 0.7821229050279331.\n",
      "[I 2025-06-11 15:49:33,325] Trial 47 finished with value: 0.7765363128491621 and parameters: {'n_estimators': 65, 'max_depth': 16}. Best is trial 21 with value: 0.7821229050279331.\n",
      "[I 2025-06-11 15:49:33,683] Trial 48 finished with value: 0.7746741154562384 and parameters: {'n_estimators': 97, 'max_depth': 17}. Best is trial 21 with value: 0.7821229050279331.\n",
      "[I 2025-06-11 15:49:33,990] Trial 49 finished with value: 0.7597765363128491 and parameters: {'n_estimators': 84, 'max_depth': 20}. Best is trial 21 with value: 0.7821229050279331.\n"
     ]
    }
   ],
   "source": [
    "#Create a study and optimize the objective function\n",
    "study=optuna.create_study(direction='maximize',sampler=optuna.samplers.TPESampler())  #We aim to maximize accuracy\n",
    "\n",
    "study.optimize(objective,n_trials=50) #Run 50 trials to find the best hyperparameters"
   ]
  },
  {
   "cell_type": "code",
   "execution_count": 6,
   "id": "8bf207f4",
   "metadata": {},
   "outputs": [
    {
     "name": "stdout",
     "output_type": "stream",
     "text": [
      "Best trial accuracy:0.7821229050279331\n",
      "Best hyperparameter:{'n_estimators': 73, 'max_depth': 20}\n"
     ]
    }
   ],
   "source": [
    "#Print Best Result\n",
    "print(f'Best trial accuracy:{study.best_trial.value}')\n",
    "print(f'Best hyperparameter:{study.best_trial.params}')"
   ]
  },
  {
   "cell_type": "code",
   "execution_count": 7,
   "id": "c999efc1",
   "metadata": {},
   "outputs": [
    {
     "name": "stdout",
     "output_type": "stream",
     "text": [
      "Test accuracy with best hyperparameters:0.75\n"
     ]
    }
   ],
   "source": [
    "from sklearn.metrics import accuracy_score\n",
    "\n",
    "# Train a RandomForest Classifier using the best hyperparameters from optuna\n",
    "best_model=RandomForestClassifier(**study.best_trial.params,random_state=42)\n",
    "\n",
    "#Fit the model to the training data\n",
    "best_model.fit(X_train,y_train)\n",
    "\n",
    "#Make predictions on the test set\n",
    "y_pred=best_model.predict(X_test)\n",
    "\n",
    "#Calculate the accuracy on the test set\n",
    "test_accuracy=accuracy_score(y_test,y_pred)\n",
    "\n",
    "#print the test accuracy\n",
    "print(f'Test accuracy with best hyperparameters:{test_accuracy:.2f}')"
   ]
  },
  {
   "cell_type": "code",
   "execution_count": null,
   "id": "378140dd",
   "metadata": {},
   "outputs": [
    {
     "name": "stderr",
     "output_type": "stream",
     "text": [
      "[I 2025-06-11 15:37:36,605] A new study created in memory with name: no-name-3c04e073-9816-4f2c-98d8-dcd8fe6d529b\n",
      "[I 2025-06-11 15:37:37,286] Trial 0 finished with value: 0.7765363128491621 and parameters: {'n_estimators': 183, 'max_depth': 16}. Best is trial 0 with value: 0.7765363128491621.\n",
      "[I 2025-06-11 15:37:37,835] Trial 1 finished with value: 0.7690875232774674 and parameters: {'n_estimators': 155, 'max_depth': 14}. Best is trial 0 with value: 0.7765363128491621.\n",
      "[I 2025-06-11 15:37:38,430] Trial 2 finished with value: 0.7765363128491621 and parameters: {'n_estimators': 168, 'max_depth': 16}. Best is trial 0 with value: 0.7765363128491621.\n",
      "[I 2025-06-11 15:37:38,675] Trial 3 finished with value: 0.7783985102420857 and parameters: {'n_estimators': 65, 'max_depth': 19}. Best is trial 3 with value: 0.7783985102420857.\n",
      "[I 2025-06-11 15:37:39,108] Trial 4 finished with value: 0.7709497206703911 and parameters: {'n_estimators': 104, 'max_depth': 18}. Best is trial 3 with value: 0.7783985102420857.\n",
      "[I 2025-06-11 15:37:39,840] Trial 5 finished with value: 0.7709497206703911 and parameters: {'n_estimators': 194, 'max_depth': 7}. Best is trial 3 with value: 0.7783985102420857.\n",
      "[I 2025-06-11 15:37:40,501] Trial 6 finished with value: 0.7728119180633147 and parameters: {'n_estimators': 184, 'max_depth': 15}. Best is trial 3 with value: 0.7783985102420857.\n",
      "[I 2025-06-11 15:37:41,130] Trial 7 finished with value: 0.7746741154562384 and parameters: {'n_estimators': 186, 'max_depth': 19}. Best is trial 3 with value: 0.7783985102420857.\n",
      "[I 2025-06-11 15:37:41,354] Trial 8 finished with value: 0.7616387337057727 and parameters: {'n_estimators': 62, 'max_depth': 12}. Best is trial 3 with value: 0.7783985102420857.\n",
      "[I 2025-06-11 15:37:41,865] Trial 9 finished with value: 0.7616387337057727 and parameters: {'n_estimators': 148, 'max_depth': 9}. Best is trial 3 with value: 0.7783985102420857.\n",
      "[I 2025-06-11 15:37:42,243] Trial 10 finished with value: 0.7672253258845437 and parameters: {'n_estimators': 112, 'max_depth': 11}. Best is trial 3 with value: 0.7783985102420857.\n",
      "[I 2025-06-11 15:37:42,531] Trial 11 finished with value: 0.7690875232774674 and parameters: {'n_estimators': 82, 'max_depth': 13}. Best is trial 3 with value: 0.7783985102420857.\n",
      "[I 2025-06-11 15:37:42,926] Trial 12 finished with value: 0.7616387337057727 and parameters: {'n_estimators': 128, 'max_depth': 4}. Best is trial 3 with value: 0.7783985102420857.\n",
      "[I 2025-06-11 15:37:43,531] Trial 13 finished with value: 0.7672253258845437 and parameters: {'n_estimators': 174, 'max_depth': 11}. Best is trial 3 with value: 0.7783985102420857.\n",
      "[I 2025-06-11 15:37:44,018] Trial 14 finished with value: 0.7523277467411545 and parameters: {'n_estimators': 163, 'max_depth': 3}. Best is trial 3 with value: 0.7783985102420857.\n",
      "[I 2025-06-11 15:37:44,663] Trial 15 finished with value: 0.7783985102420856 and parameters: {'n_estimators': 190, 'max_depth': 16}. Best is trial 3 with value: 0.7783985102420857.\n",
      "[I 2025-06-11 15:37:45,109] Trial 16 finished with value: 0.7709497206703911 and parameters: {'n_estimators': 119, 'max_depth': 12}. Best is trial 3 with value: 0.7783985102420857.\n",
      "[I 2025-06-11 15:37:45,668] Trial 17 finished with value: 0.7709497206703911 and parameters: {'n_estimators': 158, 'max_depth': 13}. Best is trial 3 with value: 0.7783985102420857.\n",
      "[I 2025-06-11 15:37:46,122] Trial 18 finished with value: 0.7728119180633147 and parameters: {'n_estimators': 137, 'max_depth': 8}. Best is trial 3 with value: 0.7783985102420857.\n",
      "[I 2025-06-11 15:37:46,649] Trial 19 finished with value: 0.7746741154562384 and parameters: {'n_estimators': 145, 'max_depth': 17}. Best is trial 3 with value: 0.7783985102420857.\n",
      "[I 2025-06-11 15:37:47,027] Trial 20 finished with value: 0.7690875232774674 and parameters: {'n_estimators': 100, 'max_depth': 16}. Best is trial 3 with value: 0.7783985102420857.\n",
      "[I 2025-06-11 15:37:47,692] Trial 21 finished with value: 0.7709497206703911 and parameters: {'n_estimators': 186, 'max_depth': 11}. Best is trial 3 with value: 0.7783985102420857.\n",
      "[I 2025-06-11 15:37:48,162] Trial 22 finished with value: 0.7616387337057727 and parameters: {'n_estimators': 131, 'max_depth': 4}. Best is trial 3 with value: 0.7783985102420857.\n",
      "[I 2025-06-11 15:37:48,785] Trial 23 finished with value: 0.7728119180633147 and parameters: {'n_estimators': 140, 'max_depth': 15}. Best is trial 3 with value: 0.7783985102420857.\n",
      "[I 2025-06-11 15:37:49,144] Trial 24 finished with value: 0.7672253258845437 and parameters: {'n_estimators': 99, 'max_depth': 15}. Best is trial 3 with value: 0.7783985102420857.\n",
      "[I 2025-06-11 15:37:49,474] Trial 25 finished with value: 0.7635009310986964 and parameters: {'n_estimators': 78, 'max_depth': 4}. Best is trial 3 with value: 0.7783985102420857.\n",
      "[I 2025-06-11 15:37:49,703] Trial 26 finished with value: 0.7746741154562384 and parameters: {'n_estimators': 58, 'max_depth': 16}. Best is trial 3 with value: 0.7783985102420857.\n",
      "[I 2025-06-11 15:37:50,359] Trial 27 finished with value: 0.7765363128491621 and parameters: {'n_estimators': 196, 'max_depth': 15}. Best is trial 3 with value: 0.7783985102420857.\n",
      "[I 2025-06-11 15:37:51,079] Trial 28 finished with value: 0.7783985102420856 and parameters: {'n_estimators': 195, 'max_depth': 16}. Best is trial 3 with value: 0.7783985102420857.\n",
      "[I 2025-06-11 15:37:51,658] Trial 29 finished with value: 0.7635009310986964 and parameters: {'n_estimators': 152, 'max_depth': 11}. Best is trial 3 with value: 0.7783985102420857.\n",
      "[I 2025-06-11 15:37:51,937] Trial 30 finished with value: 0.7709497206703911 and parameters: {'n_estimators': 81, 'max_depth': 20}. Best is trial 3 with value: 0.7783985102420857.\n",
      "[I 2025-06-11 15:37:52,266] Trial 31 finished with value: 0.7653631284916201 and parameters: {'n_estimators': 97, 'max_depth': 10}. Best is trial 3 with value: 0.7783985102420857.\n",
      "[I 2025-06-11 15:37:52,750] Trial 32 finished with value: 0.7616387337057727 and parameters: {'n_estimators': 143, 'max_depth': 4}. Best is trial 3 with value: 0.7783985102420857.\n",
      "[I 2025-06-11 15:37:53,323] Trial 33 finished with value: 0.7728119180633147 and parameters: {'n_estimators': 171, 'max_depth': 15}. Best is trial 3 with value: 0.7783985102420857.\n",
      "[I 2025-06-11 15:37:53,843] Trial 34 finished with value: 0.756052141527002 and parameters: {'n_estimators': 172, 'max_depth': 3}. Best is trial 3 with value: 0.7783985102420857.\n",
      "[I 2025-06-11 15:37:54,294] Trial 35 finished with value: 0.7746741154562384 and parameters: {'n_estimators': 117, 'max_depth': 18}. Best is trial 3 with value: 0.7783985102420857.\n",
      "[I 2025-06-11 15:37:54,609] Trial 36 finished with value: 0.7597765363128491 and parameters: {'n_estimators': 91, 'max_depth': 6}. Best is trial 3 with value: 0.7783985102420857.\n",
      "[I 2025-06-11 15:37:55,052] Trial 37 finished with value: 0.7653631284916201 and parameters: {'n_estimators': 126, 'max_depth': 11}. Best is trial 3 with value: 0.7783985102420857.\n",
      "[I 2025-06-11 15:37:55,371] Trial 38 finished with value: 0.7690875232774674 and parameters: {'n_estimators': 85, 'max_depth': 18}. Best is trial 3 with value: 0.7783985102420857.\n",
      "[I 2025-06-11 15:37:55,974] Trial 39 finished with value: 0.7635009310986964 and parameters: {'n_estimators': 178, 'max_depth': 6}. Best is trial 3 with value: 0.7783985102420857.\n",
      "[I 2025-06-11 15:37:56,604] Trial 40 finished with value: 0.7597765363128491 and parameters: {'n_estimators': 194, 'max_depth': 3}. Best is trial 3 with value: 0.7783985102420857.\n",
      "[I 2025-06-11 15:37:57,079] Trial 41 finished with value: 0.7597765363128491 and parameters: {'n_estimators': 143, 'max_depth': 9}. Best is trial 3 with value: 0.7783985102420857.\n",
      "[I 2025-06-11 15:37:57,649] Trial 42 finished with value: 0.7635009310986964 and parameters: {'n_estimators': 191, 'max_depth': 4}. Best is trial 3 with value: 0.7783985102420857.\n",
      "[I 2025-06-11 15:37:58,165] Trial 43 finished with value: 0.7709497206703911 and parameters: {'n_estimators': 152, 'max_depth': 10}. Best is trial 3 with value: 0.7783985102420857.\n",
      "[I 2025-06-11 15:37:58,562] Trial 44 finished with value: 0.7728119180633147 and parameters: {'n_estimators': 115, 'max_depth': 13}. Best is trial 3 with value: 0.7783985102420857.\n",
      "[I 2025-06-11 15:37:58,872] Trial 45 finished with value: 0.7746741154562384 and parameters: {'n_estimators': 81, 'max_depth': 16}. Best is trial 3 with value: 0.7783985102420857.\n",
      "[I 2025-06-11 15:37:59,126] Trial 46 finished with value: 0.7541899441340782 and parameters: {'n_estimators': 83, 'max_depth': 3}. Best is trial 3 with value: 0.7783985102420857.\n",
      "[I 2025-06-11 15:37:59,561] Trial 47 finished with value: 0.7765363128491619 and parameters: {'n_estimators': 130, 'max_depth': 16}. Best is trial 3 with value: 0.7783985102420857.\n",
      "[I 2025-06-11 15:37:59,832] Trial 48 finished with value: 0.7709497206703911 and parameters: {'n_estimators': 77, 'max_depth': 11}. Best is trial 3 with value: 0.7783985102420857.\n",
      "[I 2025-06-11 15:38:00,153] Trial 49 finished with value: 0.7579143389199254 and parameters: {'n_estimators': 94, 'max_depth': 6}. Best is trial 3 with value: 0.7783985102420857.\n"
     ]
    }
   ],
   "source": [
    "#Random Sampler\n",
    "\n",
    "\n",
    "#Create a study and optimize the objective function\n",
    "study=optuna.create_study(direction='maximize',sampler=optuna.samplers.RandomSampler())  #We aim to maximize accuracy\n",
    "\n",
    "study.optimize(objective,n_trials=50) #Run 50 trials to find the best hyperparameters"
   ]
  },
  {
   "cell_type": "code",
   "execution_count": 11,
   "id": "7e32db47",
   "metadata": {},
   "outputs": [
    {
     "name": "stdout",
     "output_type": "stream",
     "text": [
      "Test accuracy with best hyperparameters:0.76\n"
     ]
    }
   ],
   "source": [
    "from sklearn.metrics import accuracy_score\n",
    "\n",
    "# Train a RandomForest Classifier using the best hyperparameters from optuna\n",
    "best_model=RandomForestClassifier(**study.best_trial.params,random_state=42)\n",
    "\n",
    "#Fit the model to the training data\n",
    "best_model.fit(X_train,y_train)\n",
    "\n",
    "#Make predictions on the test set\n",
    "y_pred=best_model.predict(X_test)\n",
    "\n",
    "#Calculate the accuracy on the test set\n",
    "test_accuracy=accuracy_score(y_test,y_pred)\n",
    "\n",
    "#print the test accuracy\n",
    "print(f'Test accuracy with best hyperparameters:{test_accuracy:.2f}')"
   ]
  },
  {
   "cell_type": "code",
   "execution_count": 14,
   "id": "162ae5d3",
   "metadata": {},
   "outputs": [
    {
     "name": "stderr",
     "output_type": "stream",
     "text": [
      "[I 2025-06-11 15:42:00,326] A new study created in memory with name: no-name-69e83283-6bfd-4b49-bcd5-48c075f3febc\n",
      "[I 2025-06-11 15:42:00,659] Trial 0 finished with value: 0.7690875232774674 and parameters: {'n_estimators': 100, 'max_depth': 5}. Best is trial 0 with value: 0.7690875232774674.\n",
      "[I 2025-06-11 15:42:01,182] Trial 1 finished with value: 0.7672253258845437 and parameters: {'n_estimators': 150, 'max_depth': 10}. Best is trial 0 with value: 0.7690875232774674.\n",
      "[I 2025-06-11 15:42:01,357] Trial 2 finished with value: 0.7728119180633147 and parameters: {'n_estimators': 50, 'max_depth': 15}. Best is trial 2 with value: 0.7728119180633147.\n",
      "[I 2025-06-11 15:42:01,745] Trial 3 finished with value: 0.7653631284916201 and parameters: {'n_estimators': 100, 'max_depth': 15}. Best is trial 2 with value: 0.7728119180633147.\n",
      "[I 2025-06-11 15:42:02,115] Trial 4 finished with value: 0.7690875232774674 and parameters: {'n_estimators': 100, 'max_depth': 20}. Best is trial 2 with value: 0.7728119180633147.\n",
      "[I 2025-06-11 15:42:02,300] Trial 5 finished with value: 0.7579143389199254 and parameters: {'n_estimators': 50, 'max_depth': 10}. Best is trial 2 with value: 0.7728119180633147.\n",
      "[I 2025-06-11 15:42:02,783] Trial 6 finished with value: 0.7653631284916201 and parameters: {'n_estimators': 150, 'max_depth': 5}. Best is trial 2 with value: 0.7728119180633147.\n",
      "[I 2025-06-11 15:42:03,317] Trial 7 finished with value: 0.7728119180633147 and parameters: {'n_estimators': 150, 'max_depth': 20}. Best is trial 2 with value: 0.7728119180633147.\n",
      "[I 2025-06-11 15:42:03,863] Trial 8 finished with value: 0.7728119180633147 and parameters: {'n_estimators': 150, 'max_depth': 15}. Best is trial 2 with value: 0.7728119180633147.\n",
      "[I 2025-06-11 15:42:04,652] Trial 9 finished with value: 0.7709497206703911 and parameters: {'n_estimators': 200, 'max_depth': 10}. Best is trial 2 with value: 0.7728119180633147.\n",
      "[I 2025-06-11 15:42:05,338] Trial 10 finished with value: 0.7728119180633147 and parameters: {'n_estimators': 200, 'max_depth': 20}. Best is trial 2 with value: 0.7728119180633147.\n",
      "[I 2025-06-11 15:42:06,070] Trial 11 finished with value: 0.7728119180633147 and parameters: {'n_estimators': 200, 'max_depth': 15}. Best is trial 2 with value: 0.7728119180633147.\n",
      "[I 2025-06-11 15:42:06,697] Trial 12 finished with value: 0.7690875232774674 and parameters: {'n_estimators': 200, 'max_depth': 5}. Best is trial 2 with value: 0.7728119180633147.\n",
      "[I 2025-06-11 15:42:06,886] Trial 13 finished with value: 0.7746741154562384 and parameters: {'n_estimators': 50, 'max_depth': 5}. Best is trial 13 with value: 0.7746741154562384.\n",
      "[I 2025-06-11 15:42:07,264] Trial 14 finished with value: 0.7616387337057727 and parameters: {'n_estimators': 100, 'max_depth': 10}. Best is trial 13 with value: 0.7746741154562384.\n",
      "[I 2025-06-11 15:42:07,450] Trial 15 finished with value: 0.7709497206703911 and parameters: {'n_estimators': 50, 'max_depth': 20}. Best is trial 13 with value: 0.7746741154562384.\n"
     ]
    }
   ],
   "source": [
    "#Grid Search Sampler\n",
    "\n",
    "search_space={'n_estimators':[50,100,150,200],\n",
    "             'max_depth':[5,10,15,20]}\n",
    "\n",
    "study=optuna.create_study(direction='maximize',sampler=optuna.samplers.GridSampler(search_space)) \n",
    "\n",
    "study.optimize(objective)"
   ]
  },
  {
   "cell_type": "code",
   "execution_count": 15,
   "id": "4867640f",
   "metadata": {},
   "outputs": [
    {
     "name": "stdout",
     "output_type": "stream",
     "text": [
      "Test accuracy with best hyperparameters:0.74\n"
     ]
    }
   ],
   "source": [
    "from sklearn.metrics import accuracy_score\n",
    "\n",
    "# Train a RandomForest Classifier using the best hyperparameters from optuna\n",
    "best_model=RandomForestClassifier(**study.best_trial.params,random_state=42)\n",
    "\n",
    "#Fit the model to the training data\n",
    "best_model.fit(X_train,y_train)\n",
    "\n",
    "#Make predictions on the test set\n",
    "y_pred=best_model.predict(X_test)\n",
    "\n",
    "#Calculate the accuracy on the test set\n",
    "test_accuracy=accuracy_score(y_test,y_pred)\n",
    "\n",
    "#print the test accuracy\n",
    "print(f'Test accuracy with best hyperparameters:{test_accuracy:.2f}')"
   ]
  },
  {
   "cell_type": "code",
   "execution_count": 9,
   "id": "fc70b124",
   "metadata": {},
   "outputs": [],
   "source": [
    "from optuna.visualization import plot_optimization_history,plot_parallel_coordinate,plot_slice,plot_contour,plot_param_importances"
   ]
  },
  {
   "cell_type": "code",
   "execution_count": 10,
   "id": "60613059",
   "metadata": {},
   "outputs": [
    {
     "data": {
      "application/vnd.plotly.v1+json": {
       "config": {
        "plotlyServerURL": "https://plot.ly"
       },
       "data": [
        {
         "mode": "markers",
         "name": "Objective Value",
         "type": "scatter",
         "x": [
          0,
          1,
          2,
          3,
          4,
          5,
          6,
          7,
          8,
          9,
          10,
          11,
          12,
          13,
          14,
          15,
          16,
          17,
          18,
          19,
          20,
          21,
          22,
          23,
          24,
          25,
          26,
          27,
          28,
          29,
          30,
          31,
          32,
          33,
          34,
          35,
          36,
          37,
          38,
          39,
          40,
          41,
          42,
          43,
          44,
          45,
          46,
          47,
          48,
          49
         ],
         "y": [
          0.7616387337057727,
          0.7597765363128491,
          0.7690875232774674,
          0.7709497206703911,
          0.7672253258845437,
          0.7765363128491621,
          0.7672253258845437,
          0.7709497206703911,
          0.7746741154562384,
          0.7672253258845437,
          0.7541899441340782,
          0.7746741154562384,
          0.7746741154562383,
          0.7616387337057727,
          0.7690875232774674,
          0.7746741154562384,
          0.7765363128491621,
          0.7746741154562383,
          0.7672253258845437,
          0.7653631284916201,
          0.7709497206703911,
          0.7821229050279331,
          0.7783985102420857,
          0.7728119180633147,
          0.7783985102420857,
          0.7709497206703911,
          0.7746741154562384,
          0.7765363128491621,
          0.7746741154562384,
          0.7783985102420857,
          0.7635009310986964,
          0.7746741154562384,
          0.7765363128491621,
          0.7728119180633147,
          0.7709497206703911,
          0.7690875232774674,
          0.7690875232774674,
          0.7653631284916201,
          0.7728119180633147,
          0.7728119180633147,
          0.7672253258845437,
          0.7728119180633147,
          0.7765363128491621,
          0.7783985102420857,
          0.7746741154562384,
          0.7783985102420857,
          0.7690875232774674,
          0.7765363128491621,
          0.7746741154562384,
          0.7597765363128491
         ]
        },
        {
         "mode": "lines",
         "name": "Best Value",
         "type": "scatter",
         "x": [
          0,
          1,
          2,
          3,
          4,
          5,
          6,
          7,
          8,
          9,
          10,
          11,
          12,
          13,
          14,
          15,
          16,
          17,
          18,
          19,
          20,
          21,
          22,
          23,
          24,
          25,
          26,
          27,
          28,
          29,
          30,
          31,
          32,
          33,
          34,
          35,
          36,
          37,
          38,
          39,
          40,
          41,
          42,
          43,
          44,
          45,
          46,
          47,
          48,
          49
         ],
         "y": [
          0.7616387337057727,
          0.7616387337057727,
          0.7690875232774674,
          0.7709497206703911,
          0.7709497206703911,
          0.7765363128491621,
          0.7765363128491621,
          0.7765363128491621,
          0.7765363128491621,
          0.7765363128491621,
          0.7765363128491621,
          0.7765363128491621,
          0.7765363128491621,
          0.7765363128491621,
          0.7765363128491621,
          0.7765363128491621,
          0.7765363128491621,
          0.7765363128491621,
          0.7765363128491621,
          0.7765363128491621,
          0.7765363128491621,
          0.7821229050279331,
          0.7821229050279331,
          0.7821229050279331,
          0.7821229050279331,
          0.7821229050279331,
          0.7821229050279331,
          0.7821229050279331,
          0.7821229050279331,
          0.7821229050279331,
          0.7821229050279331,
          0.7821229050279331,
          0.7821229050279331,
          0.7821229050279331,
          0.7821229050279331,
          0.7821229050279331,
          0.7821229050279331,
          0.7821229050279331,
          0.7821229050279331,
          0.7821229050279331,
          0.7821229050279331,
          0.7821229050279331,
          0.7821229050279331,
          0.7821229050279331,
          0.7821229050279331,
          0.7821229050279331,
          0.7821229050279331,
          0.7821229050279331,
          0.7821229050279331,
          0.7821229050279331
         ]
        },
        {
         "marker": {
          "color": "#cccccc"
         },
         "mode": "markers",
         "name": "Infeasible Trial",
         "showlegend": false,
         "type": "scatter",
         "x": [],
         "y": []
        }
       ],
       "layout": {
        "template": {
         "data": {
          "bar": [
           {
            "error_x": {
             "color": "#2a3f5f"
            },
            "error_y": {
             "color": "#2a3f5f"
            },
            "marker": {
             "line": {
              "color": "#E5ECF6",
              "width": 0.5
             },
             "pattern": {
              "fillmode": "overlay",
              "size": 10,
              "solidity": 0.2
             }
            },
            "type": "bar"
           }
          ],
          "barpolar": [
           {
            "marker": {
             "line": {
              "color": "#E5ECF6",
              "width": 0.5
             },
             "pattern": {
              "fillmode": "overlay",
              "size": 10,
              "solidity": 0.2
             }
            },
            "type": "barpolar"
           }
          ],
          "carpet": [
           {
            "aaxis": {
             "endlinecolor": "#2a3f5f",
             "gridcolor": "white",
             "linecolor": "white",
             "minorgridcolor": "white",
             "startlinecolor": "#2a3f5f"
            },
            "baxis": {
             "endlinecolor": "#2a3f5f",
             "gridcolor": "white",
             "linecolor": "white",
             "minorgridcolor": "white",
             "startlinecolor": "#2a3f5f"
            },
            "type": "carpet"
           }
          ],
          "choropleth": [
           {
            "colorbar": {
             "outlinewidth": 0,
             "ticks": ""
            },
            "type": "choropleth"
           }
          ],
          "contour": [
           {
            "colorbar": {
             "outlinewidth": 0,
             "ticks": ""
            },
            "colorscale": [
             [
              0,
              "#0d0887"
             ],
             [
              0.1111111111111111,
              "#46039f"
             ],
             [
              0.2222222222222222,
              "#7201a8"
             ],
             [
              0.3333333333333333,
              "#9c179e"
             ],
             [
              0.4444444444444444,
              "#bd3786"
             ],
             [
              0.5555555555555556,
              "#d8576b"
             ],
             [
              0.6666666666666666,
              "#ed7953"
             ],
             [
              0.7777777777777778,
              "#fb9f3a"
             ],
             [
              0.8888888888888888,
              "#fdca26"
             ],
             [
              1,
              "#f0f921"
             ]
            ],
            "type": "contour"
           }
          ],
          "contourcarpet": [
           {
            "colorbar": {
             "outlinewidth": 0,
             "ticks": ""
            },
            "type": "contourcarpet"
           }
          ],
          "heatmap": [
           {
            "colorbar": {
             "outlinewidth": 0,
             "ticks": ""
            },
            "colorscale": [
             [
              0,
              "#0d0887"
             ],
             [
              0.1111111111111111,
              "#46039f"
             ],
             [
              0.2222222222222222,
              "#7201a8"
             ],
             [
              0.3333333333333333,
              "#9c179e"
             ],
             [
              0.4444444444444444,
              "#bd3786"
             ],
             [
              0.5555555555555556,
              "#d8576b"
             ],
             [
              0.6666666666666666,
              "#ed7953"
             ],
             [
              0.7777777777777778,
              "#fb9f3a"
             ],
             [
              0.8888888888888888,
              "#fdca26"
             ],
             [
              1,
              "#f0f921"
             ]
            ],
            "type": "heatmap"
           }
          ],
          "histogram": [
           {
            "marker": {
             "pattern": {
              "fillmode": "overlay",
              "size": 10,
              "solidity": 0.2
             }
            },
            "type": "histogram"
           }
          ],
          "histogram2d": [
           {
            "colorbar": {
             "outlinewidth": 0,
             "ticks": ""
            },
            "colorscale": [
             [
              0,
              "#0d0887"
             ],
             [
              0.1111111111111111,
              "#46039f"
             ],
             [
              0.2222222222222222,
              "#7201a8"
             ],
             [
              0.3333333333333333,
              "#9c179e"
             ],
             [
              0.4444444444444444,
              "#bd3786"
             ],
             [
              0.5555555555555556,
              "#d8576b"
             ],
             [
              0.6666666666666666,
              "#ed7953"
             ],
             [
              0.7777777777777778,
              "#fb9f3a"
             ],
             [
              0.8888888888888888,
              "#fdca26"
             ],
             [
              1,
              "#f0f921"
             ]
            ],
            "type": "histogram2d"
           }
          ],
          "histogram2dcontour": [
           {
            "colorbar": {
             "outlinewidth": 0,
             "ticks": ""
            },
            "colorscale": [
             [
              0,
              "#0d0887"
             ],
             [
              0.1111111111111111,
              "#46039f"
             ],
             [
              0.2222222222222222,
              "#7201a8"
             ],
             [
              0.3333333333333333,
              "#9c179e"
             ],
             [
              0.4444444444444444,
              "#bd3786"
             ],
             [
              0.5555555555555556,
              "#d8576b"
             ],
             [
              0.6666666666666666,
              "#ed7953"
             ],
             [
              0.7777777777777778,
              "#fb9f3a"
             ],
             [
              0.8888888888888888,
              "#fdca26"
             ],
             [
              1,
              "#f0f921"
             ]
            ],
            "type": "histogram2dcontour"
           }
          ],
          "mesh3d": [
           {
            "colorbar": {
             "outlinewidth": 0,
             "ticks": ""
            },
            "type": "mesh3d"
           }
          ],
          "parcoords": [
           {
            "line": {
             "colorbar": {
              "outlinewidth": 0,
              "ticks": ""
             }
            },
            "type": "parcoords"
           }
          ],
          "pie": [
           {
            "automargin": true,
            "type": "pie"
           }
          ],
          "scatter": [
           {
            "fillpattern": {
             "fillmode": "overlay",
             "size": 10,
             "solidity": 0.2
            },
            "type": "scatter"
           }
          ],
          "scatter3d": [
           {
            "line": {
             "colorbar": {
              "outlinewidth": 0,
              "ticks": ""
             }
            },
            "marker": {
             "colorbar": {
              "outlinewidth": 0,
              "ticks": ""
             }
            },
            "type": "scatter3d"
           }
          ],
          "scattercarpet": [
           {
            "marker": {
             "colorbar": {
              "outlinewidth": 0,
              "ticks": ""
             }
            },
            "type": "scattercarpet"
           }
          ],
          "scattergeo": [
           {
            "marker": {
             "colorbar": {
              "outlinewidth": 0,
              "ticks": ""
             }
            },
            "type": "scattergeo"
           }
          ],
          "scattergl": [
           {
            "marker": {
             "colorbar": {
              "outlinewidth": 0,
              "ticks": ""
             }
            },
            "type": "scattergl"
           }
          ],
          "scattermap": [
           {
            "marker": {
             "colorbar": {
              "outlinewidth": 0,
              "ticks": ""
             }
            },
            "type": "scattermap"
           }
          ],
          "scattermapbox": [
           {
            "marker": {
             "colorbar": {
              "outlinewidth": 0,
              "ticks": ""
             }
            },
            "type": "scattermapbox"
           }
          ],
          "scatterpolar": [
           {
            "marker": {
             "colorbar": {
              "outlinewidth": 0,
              "ticks": ""
             }
            },
            "type": "scatterpolar"
           }
          ],
          "scatterpolargl": [
           {
            "marker": {
             "colorbar": {
              "outlinewidth": 0,
              "ticks": ""
             }
            },
            "type": "scatterpolargl"
           }
          ],
          "scatterternary": [
           {
            "marker": {
             "colorbar": {
              "outlinewidth": 0,
              "ticks": ""
             }
            },
            "type": "scatterternary"
           }
          ],
          "surface": [
           {
            "colorbar": {
             "outlinewidth": 0,
             "ticks": ""
            },
            "colorscale": [
             [
              0,
              "#0d0887"
             ],
             [
              0.1111111111111111,
              "#46039f"
             ],
             [
              0.2222222222222222,
              "#7201a8"
             ],
             [
              0.3333333333333333,
              "#9c179e"
             ],
             [
              0.4444444444444444,
              "#bd3786"
             ],
             [
              0.5555555555555556,
              "#d8576b"
             ],
             [
              0.6666666666666666,
              "#ed7953"
             ],
             [
              0.7777777777777778,
              "#fb9f3a"
             ],
             [
              0.8888888888888888,
              "#fdca26"
             ],
             [
              1,
              "#f0f921"
             ]
            ],
            "type": "surface"
           }
          ],
          "table": [
           {
            "cells": {
             "fill": {
              "color": "#EBF0F8"
             },
             "line": {
              "color": "white"
             }
            },
            "header": {
             "fill": {
              "color": "#C8D4E3"
             },
             "line": {
              "color": "white"
             }
            },
            "type": "table"
           }
          ]
         },
         "layout": {
          "annotationdefaults": {
           "arrowcolor": "#2a3f5f",
           "arrowhead": 0,
           "arrowwidth": 1
          },
          "autotypenumbers": "strict",
          "coloraxis": {
           "colorbar": {
            "outlinewidth": 0,
            "ticks": ""
           }
          },
          "colorscale": {
           "diverging": [
            [
             0,
             "#8e0152"
            ],
            [
             0.1,
             "#c51b7d"
            ],
            [
             0.2,
             "#de77ae"
            ],
            [
             0.3,
             "#f1b6da"
            ],
            [
             0.4,
             "#fde0ef"
            ],
            [
             0.5,
             "#f7f7f7"
            ],
            [
             0.6,
             "#e6f5d0"
            ],
            [
             0.7,
             "#b8e186"
            ],
            [
             0.8,
             "#7fbc41"
            ],
            [
             0.9,
             "#4d9221"
            ],
            [
             1,
             "#276419"
            ]
           ],
           "sequential": [
            [
             0,
             "#0d0887"
            ],
            [
             0.1111111111111111,
             "#46039f"
            ],
            [
             0.2222222222222222,
             "#7201a8"
            ],
            [
             0.3333333333333333,
             "#9c179e"
            ],
            [
             0.4444444444444444,
             "#bd3786"
            ],
            [
             0.5555555555555556,
             "#d8576b"
            ],
            [
             0.6666666666666666,
             "#ed7953"
            ],
            [
             0.7777777777777778,
             "#fb9f3a"
            ],
            [
             0.8888888888888888,
             "#fdca26"
            ],
            [
             1,
             "#f0f921"
            ]
           ],
           "sequentialminus": [
            [
             0,
             "#0d0887"
            ],
            [
             0.1111111111111111,
             "#46039f"
            ],
            [
             0.2222222222222222,
             "#7201a8"
            ],
            [
             0.3333333333333333,
             "#9c179e"
            ],
            [
             0.4444444444444444,
             "#bd3786"
            ],
            [
             0.5555555555555556,
             "#d8576b"
            ],
            [
             0.6666666666666666,
             "#ed7953"
            ],
            [
             0.7777777777777778,
             "#fb9f3a"
            ],
            [
             0.8888888888888888,
             "#fdca26"
            ],
            [
             1,
             "#f0f921"
            ]
           ]
          },
          "colorway": [
           "#636efa",
           "#EF553B",
           "#00cc96",
           "#ab63fa",
           "#FFA15A",
           "#19d3f3",
           "#FF6692",
           "#B6E880",
           "#FF97FF",
           "#FECB52"
          ],
          "font": {
           "color": "#2a3f5f"
          },
          "geo": {
           "bgcolor": "white",
           "lakecolor": "white",
           "landcolor": "#E5ECF6",
           "showlakes": true,
           "showland": true,
           "subunitcolor": "white"
          },
          "hoverlabel": {
           "align": "left"
          },
          "hovermode": "closest",
          "mapbox": {
           "style": "light"
          },
          "paper_bgcolor": "white",
          "plot_bgcolor": "#E5ECF6",
          "polar": {
           "angularaxis": {
            "gridcolor": "white",
            "linecolor": "white",
            "ticks": ""
           },
           "bgcolor": "#E5ECF6",
           "radialaxis": {
            "gridcolor": "white",
            "linecolor": "white",
            "ticks": ""
           }
          },
          "scene": {
           "xaxis": {
            "backgroundcolor": "#E5ECF6",
            "gridcolor": "white",
            "gridwidth": 2,
            "linecolor": "white",
            "showbackground": true,
            "ticks": "",
            "zerolinecolor": "white"
           },
           "yaxis": {
            "backgroundcolor": "#E5ECF6",
            "gridcolor": "white",
            "gridwidth": 2,
            "linecolor": "white",
            "showbackground": true,
            "ticks": "",
            "zerolinecolor": "white"
           },
           "zaxis": {
            "backgroundcolor": "#E5ECF6",
            "gridcolor": "white",
            "gridwidth": 2,
            "linecolor": "white",
            "showbackground": true,
            "ticks": "",
            "zerolinecolor": "white"
           }
          },
          "shapedefaults": {
           "line": {
            "color": "#2a3f5f"
           }
          },
          "ternary": {
           "aaxis": {
            "gridcolor": "white",
            "linecolor": "white",
            "ticks": ""
           },
           "baxis": {
            "gridcolor": "white",
            "linecolor": "white",
            "ticks": ""
           },
           "bgcolor": "#E5ECF6",
           "caxis": {
            "gridcolor": "white",
            "linecolor": "white",
            "ticks": ""
           }
          },
          "title": {
           "x": 0.05
          },
          "xaxis": {
           "automargin": true,
           "gridcolor": "white",
           "linecolor": "white",
           "ticks": "",
           "title": {
            "standoff": 15
           },
           "zerolinecolor": "white",
           "zerolinewidth": 2
          },
          "yaxis": {
           "automargin": true,
           "gridcolor": "white",
           "linecolor": "white",
           "ticks": "",
           "title": {
            "standoff": 15
           },
           "zerolinecolor": "white",
           "zerolinewidth": 2
          }
         }
        },
        "title": {
         "text": "Optimization History Plot"
        },
        "xaxis": {
         "title": {
          "text": "Trial"
         }
        },
        "yaxis": {
         "title": {
          "text": "Objective Value"
         }
        }
       }
      }
     },
     "metadata": {},
     "output_type": "display_data"
    }
   ],
   "source": [
    "plot_optimization_history(study).show()"
   ]
  },
  {
   "cell_type": "code",
   "execution_count": 11,
   "id": "481315aa",
   "metadata": {},
   "outputs": [
    {
     "data": {
      "application/vnd.plotly.v1+json": {
       "config": {
        "plotlyServerURL": "https://plot.ly"
       },
       "data": [
        {
         "dimensions": [
          {
           "label": "Objective Value",
           "range": [
            0.7541899441340782,
            0.7821229050279331
           ],
           "values": [
            0.7616387337057727,
            0.7597765363128491,
            0.7690875232774674,
            0.7709497206703911,
            0.7672253258845437,
            0.7765363128491621,
            0.7672253258845437,
            0.7709497206703911,
            0.7746741154562384,
            0.7672253258845437,
            0.7541899441340782,
            0.7746741154562384,
            0.7746741154562383,
            0.7616387337057727,
            0.7690875232774674,
            0.7746741154562384,
            0.7765363128491621,
            0.7746741154562383,
            0.7672253258845437,
            0.7653631284916201,
            0.7709497206703911,
            0.7821229050279331,
            0.7783985102420857,
            0.7728119180633147,
            0.7783985102420857,
            0.7709497206703911,
            0.7746741154562384,
            0.7765363128491621,
            0.7746741154562384,
            0.7783985102420857,
            0.7635009310986964,
            0.7746741154562384,
            0.7765363128491621,
            0.7728119180633147,
            0.7709497206703911,
            0.7690875232774674,
            0.7690875232774674,
            0.7653631284916201,
            0.7728119180633147,
            0.7728119180633147,
            0.7672253258845437,
            0.7728119180633147,
            0.7765363128491621,
            0.7783985102420857,
            0.7746741154562384,
            0.7783985102420857,
            0.7690875232774674,
            0.7765363128491621,
            0.7746741154562384,
            0.7597765363128491
           ]
          },
          {
           "label": "max_depth",
           "range": [
            3,
            20
           ],
           "values": [
            9,
            6,
            7,
            12,
            15,
            18,
            8,
            15,
            20,
            18,
            3,
            20,
            20,
            17,
            13,
            17,
            19,
            15,
            18,
            10,
            13,
            20,
            18,
            16,
            18,
            16,
            19,
            13,
            17,
            19,
            10,
            19,
            20,
            18,
            16,
            5,
            19,
            14,
            17,
            18,
            11,
            19,
            18,
            20,
            20,
            20,
            19,
            16,
            17,
            20
           ]
          },
          {
           "label": "n_estimators",
           "range": [
            50,
            198
           ],
           "values": [
            198,
            198,
            103,
            185,
            185,
            118,
            86,
            168,
            89,
            146,
            61,
            115,
            137,
            84,
            52,
            97,
            128,
            132,
            148,
            120,
            165,
            73,
            74,
            75,
            67,
            69,
            53,
            72,
            103,
            65,
            81,
            63,
            61,
            95,
            77,
            106,
            66,
            59,
            50,
            92,
            110,
            80,
            87,
            75,
            76,
            71,
            58,
            65,
            97,
            84
           ]
          }
         ],
         "labelangle": 30,
         "labelside": "bottom",
         "line": {
          "color": [
           0.7616387337057727,
           0.7597765363128491,
           0.7690875232774674,
           0.7709497206703911,
           0.7672253258845437,
           0.7765363128491621,
           0.7672253258845437,
           0.7709497206703911,
           0.7746741154562384,
           0.7672253258845437,
           0.7541899441340782,
           0.7746741154562384,
           0.7746741154562383,
           0.7616387337057727,
           0.7690875232774674,
           0.7746741154562384,
           0.7765363128491621,
           0.7746741154562383,
           0.7672253258845437,
           0.7653631284916201,
           0.7709497206703911,
           0.7821229050279331,
           0.7783985102420857,
           0.7728119180633147,
           0.7783985102420857,
           0.7709497206703911,
           0.7746741154562384,
           0.7765363128491621,
           0.7746741154562384,
           0.7783985102420857,
           0.7635009310986964,
           0.7746741154562384,
           0.7765363128491621,
           0.7728119180633147,
           0.7709497206703911,
           0.7690875232774674,
           0.7690875232774674,
           0.7653631284916201,
           0.7728119180633147,
           0.7728119180633147,
           0.7672253258845437,
           0.7728119180633147,
           0.7765363128491621,
           0.7783985102420857,
           0.7746741154562384,
           0.7783985102420857,
           0.7690875232774674,
           0.7765363128491621,
           0.7746741154562384,
           0.7597765363128491
          ],
          "colorbar": {
           "title": {
            "text": "Objective Value"
           }
          },
          "colorscale": [
           [
            0,
            "rgb(247,251,255)"
           ],
           [
            0.125,
            "rgb(222,235,247)"
           ],
           [
            0.25,
            "rgb(198,219,239)"
           ],
           [
            0.375,
            "rgb(158,202,225)"
           ],
           [
            0.5,
            "rgb(107,174,214)"
           ],
           [
            0.625,
            "rgb(66,146,198)"
           ],
           [
            0.75,
            "rgb(33,113,181)"
           ],
           [
            0.875,
            "rgb(8,81,156)"
           ],
           [
            1,
            "rgb(8,48,107)"
           ]
          ],
          "reversescale": false,
          "showscale": true
         },
         "type": "parcoords"
        }
       ],
       "layout": {
        "template": {
         "data": {
          "bar": [
           {
            "error_x": {
             "color": "#2a3f5f"
            },
            "error_y": {
             "color": "#2a3f5f"
            },
            "marker": {
             "line": {
              "color": "#E5ECF6",
              "width": 0.5
             },
             "pattern": {
              "fillmode": "overlay",
              "size": 10,
              "solidity": 0.2
             }
            },
            "type": "bar"
           }
          ],
          "barpolar": [
           {
            "marker": {
             "line": {
              "color": "#E5ECF6",
              "width": 0.5
             },
             "pattern": {
              "fillmode": "overlay",
              "size": 10,
              "solidity": 0.2
             }
            },
            "type": "barpolar"
           }
          ],
          "carpet": [
           {
            "aaxis": {
             "endlinecolor": "#2a3f5f",
             "gridcolor": "white",
             "linecolor": "white",
             "minorgridcolor": "white",
             "startlinecolor": "#2a3f5f"
            },
            "baxis": {
             "endlinecolor": "#2a3f5f",
             "gridcolor": "white",
             "linecolor": "white",
             "minorgridcolor": "white",
             "startlinecolor": "#2a3f5f"
            },
            "type": "carpet"
           }
          ],
          "choropleth": [
           {
            "colorbar": {
             "outlinewidth": 0,
             "ticks": ""
            },
            "type": "choropleth"
           }
          ],
          "contour": [
           {
            "colorbar": {
             "outlinewidth": 0,
             "ticks": ""
            },
            "colorscale": [
             [
              0,
              "#0d0887"
             ],
             [
              0.1111111111111111,
              "#46039f"
             ],
             [
              0.2222222222222222,
              "#7201a8"
             ],
             [
              0.3333333333333333,
              "#9c179e"
             ],
             [
              0.4444444444444444,
              "#bd3786"
             ],
             [
              0.5555555555555556,
              "#d8576b"
             ],
             [
              0.6666666666666666,
              "#ed7953"
             ],
             [
              0.7777777777777778,
              "#fb9f3a"
             ],
             [
              0.8888888888888888,
              "#fdca26"
             ],
             [
              1,
              "#f0f921"
             ]
            ],
            "type": "contour"
           }
          ],
          "contourcarpet": [
           {
            "colorbar": {
             "outlinewidth": 0,
             "ticks": ""
            },
            "type": "contourcarpet"
           }
          ],
          "heatmap": [
           {
            "colorbar": {
             "outlinewidth": 0,
             "ticks": ""
            },
            "colorscale": [
             [
              0,
              "#0d0887"
             ],
             [
              0.1111111111111111,
              "#46039f"
             ],
             [
              0.2222222222222222,
              "#7201a8"
             ],
             [
              0.3333333333333333,
              "#9c179e"
             ],
             [
              0.4444444444444444,
              "#bd3786"
             ],
             [
              0.5555555555555556,
              "#d8576b"
             ],
             [
              0.6666666666666666,
              "#ed7953"
             ],
             [
              0.7777777777777778,
              "#fb9f3a"
             ],
             [
              0.8888888888888888,
              "#fdca26"
             ],
             [
              1,
              "#f0f921"
             ]
            ],
            "type": "heatmap"
           }
          ],
          "histogram": [
           {
            "marker": {
             "pattern": {
              "fillmode": "overlay",
              "size": 10,
              "solidity": 0.2
             }
            },
            "type": "histogram"
           }
          ],
          "histogram2d": [
           {
            "colorbar": {
             "outlinewidth": 0,
             "ticks": ""
            },
            "colorscale": [
             [
              0,
              "#0d0887"
             ],
             [
              0.1111111111111111,
              "#46039f"
             ],
             [
              0.2222222222222222,
              "#7201a8"
             ],
             [
              0.3333333333333333,
              "#9c179e"
             ],
             [
              0.4444444444444444,
              "#bd3786"
             ],
             [
              0.5555555555555556,
              "#d8576b"
             ],
             [
              0.6666666666666666,
              "#ed7953"
             ],
             [
              0.7777777777777778,
              "#fb9f3a"
             ],
             [
              0.8888888888888888,
              "#fdca26"
             ],
             [
              1,
              "#f0f921"
             ]
            ],
            "type": "histogram2d"
           }
          ],
          "histogram2dcontour": [
           {
            "colorbar": {
             "outlinewidth": 0,
             "ticks": ""
            },
            "colorscale": [
             [
              0,
              "#0d0887"
             ],
             [
              0.1111111111111111,
              "#46039f"
             ],
             [
              0.2222222222222222,
              "#7201a8"
             ],
             [
              0.3333333333333333,
              "#9c179e"
             ],
             [
              0.4444444444444444,
              "#bd3786"
             ],
             [
              0.5555555555555556,
              "#d8576b"
             ],
             [
              0.6666666666666666,
              "#ed7953"
             ],
             [
              0.7777777777777778,
              "#fb9f3a"
             ],
             [
              0.8888888888888888,
              "#fdca26"
             ],
             [
              1,
              "#f0f921"
             ]
            ],
            "type": "histogram2dcontour"
           }
          ],
          "mesh3d": [
           {
            "colorbar": {
             "outlinewidth": 0,
             "ticks": ""
            },
            "type": "mesh3d"
           }
          ],
          "parcoords": [
           {
            "line": {
             "colorbar": {
              "outlinewidth": 0,
              "ticks": ""
             }
            },
            "type": "parcoords"
           }
          ],
          "pie": [
           {
            "automargin": true,
            "type": "pie"
           }
          ],
          "scatter": [
           {
            "fillpattern": {
             "fillmode": "overlay",
             "size": 10,
             "solidity": 0.2
            },
            "type": "scatter"
           }
          ],
          "scatter3d": [
           {
            "line": {
             "colorbar": {
              "outlinewidth": 0,
              "ticks": ""
             }
            },
            "marker": {
             "colorbar": {
              "outlinewidth": 0,
              "ticks": ""
             }
            },
            "type": "scatter3d"
           }
          ],
          "scattercarpet": [
           {
            "marker": {
             "colorbar": {
              "outlinewidth": 0,
              "ticks": ""
             }
            },
            "type": "scattercarpet"
           }
          ],
          "scattergeo": [
           {
            "marker": {
             "colorbar": {
              "outlinewidth": 0,
              "ticks": ""
             }
            },
            "type": "scattergeo"
           }
          ],
          "scattergl": [
           {
            "marker": {
             "colorbar": {
              "outlinewidth": 0,
              "ticks": ""
             }
            },
            "type": "scattergl"
           }
          ],
          "scattermap": [
           {
            "marker": {
             "colorbar": {
              "outlinewidth": 0,
              "ticks": ""
             }
            },
            "type": "scattermap"
           }
          ],
          "scattermapbox": [
           {
            "marker": {
             "colorbar": {
              "outlinewidth": 0,
              "ticks": ""
             }
            },
            "type": "scattermapbox"
           }
          ],
          "scatterpolar": [
           {
            "marker": {
             "colorbar": {
              "outlinewidth": 0,
              "ticks": ""
             }
            },
            "type": "scatterpolar"
           }
          ],
          "scatterpolargl": [
           {
            "marker": {
             "colorbar": {
              "outlinewidth": 0,
              "ticks": ""
             }
            },
            "type": "scatterpolargl"
           }
          ],
          "scatterternary": [
           {
            "marker": {
             "colorbar": {
              "outlinewidth": 0,
              "ticks": ""
             }
            },
            "type": "scatterternary"
           }
          ],
          "surface": [
           {
            "colorbar": {
             "outlinewidth": 0,
             "ticks": ""
            },
            "colorscale": [
             [
              0,
              "#0d0887"
             ],
             [
              0.1111111111111111,
              "#46039f"
             ],
             [
              0.2222222222222222,
              "#7201a8"
             ],
             [
              0.3333333333333333,
              "#9c179e"
             ],
             [
              0.4444444444444444,
              "#bd3786"
             ],
             [
              0.5555555555555556,
              "#d8576b"
             ],
             [
              0.6666666666666666,
              "#ed7953"
             ],
             [
              0.7777777777777778,
              "#fb9f3a"
             ],
             [
              0.8888888888888888,
              "#fdca26"
             ],
             [
              1,
              "#f0f921"
             ]
            ],
            "type": "surface"
           }
          ],
          "table": [
           {
            "cells": {
             "fill": {
              "color": "#EBF0F8"
             },
             "line": {
              "color": "white"
             }
            },
            "header": {
             "fill": {
              "color": "#C8D4E3"
             },
             "line": {
              "color": "white"
             }
            },
            "type": "table"
           }
          ]
         },
         "layout": {
          "annotationdefaults": {
           "arrowcolor": "#2a3f5f",
           "arrowhead": 0,
           "arrowwidth": 1
          },
          "autotypenumbers": "strict",
          "coloraxis": {
           "colorbar": {
            "outlinewidth": 0,
            "ticks": ""
           }
          },
          "colorscale": {
           "diverging": [
            [
             0,
             "#8e0152"
            ],
            [
             0.1,
             "#c51b7d"
            ],
            [
             0.2,
             "#de77ae"
            ],
            [
             0.3,
             "#f1b6da"
            ],
            [
             0.4,
             "#fde0ef"
            ],
            [
             0.5,
             "#f7f7f7"
            ],
            [
             0.6,
             "#e6f5d0"
            ],
            [
             0.7,
             "#b8e186"
            ],
            [
             0.8,
             "#7fbc41"
            ],
            [
             0.9,
             "#4d9221"
            ],
            [
             1,
             "#276419"
            ]
           ],
           "sequential": [
            [
             0,
             "#0d0887"
            ],
            [
             0.1111111111111111,
             "#46039f"
            ],
            [
             0.2222222222222222,
             "#7201a8"
            ],
            [
             0.3333333333333333,
             "#9c179e"
            ],
            [
             0.4444444444444444,
             "#bd3786"
            ],
            [
             0.5555555555555556,
             "#d8576b"
            ],
            [
             0.6666666666666666,
             "#ed7953"
            ],
            [
             0.7777777777777778,
             "#fb9f3a"
            ],
            [
             0.8888888888888888,
             "#fdca26"
            ],
            [
             1,
             "#f0f921"
            ]
           ],
           "sequentialminus": [
            [
             0,
             "#0d0887"
            ],
            [
             0.1111111111111111,
             "#46039f"
            ],
            [
             0.2222222222222222,
             "#7201a8"
            ],
            [
             0.3333333333333333,
             "#9c179e"
            ],
            [
             0.4444444444444444,
             "#bd3786"
            ],
            [
             0.5555555555555556,
             "#d8576b"
            ],
            [
             0.6666666666666666,
             "#ed7953"
            ],
            [
             0.7777777777777778,
             "#fb9f3a"
            ],
            [
             0.8888888888888888,
             "#fdca26"
            ],
            [
             1,
             "#f0f921"
            ]
           ]
          },
          "colorway": [
           "#636efa",
           "#EF553B",
           "#00cc96",
           "#ab63fa",
           "#FFA15A",
           "#19d3f3",
           "#FF6692",
           "#B6E880",
           "#FF97FF",
           "#FECB52"
          ],
          "font": {
           "color": "#2a3f5f"
          },
          "geo": {
           "bgcolor": "white",
           "lakecolor": "white",
           "landcolor": "#E5ECF6",
           "showlakes": true,
           "showland": true,
           "subunitcolor": "white"
          },
          "hoverlabel": {
           "align": "left"
          },
          "hovermode": "closest",
          "mapbox": {
           "style": "light"
          },
          "paper_bgcolor": "white",
          "plot_bgcolor": "#E5ECF6",
          "polar": {
           "angularaxis": {
            "gridcolor": "white",
            "linecolor": "white",
            "ticks": ""
           },
           "bgcolor": "#E5ECF6",
           "radialaxis": {
            "gridcolor": "white",
            "linecolor": "white",
            "ticks": ""
           }
          },
          "scene": {
           "xaxis": {
            "backgroundcolor": "#E5ECF6",
            "gridcolor": "white",
            "gridwidth": 2,
            "linecolor": "white",
            "showbackground": true,
            "ticks": "",
            "zerolinecolor": "white"
           },
           "yaxis": {
            "backgroundcolor": "#E5ECF6",
            "gridcolor": "white",
            "gridwidth": 2,
            "linecolor": "white",
            "showbackground": true,
            "ticks": "",
            "zerolinecolor": "white"
           },
           "zaxis": {
            "backgroundcolor": "#E5ECF6",
            "gridcolor": "white",
            "gridwidth": 2,
            "linecolor": "white",
            "showbackground": true,
            "ticks": "",
            "zerolinecolor": "white"
           }
          },
          "shapedefaults": {
           "line": {
            "color": "#2a3f5f"
           }
          },
          "ternary": {
           "aaxis": {
            "gridcolor": "white",
            "linecolor": "white",
            "ticks": ""
           },
           "baxis": {
            "gridcolor": "white",
            "linecolor": "white",
            "ticks": ""
           },
           "bgcolor": "#E5ECF6",
           "caxis": {
            "gridcolor": "white",
            "linecolor": "white",
            "ticks": ""
           }
          },
          "title": {
           "x": 0.05
          },
          "xaxis": {
           "automargin": true,
           "gridcolor": "white",
           "linecolor": "white",
           "ticks": "",
           "title": {
            "standoff": 15
           },
           "zerolinecolor": "white",
           "zerolinewidth": 2
          },
          "yaxis": {
           "automargin": true,
           "gridcolor": "white",
           "linecolor": "white",
           "ticks": "",
           "title": {
            "standoff": 15
           },
           "zerolinecolor": "white",
           "zerolinewidth": 2
          }
         }
        },
        "title": {
         "text": "Parallel Coordinate Plot"
        }
       }
      }
     },
     "metadata": {},
     "output_type": "display_data"
    }
   ],
   "source": [
    "plot_parallel_coordinate(study).show()"
   ]
  },
  {
   "cell_type": "code",
   "execution_count": 12,
   "id": "2dcef8ed",
   "metadata": {},
   "outputs": [
    {
     "data": {
      "application/vnd.plotly.v1+json": {
       "config": {
        "plotlyServerURL": "https://plot.ly"
       },
       "data": [
        {
         "marker": {
          "color": [
           0,
           1,
           2,
           3,
           4,
           5,
           6,
           7,
           8,
           9,
           10,
           11,
           12,
           13,
           14,
           15,
           16,
           17,
           18,
           19,
           20,
           21,
           22,
           23,
           24,
           25,
           26,
           27,
           28,
           29,
           30,
           31,
           32,
           33,
           34,
           35,
           36,
           37,
           38,
           39,
           40,
           41,
           42,
           43,
           44,
           45,
           46,
           47,
           48,
           49
          ],
          "colorbar": {
           "title": {
            "text": "Trial"
           },
           "x": 1,
           "xpad": 40
          },
          "colorscale": [
           [
            0,
            "rgb(247,251,255)"
           ],
           [
            0.125,
            "rgb(222,235,247)"
           ],
           [
            0.25,
            "rgb(198,219,239)"
           ],
           [
            0.375,
            "rgb(158,202,225)"
           ],
           [
            0.5,
            "rgb(107,174,214)"
           ],
           [
            0.625,
            "rgb(66,146,198)"
           ],
           [
            0.75,
            "rgb(33,113,181)"
           ],
           [
            0.875,
            "rgb(8,81,156)"
           ],
           [
            1,
            "rgb(8,48,107)"
           ]
          ],
          "line": {
           "color": "Grey",
           "width": 0.5
          },
          "showscale": true
         },
         "mode": "markers",
         "name": "Feasible Trial",
         "showlegend": false,
         "type": "scatter",
         "x": [
          9,
          6,
          7,
          12,
          15,
          18,
          8,
          15,
          20,
          18,
          3,
          20,
          20,
          17,
          13,
          17,
          19,
          15,
          18,
          10,
          13,
          20,
          18,
          16,
          18,
          16,
          19,
          13,
          17,
          19,
          10,
          19,
          20,
          18,
          16,
          5,
          19,
          14,
          17,
          18,
          11,
          19,
          18,
          20,
          20,
          20,
          19,
          16,
          17,
          20
         ],
         "xaxis": "x",
         "y": [
          0.7616387337057727,
          0.7597765363128491,
          0.7690875232774674,
          0.7709497206703911,
          0.7672253258845437,
          0.7765363128491621,
          0.7672253258845437,
          0.7709497206703911,
          0.7746741154562384,
          0.7672253258845437,
          0.7541899441340782,
          0.7746741154562384,
          0.7746741154562383,
          0.7616387337057727,
          0.7690875232774674,
          0.7746741154562384,
          0.7765363128491621,
          0.7746741154562383,
          0.7672253258845437,
          0.7653631284916201,
          0.7709497206703911,
          0.7821229050279331,
          0.7783985102420857,
          0.7728119180633147,
          0.7783985102420857,
          0.7709497206703911,
          0.7746741154562384,
          0.7765363128491621,
          0.7746741154562384,
          0.7783985102420857,
          0.7635009310986964,
          0.7746741154562384,
          0.7765363128491621,
          0.7728119180633147,
          0.7709497206703911,
          0.7690875232774674,
          0.7690875232774674,
          0.7653631284916201,
          0.7728119180633147,
          0.7728119180633147,
          0.7672253258845437,
          0.7728119180633147,
          0.7765363128491621,
          0.7783985102420857,
          0.7746741154562384,
          0.7783985102420857,
          0.7690875232774674,
          0.7765363128491621,
          0.7746741154562384,
          0.7597765363128491
         ],
         "yaxis": "y"
        },
        {
         "marker": {
          "color": [
           0,
           1,
           2,
           3,
           4,
           5,
           6,
           7,
           8,
           9,
           10,
           11,
           12,
           13,
           14,
           15,
           16,
           17,
           18,
           19,
           20,
           21,
           22,
           23,
           24,
           25,
           26,
           27,
           28,
           29,
           30,
           31,
           32,
           33,
           34,
           35,
           36,
           37,
           38,
           39,
           40,
           41,
           42,
           43,
           44,
           45,
           46,
           47,
           48,
           49
          ],
          "colorbar": {
           "title": {
            "text": "Trial"
           },
           "x": 1,
           "xpad": 40
          },
          "colorscale": [
           [
            0,
            "rgb(247,251,255)"
           ],
           [
            0.125,
            "rgb(222,235,247)"
           ],
           [
            0.25,
            "rgb(198,219,239)"
           ],
           [
            0.375,
            "rgb(158,202,225)"
           ],
           [
            0.5,
            "rgb(107,174,214)"
           ],
           [
            0.625,
            "rgb(66,146,198)"
           ],
           [
            0.75,
            "rgb(33,113,181)"
           ],
           [
            0.875,
            "rgb(8,81,156)"
           ],
           [
            1,
            "rgb(8,48,107)"
           ]
          ],
          "line": {
           "color": "Grey",
           "width": 0.5
          },
          "showscale": false
         },
         "mode": "markers",
         "name": "Feasible Trial",
         "showlegend": false,
         "type": "scatter",
         "x": [
          198,
          198,
          103,
          185,
          185,
          118,
          86,
          168,
          89,
          146,
          61,
          115,
          137,
          84,
          52,
          97,
          128,
          132,
          148,
          120,
          165,
          73,
          74,
          75,
          67,
          69,
          53,
          72,
          103,
          65,
          81,
          63,
          61,
          95,
          77,
          106,
          66,
          59,
          50,
          92,
          110,
          80,
          87,
          75,
          76,
          71,
          58,
          65,
          97,
          84
         ],
         "xaxis": "x2",
         "y": [
          0.7616387337057727,
          0.7597765363128491,
          0.7690875232774674,
          0.7709497206703911,
          0.7672253258845437,
          0.7765363128491621,
          0.7672253258845437,
          0.7709497206703911,
          0.7746741154562384,
          0.7672253258845437,
          0.7541899441340782,
          0.7746741154562384,
          0.7746741154562383,
          0.7616387337057727,
          0.7690875232774674,
          0.7746741154562384,
          0.7765363128491621,
          0.7746741154562383,
          0.7672253258845437,
          0.7653631284916201,
          0.7709497206703911,
          0.7821229050279331,
          0.7783985102420857,
          0.7728119180633147,
          0.7783985102420857,
          0.7709497206703911,
          0.7746741154562384,
          0.7765363128491621,
          0.7746741154562384,
          0.7783985102420857,
          0.7635009310986964,
          0.7746741154562384,
          0.7765363128491621,
          0.7728119180633147,
          0.7709497206703911,
          0.7690875232774674,
          0.7690875232774674,
          0.7653631284916201,
          0.7728119180633147,
          0.7728119180633147,
          0.7672253258845437,
          0.7728119180633147,
          0.7765363128491621,
          0.7783985102420857,
          0.7746741154562384,
          0.7783985102420857,
          0.7690875232774674,
          0.7765363128491621,
          0.7746741154562384,
          0.7597765363128491
         ],
         "yaxis": "y2"
        }
       ],
       "layout": {
        "template": {
         "data": {
          "bar": [
           {
            "error_x": {
             "color": "#2a3f5f"
            },
            "error_y": {
             "color": "#2a3f5f"
            },
            "marker": {
             "line": {
              "color": "#E5ECF6",
              "width": 0.5
             },
             "pattern": {
              "fillmode": "overlay",
              "size": 10,
              "solidity": 0.2
             }
            },
            "type": "bar"
           }
          ],
          "barpolar": [
           {
            "marker": {
             "line": {
              "color": "#E5ECF6",
              "width": 0.5
             },
             "pattern": {
              "fillmode": "overlay",
              "size": 10,
              "solidity": 0.2
             }
            },
            "type": "barpolar"
           }
          ],
          "carpet": [
           {
            "aaxis": {
             "endlinecolor": "#2a3f5f",
             "gridcolor": "white",
             "linecolor": "white",
             "minorgridcolor": "white",
             "startlinecolor": "#2a3f5f"
            },
            "baxis": {
             "endlinecolor": "#2a3f5f",
             "gridcolor": "white",
             "linecolor": "white",
             "minorgridcolor": "white",
             "startlinecolor": "#2a3f5f"
            },
            "type": "carpet"
           }
          ],
          "choropleth": [
           {
            "colorbar": {
             "outlinewidth": 0,
             "ticks": ""
            },
            "type": "choropleth"
           }
          ],
          "contour": [
           {
            "colorbar": {
             "outlinewidth": 0,
             "ticks": ""
            },
            "colorscale": [
             [
              0,
              "#0d0887"
             ],
             [
              0.1111111111111111,
              "#46039f"
             ],
             [
              0.2222222222222222,
              "#7201a8"
             ],
             [
              0.3333333333333333,
              "#9c179e"
             ],
             [
              0.4444444444444444,
              "#bd3786"
             ],
             [
              0.5555555555555556,
              "#d8576b"
             ],
             [
              0.6666666666666666,
              "#ed7953"
             ],
             [
              0.7777777777777778,
              "#fb9f3a"
             ],
             [
              0.8888888888888888,
              "#fdca26"
             ],
             [
              1,
              "#f0f921"
             ]
            ],
            "type": "contour"
           }
          ],
          "contourcarpet": [
           {
            "colorbar": {
             "outlinewidth": 0,
             "ticks": ""
            },
            "type": "contourcarpet"
           }
          ],
          "heatmap": [
           {
            "colorbar": {
             "outlinewidth": 0,
             "ticks": ""
            },
            "colorscale": [
             [
              0,
              "#0d0887"
             ],
             [
              0.1111111111111111,
              "#46039f"
             ],
             [
              0.2222222222222222,
              "#7201a8"
             ],
             [
              0.3333333333333333,
              "#9c179e"
             ],
             [
              0.4444444444444444,
              "#bd3786"
             ],
             [
              0.5555555555555556,
              "#d8576b"
             ],
             [
              0.6666666666666666,
              "#ed7953"
             ],
             [
              0.7777777777777778,
              "#fb9f3a"
             ],
             [
              0.8888888888888888,
              "#fdca26"
             ],
             [
              1,
              "#f0f921"
             ]
            ],
            "type": "heatmap"
           }
          ],
          "histogram": [
           {
            "marker": {
             "pattern": {
              "fillmode": "overlay",
              "size": 10,
              "solidity": 0.2
             }
            },
            "type": "histogram"
           }
          ],
          "histogram2d": [
           {
            "colorbar": {
             "outlinewidth": 0,
             "ticks": ""
            },
            "colorscale": [
             [
              0,
              "#0d0887"
             ],
             [
              0.1111111111111111,
              "#46039f"
             ],
             [
              0.2222222222222222,
              "#7201a8"
             ],
             [
              0.3333333333333333,
              "#9c179e"
             ],
             [
              0.4444444444444444,
              "#bd3786"
             ],
             [
              0.5555555555555556,
              "#d8576b"
             ],
             [
              0.6666666666666666,
              "#ed7953"
             ],
             [
              0.7777777777777778,
              "#fb9f3a"
             ],
             [
              0.8888888888888888,
              "#fdca26"
             ],
             [
              1,
              "#f0f921"
             ]
            ],
            "type": "histogram2d"
           }
          ],
          "histogram2dcontour": [
           {
            "colorbar": {
             "outlinewidth": 0,
             "ticks": ""
            },
            "colorscale": [
             [
              0,
              "#0d0887"
             ],
             [
              0.1111111111111111,
              "#46039f"
             ],
             [
              0.2222222222222222,
              "#7201a8"
             ],
             [
              0.3333333333333333,
              "#9c179e"
             ],
             [
              0.4444444444444444,
              "#bd3786"
             ],
             [
              0.5555555555555556,
              "#d8576b"
             ],
             [
              0.6666666666666666,
              "#ed7953"
             ],
             [
              0.7777777777777778,
              "#fb9f3a"
             ],
             [
              0.8888888888888888,
              "#fdca26"
             ],
             [
              1,
              "#f0f921"
             ]
            ],
            "type": "histogram2dcontour"
           }
          ],
          "mesh3d": [
           {
            "colorbar": {
             "outlinewidth": 0,
             "ticks": ""
            },
            "type": "mesh3d"
           }
          ],
          "parcoords": [
           {
            "line": {
             "colorbar": {
              "outlinewidth": 0,
              "ticks": ""
             }
            },
            "type": "parcoords"
           }
          ],
          "pie": [
           {
            "automargin": true,
            "type": "pie"
           }
          ],
          "scatter": [
           {
            "fillpattern": {
             "fillmode": "overlay",
             "size": 10,
             "solidity": 0.2
            },
            "type": "scatter"
           }
          ],
          "scatter3d": [
           {
            "line": {
             "colorbar": {
              "outlinewidth": 0,
              "ticks": ""
             }
            },
            "marker": {
             "colorbar": {
              "outlinewidth": 0,
              "ticks": ""
             }
            },
            "type": "scatter3d"
           }
          ],
          "scattercarpet": [
           {
            "marker": {
             "colorbar": {
              "outlinewidth": 0,
              "ticks": ""
             }
            },
            "type": "scattercarpet"
           }
          ],
          "scattergeo": [
           {
            "marker": {
             "colorbar": {
              "outlinewidth": 0,
              "ticks": ""
             }
            },
            "type": "scattergeo"
           }
          ],
          "scattergl": [
           {
            "marker": {
             "colorbar": {
              "outlinewidth": 0,
              "ticks": ""
             }
            },
            "type": "scattergl"
           }
          ],
          "scattermap": [
           {
            "marker": {
             "colorbar": {
              "outlinewidth": 0,
              "ticks": ""
             }
            },
            "type": "scattermap"
           }
          ],
          "scattermapbox": [
           {
            "marker": {
             "colorbar": {
              "outlinewidth": 0,
              "ticks": ""
             }
            },
            "type": "scattermapbox"
           }
          ],
          "scatterpolar": [
           {
            "marker": {
             "colorbar": {
              "outlinewidth": 0,
              "ticks": ""
             }
            },
            "type": "scatterpolar"
           }
          ],
          "scatterpolargl": [
           {
            "marker": {
             "colorbar": {
              "outlinewidth": 0,
              "ticks": ""
             }
            },
            "type": "scatterpolargl"
           }
          ],
          "scatterternary": [
           {
            "marker": {
             "colorbar": {
              "outlinewidth": 0,
              "ticks": ""
             }
            },
            "type": "scatterternary"
           }
          ],
          "surface": [
           {
            "colorbar": {
             "outlinewidth": 0,
             "ticks": ""
            },
            "colorscale": [
             [
              0,
              "#0d0887"
             ],
             [
              0.1111111111111111,
              "#46039f"
             ],
             [
              0.2222222222222222,
              "#7201a8"
             ],
             [
              0.3333333333333333,
              "#9c179e"
             ],
             [
              0.4444444444444444,
              "#bd3786"
             ],
             [
              0.5555555555555556,
              "#d8576b"
             ],
             [
              0.6666666666666666,
              "#ed7953"
             ],
             [
              0.7777777777777778,
              "#fb9f3a"
             ],
             [
              0.8888888888888888,
              "#fdca26"
             ],
             [
              1,
              "#f0f921"
             ]
            ],
            "type": "surface"
           }
          ],
          "table": [
           {
            "cells": {
             "fill": {
              "color": "#EBF0F8"
             },
             "line": {
              "color": "white"
             }
            },
            "header": {
             "fill": {
              "color": "#C8D4E3"
             },
             "line": {
              "color": "white"
             }
            },
            "type": "table"
           }
          ]
         },
         "layout": {
          "annotationdefaults": {
           "arrowcolor": "#2a3f5f",
           "arrowhead": 0,
           "arrowwidth": 1
          },
          "autotypenumbers": "strict",
          "coloraxis": {
           "colorbar": {
            "outlinewidth": 0,
            "ticks": ""
           }
          },
          "colorscale": {
           "diverging": [
            [
             0,
             "#8e0152"
            ],
            [
             0.1,
             "#c51b7d"
            ],
            [
             0.2,
             "#de77ae"
            ],
            [
             0.3,
             "#f1b6da"
            ],
            [
             0.4,
             "#fde0ef"
            ],
            [
             0.5,
             "#f7f7f7"
            ],
            [
             0.6,
             "#e6f5d0"
            ],
            [
             0.7,
             "#b8e186"
            ],
            [
             0.8,
             "#7fbc41"
            ],
            [
             0.9,
             "#4d9221"
            ],
            [
             1,
             "#276419"
            ]
           ],
           "sequential": [
            [
             0,
             "#0d0887"
            ],
            [
             0.1111111111111111,
             "#46039f"
            ],
            [
             0.2222222222222222,
             "#7201a8"
            ],
            [
             0.3333333333333333,
             "#9c179e"
            ],
            [
             0.4444444444444444,
             "#bd3786"
            ],
            [
             0.5555555555555556,
             "#d8576b"
            ],
            [
             0.6666666666666666,
             "#ed7953"
            ],
            [
             0.7777777777777778,
             "#fb9f3a"
            ],
            [
             0.8888888888888888,
             "#fdca26"
            ],
            [
             1,
             "#f0f921"
            ]
           ],
           "sequentialminus": [
            [
             0,
             "#0d0887"
            ],
            [
             0.1111111111111111,
             "#46039f"
            ],
            [
             0.2222222222222222,
             "#7201a8"
            ],
            [
             0.3333333333333333,
             "#9c179e"
            ],
            [
             0.4444444444444444,
             "#bd3786"
            ],
            [
             0.5555555555555556,
             "#d8576b"
            ],
            [
             0.6666666666666666,
             "#ed7953"
            ],
            [
             0.7777777777777778,
             "#fb9f3a"
            ],
            [
             0.8888888888888888,
             "#fdca26"
            ],
            [
             1,
             "#f0f921"
            ]
           ]
          },
          "colorway": [
           "#636efa",
           "#EF553B",
           "#00cc96",
           "#ab63fa",
           "#FFA15A",
           "#19d3f3",
           "#FF6692",
           "#B6E880",
           "#FF97FF",
           "#FECB52"
          ],
          "font": {
           "color": "#2a3f5f"
          },
          "geo": {
           "bgcolor": "white",
           "lakecolor": "white",
           "landcolor": "#E5ECF6",
           "showlakes": true,
           "showland": true,
           "subunitcolor": "white"
          },
          "hoverlabel": {
           "align": "left"
          },
          "hovermode": "closest",
          "mapbox": {
           "style": "light"
          },
          "paper_bgcolor": "white",
          "plot_bgcolor": "#E5ECF6",
          "polar": {
           "angularaxis": {
            "gridcolor": "white",
            "linecolor": "white",
            "ticks": ""
           },
           "bgcolor": "#E5ECF6",
           "radialaxis": {
            "gridcolor": "white",
            "linecolor": "white",
            "ticks": ""
           }
          },
          "scene": {
           "xaxis": {
            "backgroundcolor": "#E5ECF6",
            "gridcolor": "white",
            "gridwidth": 2,
            "linecolor": "white",
            "showbackground": true,
            "ticks": "",
            "zerolinecolor": "white"
           },
           "yaxis": {
            "backgroundcolor": "#E5ECF6",
            "gridcolor": "white",
            "gridwidth": 2,
            "linecolor": "white",
            "showbackground": true,
            "ticks": "",
            "zerolinecolor": "white"
           },
           "zaxis": {
            "backgroundcolor": "#E5ECF6",
            "gridcolor": "white",
            "gridwidth": 2,
            "linecolor": "white",
            "showbackground": true,
            "ticks": "",
            "zerolinecolor": "white"
           }
          },
          "shapedefaults": {
           "line": {
            "color": "#2a3f5f"
           }
          },
          "ternary": {
           "aaxis": {
            "gridcolor": "white",
            "linecolor": "white",
            "ticks": ""
           },
           "baxis": {
            "gridcolor": "white",
            "linecolor": "white",
            "ticks": ""
           },
           "bgcolor": "#E5ECF6",
           "caxis": {
            "gridcolor": "white",
            "linecolor": "white",
            "ticks": ""
           }
          },
          "title": {
           "x": 0.05
          },
          "xaxis": {
           "automargin": true,
           "gridcolor": "white",
           "linecolor": "white",
           "ticks": "",
           "title": {
            "standoff": 15
           },
           "zerolinecolor": "white",
           "zerolinewidth": 2
          },
          "yaxis": {
           "automargin": true,
           "gridcolor": "white",
           "linecolor": "white",
           "ticks": "",
           "title": {
            "standoff": 15
           },
           "zerolinecolor": "white",
           "zerolinewidth": 2
          }
         }
        },
        "title": {
         "text": "Slice Plot"
        },
        "xaxis": {
         "anchor": "y",
         "domain": [
          0,
          0.45
         ],
         "title": {
          "text": "max_depth"
         }
        },
        "xaxis2": {
         "anchor": "y2",
         "domain": [
          0.55,
          1
         ],
         "title": {
          "text": "n_estimators"
         }
        },
        "yaxis": {
         "anchor": "x",
         "domain": [
          0,
          1
         ],
         "title": {
          "text": "Objective Value"
         }
        },
        "yaxis2": {
         "anchor": "x2",
         "domain": [
          0,
          1
         ],
         "matches": "y",
         "showticklabels": false
        }
       }
      }
     },
     "metadata": {},
     "output_type": "display_data"
    }
   ],
   "source": [
    "plot_slice(study).show()"
   ]
  },
  {
   "cell_type": "code",
   "execution_count": 13,
   "id": "9ab79d00",
   "metadata": {},
   "outputs": [
    {
     "data": {
      "application/vnd.plotly.v1+json": {
       "config": {
        "plotlyServerURL": "https://plot.ly"
       },
       "data": [
        {
         "colorbar": {
          "title": {
           "text": "Objective Value"
          }
         },
         "colorscale": [
          [
           0,
           "rgb(247,251,255)"
          ],
          [
           0.125,
           "rgb(222,235,247)"
          ],
          [
           0.25,
           "rgb(198,219,239)"
          ],
          [
           0.375,
           "rgb(158,202,225)"
          ],
          [
           0.5,
           "rgb(107,174,214)"
          ],
          [
           0.625,
           "rgb(66,146,198)"
          ],
          [
           0.75,
           "rgb(33,113,181)"
          ],
          [
           0.875,
           "rgb(8,81,156)"
          ],
          [
           1,
           "rgb(8,48,107)"
          ]
         ],
         "connectgaps": true,
         "contours": {
          "coloring": "heatmap"
         },
         "hoverinfo": "none",
         "line": {
          "smoothing": 1.3
         },
         "reversescale": false,
         "type": "contour",
         "x": [
          2.15,
          3,
          5,
          6,
          7,
          8,
          9,
          10,
          11,
          12,
          13,
          14,
          15,
          16,
          17,
          18,
          19,
          20,
          20.85
         ],
         "y": [
          42.6,
          50,
          52,
          53,
          58,
          59,
          61,
          63,
          65,
          66,
          67,
          69,
          71,
          72,
          73,
          74,
          75,
          76,
          77,
          80,
          81,
          84,
          86,
          87,
          89,
          92,
          95,
          97,
          103,
          106,
          110,
          115,
          118,
          120,
          128,
          132,
          137,
          146,
          148,
          165,
          168,
          185,
          198,
          205.4
         ],
         "z": {
          "bdata": "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",
          "dtype": "f8",
          "shape": "44, 19"
         }
        },
        {
         "marker": {
          "color": "black",
          "line": {
           "color": "Gray",
           "width": 2
          }
         },
         "mode": "markers",
         "name": "Feasible Trial",
         "showlegend": false,
         "type": "scatter",
         "x": [
          9,
          6,
          7,
          12,
          15,
          18,
          8,
          15,
          20,
          18,
          3,
          20,
          20,
          17,
          13,
          17,
          19,
          15,
          18,
          10,
          13,
          20,
          18,
          16,
          18,
          16,
          19,
          13,
          17,
          19,
          10,
          19,
          20,
          18,
          16,
          5,
          19,
          14,
          17,
          18,
          11,
          19,
          18,
          20,
          20,
          20,
          19,
          16,
          17,
          20
         ],
         "y": [
          198,
          198,
          103,
          185,
          185,
          118,
          86,
          168,
          89,
          146,
          61,
          115,
          137,
          84,
          52,
          97,
          128,
          132,
          148,
          120,
          165,
          73,
          74,
          75,
          67,
          69,
          53,
          72,
          103,
          65,
          81,
          63,
          61,
          95,
          77,
          106,
          66,
          59,
          50,
          92,
          110,
          80,
          87,
          75,
          76,
          71,
          58,
          65,
          97,
          84
         ]
        },
        {
         "marker": {
          "color": "#cccccc",
          "line": {
           "color": "Gray",
           "width": 2
          }
         },
         "mode": "markers",
         "name": "Infeasible Trial",
         "showlegend": false,
         "type": "scatter",
         "x": [],
         "y": []
        }
       ],
       "layout": {
        "template": {
         "data": {
          "bar": [
           {
            "error_x": {
             "color": "#2a3f5f"
            },
            "error_y": {
             "color": "#2a3f5f"
            },
            "marker": {
             "line": {
              "color": "#E5ECF6",
              "width": 0.5
             },
             "pattern": {
              "fillmode": "overlay",
              "size": 10,
              "solidity": 0.2
             }
            },
            "type": "bar"
           }
          ],
          "barpolar": [
           {
            "marker": {
             "line": {
              "color": "#E5ECF6",
              "width": 0.5
             },
             "pattern": {
              "fillmode": "overlay",
              "size": 10,
              "solidity": 0.2
             }
            },
            "type": "barpolar"
           }
          ],
          "carpet": [
           {
            "aaxis": {
             "endlinecolor": "#2a3f5f",
             "gridcolor": "white",
             "linecolor": "white",
             "minorgridcolor": "white",
             "startlinecolor": "#2a3f5f"
            },
            "baxis": {
             "endlinecolor": "#2a3f5f",
             "gridcolor": "white",
             "linecolor": "white",
             "minorgridcolor": "white",
             "startlinecolor": "#2a3f5f"
            },
            "type": "carpet"
           }
          ],
          "choropleth": [
           {
            "colorbar": {
             "outlinewidth": 0,
             "ticks": ""
            },
            "type": "choropleth"
           }
          ],
          "contour": [
           {
            "colorbar": {
             "outlinewidth": 0,
             "ticks": ""
            },
            "colorscale": [
             [
              0,
              "#0d0887"
             ],
             [
              0.1111111111111111,
              "#46039f"
             ],
             [
              0.2222222222222222,
              "#7201a8"
             ],
             [
              0.3333333333333333,
              "#9c179e"
             ],
             [
              0.4444444444444444,
              "#bd3786"
             ],
             [
              0.5555555555555556,
              "#d8576b"
             ],
             [
              0.6666666666666666,
              "#ed7953"
             ],
             [
              0.7777777777777778,
              "#fb9f3a"
             ],
             [
              0.8888888888888888,
              "#fdca26"
             ],
             [
              1,
              "#f0f921"
             ]
            ],
            "type": "contour"
           }
          ],
          "contourcarpet": [
           {
            "colorbar": {
             "outlinewidth": 0,
             "ticks": ""
            },
            "type": "contourcarpet"
           }
          ],
          "heatmap": [
           {
            "colorbar": {
             "outlinewidth": 0,
             "ticks": ""
            },
            "colorscale": [
             [
              0,
              "#0d0887"
             ],
             [
              0.1111111111111111,
              "#46039f"
             ],
             [
              0.2222222222222222,
              "#7201a8"
             ],
             [
              0.3333333333333333,
              "#9c179e"
             ],
             [
              0.4444444444444444,
              "#bd3786"
             ],
             [
              0.5555555555555556,
              "#d8576b"
             ],
             [
              0.6666666666666666,
              "#ed7953"
             ],
             [
              0.7777777777777778,
              "#fb9f3a"
             ],
             [
              0.8888888888888888,
              "#fdca26"
             ],
             [
              1,
              "#f0f921"
             ]
            ],
            "type": "heatmap"
           }
          ],
          "histogram": [
           {
            "marker": {
             "pattern": {
              "fillmode": "overlay",
              "size": 10,
              "solidity": 0.2
             }
            },
            "type": "histogram"
           }
          ],
          "histogram2d": [
           {
            "colorbar": {
             "outlinewidth": 0,
             "ticks": ""
            },
            "colorscale": [
             [
              0,
              "#0d0887"
             ],
             [
              0.1111111111111111,
              "#46039f"
             ],
             [
              0.2222222222222222,
              "#7201a8"
             ],
             [
              0.3333333333333333,
              "#9c179e"
             ],
             [
              0.4444444444444444,
              "#bd3786"
             ],
             [
              0.5555555555555556,
              "#d8576b"
             ],
             [
              0.6666666666666666,
              "#ed7953"
             ],
             [
              0.7777777777777778,
              "#fb9f3a"
             ],
             [
              0.8888888888888888,
              "#fdca26"
             ],
             [
              1,
              "#f0f921"
             ]
            ],
            "type": "histogram2d"
           }
          ],
          "histogram2dcontour": [
           {
            "colorbar": {
             "outlinewidth": 0,
             "ticks": ""
            },
            "colorscale": [
             [
              0,
              "#0d0887"
             ],
             [
              0.1111111111111111,
              "#46039f"
             ],
             [
              0.2222222222222222,
              "#7201a8"
             ],
             [
              0.3333333333333333,
              "#9c179e"
             ],
             [
              0.4444444444444444,
              "#bd3786"
             ],
             [
              0.5555555555555556,
              "#d8576b"
             ],
             [
              0.6666666666666666,
              "#ed7953"
             ],
             [
              0.7777777777777778,
              "#fb9f3a"
             ],
             [
              0.8888888888888888,
              "#fdca26"
             ],
             [
              1,
              "#f0f921"
             ]
            ],
            "type": "histogram2dcontour"
           }
          ],
          "mesh3d": [
           {
            "colorbar": {
             "outlinewidth": 0,
             "ticks": ""
            },
            "type": "mesh3d"
           }
          ],
          "parcoords": [
           {
            "line": {
             "colorbar": {
              "outlinewidth": 0,
              "ticks": ""
             }
            },
            "type": "parcoords"
           }
          ],
          "pie": [
           {
            "automargin": true,
            "type": "pie"
           }
          ],
          "scatter": [
           {
            "fillpattern": {
             "fillmode": "overlay",
             "size": 10,
             "solidity": 0.2
            },
            "type": "scatter"
           }
          ],
          "scatter3d": [
           {
            "line": {
             "colorbar": {
              "outlinewidth": 0,
              "ticks": ""
             }
            },
            "marker": {
             "colorbar": {
              "outlinewidth": 0,
              "ticks": ""
             }
            },
            "type": "scatter3d"
           }
          ],
          "scattercarpet": [
           {
            "marker": {
             "colorbar": {
              "outlinewidth": 0,
              "ticks": ""
             }
            },
            "type": "scattercarpet"
           }
          ],
          "scattergeo": [
           {
            "marker": {
             "colorbar": {
              "outlinewidth": 0,
              "ticks": ""
             }
            },
            "type": "scattergeo"
           }
          ],
          "scattergl": [
           {
            "marker": {
             "colorbar": {
              "outlinewidth": 0,
              "ticks": ""
             }
            },
            "type": "scattergl"
           }
          ],
          "scattermap": [
           {
            "marker": {
             "colorbar": {
              "outlinewidth": 0,
              "ticks": ""
             }
            },
            "type": "scattermap"
           }
          ],
          "scattermapbox": [
           {
            "marker": {
             "colorbar": {
              "outlinewidth": 0,
              "ticks": ""
             }
            },
            "type": "scattermapbox"
           }
          ],
          "scatterpolar": [
           {
            "marker": {
             "colorbar": {
              "outlinewidth": 0,
              "ticks": ""
             }
            },
            "type": "scatterpolar"
           }
          ],
          "scatterpolargl": [
           {
            "marker": {
             "colorbar": {
              "outlinewidth": 0,
              "ticks": ""
             }
            },
            "type": "scatterpolargl"
           }
          ],
          "scatterternary": [
           {
            "marker": {
             "colorbar": {
              "outlinewidth": 0,
              "ticks": ""
             }
            },
            "type": "scatterternary"
           }
          ],
          "surface": [
           {
            "colorbar": {
             "outlinewidth": 0,
             "ticks": ""
            },
            "colorscale": [
             [
              0,
              "#0d0887"
             ],
             [
              0.1111111111111111,
              "#46039f"
             ],
             [
              0.2222222222222222,
              "#7201a8"
             ],
             [
              0.3333333333333333,
              "#9c179e"
             ],
             [
              0.4444444444444444,
              "#bd3786"
             ],
             [
              0.5555555555555556,
              "#d8576b"
             ],
             [
              0.6666666666666666,
              "#ed7953"
             ],
             [
              0.7777777777777778,
              "#fb9f3a"
             ],
             [
              0.8888888888888888,
              "#fdca26"
             ],
             [
              1,
              "#f0f921"
             ]
            ],
            "type": "surface"
           }
          ],
          "table": [
           {
            "cells": {
             "fill": {
              "color": "#EBF0F8"
             },
             "line": {
              "color": "white"
             }
            },
            "header": {
             "fill": {
              "color": "#C8D4E3"
             },
             "line": {
              "color": "white"
             }
            },
            "type": "table"
           }
          ]
         },
         "layout": {
          "annotationdefaults": {
           "arrowcolor": "#2a3f5f",
           "arrowhead": 0,
           "arrowwidth": 1
          },
          "autotypenumbers": "strict",
          "coloraxis": {
           "colorbar": {
            "outlinewidth": 0,
            "ticks": ""
           }
          },
          "colorscale": {
           "diverging": [
            [
             0,
             "#8e0152"
            ],
            [
             0.1,
             "#c51b7d"
            ],
            [
             0.2,
             "#de77ae"
            ],
            [
             0.3,
             "#f1b6da"
            ],
            [
             0.4,
             "#fde0ef"
            ],
            [
             0.5,
             "#f7f7f7"
            ],
            [
             0.6,
             "#e6f5d0"
            ],
            [
             0.7,
             "#b8e186"
            ],
            [
             0.8,
             "#7fbc41"
            ],
            [
             0.9,
             "#4d9221"
            ],
            [
             1,
             "#276419"
            ]
           ],
           "sequential": [
            [
             0,
             "#0d0887"
            ],
            [
             0.1111111111111111,
             "#46039f"
            ],
            [
             0.2222222222222222,
             "#7201a8"
            ],
            [
             0.3333333333333333,
             "#9c179e"
            ],
            [
             0.4444444444444444,
             "#bd3786"
            ],
            [
             0.5555555555555556,
             "#d8576b"
            ],
            [
             0.6666666666666666,
             "#ed7953"
            ],
            [
             0.7777777777777778,
             "#fb9f3a"
            ],
            [
             0.8888888888888888,
             "#fdca26"
            ],
            [
             1,
             "#f0f921"
            ]
           ],
           "sequentialminus": [
            [
             0,
             "#0d0887"
            ],
            [
             0.1111111111111111,
             "#46039f"
            ],
            [
             0.2222222222222222,
             "#7201a8"
            ],
            [
             0.3333333333333333,
             "#9c179e"
            ],
            [
             0.4444444444444444,
             "#bd3786"
            ],
            [
             0.5555555555555556,
             "#d8576b"
            ],
            [
             0.6666666666666666,
             "#ed7953"
            ],
            [
             0.7777777777777778,
             "#fb9f3a"
            ],
            [
             0.8888888888888888,
             "#fdca26"
            ],
            [
             1,
             "#f0f921"
            ]
           ]
          },
          "colorway": [
           "#636efa",
           "#EF553B",
           "#00cc96",
           "#ab63fa",
           "#FFA15A",
           "#19d3f3",
           "#FF6692",
           "#B6E880",
           "#FF97FF",
           "#FECB52"
          ],
          "font": {
           "color": "#2a3f5f"
          },
          "geo": {
           "bgcolor": "white",
           "lakecolor": "white",
           "landcolor": "#E5ECF6",
           "showlakes": true,
           "showland": true,
           "subunitcolor": "white"
          },
          "hoverlabel": {
           "align": "left"
          },
          "hovermode": "closest",
          "mapbox": {
           "style": "light"
          },
          "paper_bgcolor": "white",
          "plot_bgcolor": "#E5ECF6",
          "polar": {
           "angularaxis": {
            "gridcolor": "white",
            "linecolor": "white",
            "ticks": ""
           },
           "bgcolor": "#E5ECF6",
           "radialaxis": {
            "gridcolor": "white",
            "linecolor": "white",
            "ticks": ""
           }
          },
          "scene": {
           "xaxis": {
            "backgroundcolor": "#E5ECF6",
            "gridcolor": "white",
            "gridwidth": 2,
            "linecolor": "white",
            "showbackground": true,
            "ticks": "",
            "zerolinecolor": "white"
           },
           "yaxis": {
            "backgroundcolor": "#E5ECF6",
            "gridcolor": "white",
            "gridwidth": 2,
            "linecolor": "white",
            "showbackground": true,
            "ticks": "",
            "zerolinecolor": "white"
           },
           "zaxis": {
            "backgroundcolor": "#E5ECF6",
            "gridcolor": "white",
            "gridwidth": 2,
            "linecolor": "white",
            "showbackground": true,
            "ticks": "",
            "zerolinecolor": "white"
           }
          },
          "shapedefaults": {
           "line": {
            "color": "#2a3f5f"
           }
          },
          "ternary": {
           "aaxis": {
            "gridcolor": "white",
            "linecolor": "white",
            "ticks": ""
           },
           "baxis": {
            "gridcolor": "white",
            "linecolor": "white",
            "ticks": ""
           },
           "bgcolor": "#E5ECF6",
           "caxis": {
            "gridcolor": "white",
            "linecolor": "white",
            "ticks": ""
           }
          },
          "title": {
           "x": 0.05
          },
          "xaxis": {
           "automargin": true,
           "gridcolor": "white",
           "linecolor": "white",
           "ticks": "",
           "title": {
            "standoff": 15
           },
           "zerolinecolor": "white",
           "zerolinewidth": 2
          },
          "yaxis": {
           "automargin": true,
           "gridcolor": "white",
           "linecolor": "white",
           "ticks": "",
           "title": {
            "standoff": 15
           },
           "zerolinecolor": "white",
           "zerolinewidth": 2
          }
         }
        },
        "title": {
         "text": "Contour Plot"
        },
        "xaxis": {
         "range": [
          2.15,
          20.85
         ],
         "title": {
          "text": "max_depth"
         }
        },
        "yaxis": {
         "range": [
          42.6,
          205.4
         ],
         "title": {
          "text": "n_estimators"
         }
        }
       }
      }
     },
     "metadata": {},
     "output_type": "display_data"
    }
   ],
   "source": [
    "plot_contour(study).show()"
   ]
  },
  {
   "cell_type": "code",
   "execution_count": 14,
   "id": "53b0cd90",
   "metadata": {},
   "outputs": [
    {
     "data": {
      "application/vnd.plotly.v1+json": {
       "config": {
        "plotlyServerURL": "https://plot.ly"
       },
       "data": [
        {
         "cliponaxis": false,
         "hovertemplate": [
          "n_estimators (IntDistribution): 0.2324885944515991<extra></extra>",
          "max_depth (IntDistribution): 0.7675114055484009<extra></extra>"
         ],
         "name": "Objective Value",
         "orientation": "h",
         "text": [
          "0.23",
          "0.77"
         ],
         "textposition": "outside",
         "type": "bar",
         "x": [
          0.2324885944515991,
          0.7675114055484009
         ],
         "y": [
          "n_estimators",
          "max_depth"
         ]
        }
       ],
       "layout": {
        "template": {
         "data": {
          "bar": [
           {
            "error_x": {
             "color": "#2a3f5f"
            },
            "error_y": {
             "color": "#2a3f5f"
            },
            "marker": {
             "line": {
              "color": "#E5ECF6",
              "width": 0.5
             },
             "pattern": {
              "fillmode": "overlay",
              "size": 10,
              "solidity": 0.2
             }
            },
            "type": "bar"
           }
          ],
          "barpolar": [
           {
            "marker": {
             "line": {
              "color": "#E5ECF6",
              "width": 0.5
             },
             "pattern": {
              "fillmode": "overlay",
              "size": 10,
              "solidity": 0.2
             }
            },
            "type": "barpolar"
           }
          ],
          "carpet": [
           {
            "aaxis": {
             "endlinecolor": "#2a3f5f",
             "gridcolor": "white",
             "linecolor": "white",
             "minorgridcolor": "white",
             "startlinecolor": "#2a3f5f"
            },
            "baxis": {
             "endlinecolor": "#2a3f5f",
             "gridcolor": "white",
             "linecolor": "white",
             "minorgridcolor": "white",
             "startlinecolor": "#2a3f5f"
            },
            "type": "carpet"
           }
          ],
          "choropleth": [
           {
            "colorbar": {
             "outlinewidth": 0,
             "ticks": ""
            },
            "type": "choropleth"
           }
          ],
          "contour": [
           {
            "colorbar": {
             "outlinewidth": 0,
             "ticks": ""
            },
            "colorscale": [
             [
              0,
              "#0d0887"
             ],
             [
              0.1111111111111111,
              "#46039f"
             ],
             [
              0.2222222222222222,
              "#7201a8"
             ],
             [
              0.3333333333333333,
              "#9c179e"
             ],
             [
              0.4444444444444444,
              "#bd3786"
             ],
             [
              0.5555555555555556,
              "#d8576b"
             ],
             [
              0.6666666666666666,
              "#ed7953"
             ],
             [
              0.7777777777777778,
              "#fb9f3a"
             ],
             [
              0.8888888888888888,
              "#fdca26"
             ],
             [
              1,
              "#f0f921"
             ]
            ],
            "type": "contour"
           }
          ],
          "contourcarpet": [
           {
            "colorbar": {
             "outlinewidth": 0,
             "ticks": ""
            },
            "type": "contourcarpet"
           }
          ],
          "heatmap": [
           {
            "colorbar": {
             "outlinewidth": 0,
             "ticks": ""
            },
            "colorscale": [
             [
              0,
              "#0d0887"
             ],
             [
              0.1111111111111111,
              "#46039f"
             ],
             [
              0.2222222222222222,
              "#7201a8"
             ],
             [
              0.3333333333333333,
              "#9c179e"
             ],
             [
              0.4444444444444444,
              "#bd3786"
             ],
             [
              0.5555555555555556,
              "#d8576b"
             ],
             [
              0.6666666666666666,
              "#ed7953"
             ],
             [
              0.7777777777777778,
              "#fb9f3a"
             ],
             [
              0.8888888888888888,
              "#fdca26"
             ],
             [
              1,
              "#f0f921"
             ]
            ],
            "type": "heatmap"
           }
          ],
          "histogram": [
           {
            "marker": {
             "pattern": {
              "fillmode": "overlay",
              "size": 10,
              "solidity": 0.2
             }
            },
            "type": "histogram"
           }
          ],
          "histogram2d": [
           {
            "colorbar": {
             "outlinewidth": 0,
             "ticks": ""
            },
            "colorscale": [
             [
              0,
              "#0d0887"
             ],
             [
              0.1111111111111111,
              "#46039f"
             ],
             [
              0.2222222222222222,
              "#7201a8"
             ],
             [
              0.3333333333333333,
              "#9c179e"
             ],
             [
              0.4444444444444444,
              "#bd3786"
             ],
             [
              0.5555555555555556,
              "#d8576b"
             ],
             [
              0.6666666666666666,
              "#ed7953"
             ],
             [
              0.7777777777777778,
              "#fb9f3a"
             ],
             [
              0.8888888888888888,
              "#fdca26"
             ],
             [
              1,
              "#f0f921"
             ]
            ],
            "type": "histogram2d"
           }
          ],
          "histogram2dcontour": [
           {
            "colorbar": {
             "outlinewidth": 0,
             "ticks": ""
            },
            "colorscale": [
             [
              0,
              "#0d0887"
             ],
             [
              0.1111111111111111,
              "#46039f"
             ],
             [
              0.2222222222222222,
              "#7201a8"
             ],
             [
              0.3333333333333333,
              "#9c179e"
             ],
             [
              0.4444444444444444,
              "#bd3786"
             ],
             [
              0.5555555555555556,
              "#d8576b"
             ],
             [
              0.6666666666666666,
              "#ed7953"
             ],
             [
              0.7777777777777778,
              "#fb9f3a"
             ],
             [
              0.8888888888888888,
              "#fdca26"
             ],
             [
              1,
              "#f0f921"
             ]
            ],
            "type": "histogram2dcontour"
           }
          ],
          "mesh3d": [
           {
            "colorbar": {
             "outlinewidth": 0,
             "ticks": ""
            },
            "type": "mesh3d"
           }
          ],
          "parcoords": [
           {
            "line": {
             "colorbar": {
              "outlinewidth": 0,
              "ticks": ""
             }
            },
            "type": "parcoords"
           }
          ],
          "pie": [
           {
            "automargin": true,
            "type": "pie"
           }
          ],
          "scatter": [
           {
            "fillpattern": {
             "fillmode": "overlay",
             "size": 10,
             "solidity": 0.2
            },
            "type": "scatter"
           }
          ],
          "scatter3d": [
           {
            "line": {
             "colorbar": {
              "outlinewidth": 0,
              "ticks": ""
             }
            },
            "marker": {
             "colorbar": {
              "outlinewidth": 0,
              "ticks": ""
             }
            },
            "type": "scatter3d"
           }
          ],
          "scattercarpet": [
           {
            "marker": {
             "colorbar": {
              "outlinewidth": 0,
              "ticks": ""
             }
            },
            "type": "scattercarpet"
           }
          ],
          "scattergeo": [
           {
            "marker": {
             "colorbar": {
              "outlinewidth": 0,
              "ticks": ""
             }
            },
            "type": "scattergeo"
           }
          ],
          "scattergl": [
           {
            "marker": {
             "colorbar": {
              "outlinewidth": 0,
              "ticks": ""
             }
            },
            "type": "scattergl"
           }
          ],
          "scattermap": [
           {
            "marker": {
             "colorbar": {
              "outlinewidth": 0,
              "ticks": ""
             }
            },
            "type": "scattermap"
           }
          ],
          "scattermapbox": [
           {
            "marker": {
             "colorbar": {
              "outlinewidth": 0,
              "ticks": ""
             }
            },
            "type": "scattermapbox"
           }
          ],
          "scatterpolar": [
           {
            "marker": {
             "colorbar": {
              "outlinewidth": 0,
              "ticks": ""
             }
            },
            "type": "scatterpolar"
           }
          ],
          "scatterpolargl": [
           {
            "marker": {
             "colorbar": {
              "outlinewidth": 0,
              "ticks": ""
             }
            },
            "type": "scatterpolargl"
           }
          ],
          "scatterternary": [
           {
            "marker": {
             "colorbar": {
              "outlinewidth": 0,
              "ticks": ""
             }
            },
            "type": "scatterternary"
           }
          ],
          "surface": [
           {
            "colorbar": {
             "outlinewidth": 0,
             "ticks": ""
            },
            "colorscale": [
             [
              0,
              "#0d0887"
             ],
             [
              0.1111111111111111,
              "#46039f"
             ],
             [
              0.2222222222222222,
              "#7201a8"
             ],
             [
              0.3333333333333333,
              "#9c179e"
             ],
             [
              0.4444444444444444,
              "#bd3786"
             ],
             [
              0.5555555555555556,
              "#d8576b"
             ],
             [
              0.6666666666666666,
              "#ed7953"
             ],
             [
              0.7777777777777778,
              "#fb9f3a"
             ],
             [
              0.8888888888888888,
              "#fdca26"
             ],
             [
              1,
              "#f0f921"
             ]
            ],
            "type": "surface"
           }
          ],
          "table": [
           {
            "cells": {
             "fill": {
              "color": "#EBF0F8"
             },
             "line": {
              "color": "white"
             }
            },
            "header": {
             "fill": {
              "color": "#C8D4E3"
             },
             "line": {
              "color": "white"
             }
            },
            "type": "table"
           }
          ]
         },
         "layout": {
          "annotationdefaults": {
           "arrowcolor": "#2a3f5f",
           "arrowhead": 0,
           "arrowwidth": 1
          },
          "autotypenumbers": "strict",
          "coloraxis": {
           "colorbar": {
            "outlinewidth": 0,
            "ticks": ""
           }
          },
          "colorscale": {
           "diverging": [
            [
             0,
             "#8e0152"
            ],
            [
             0.1,
             "#c51b7d"
            ],
            [
             0.2,
             "#de77ae"
            ],
            [
             0.3,
             "#f1b6da"
            ],
            [
             0.4,
             "#fde0ef"
            ],
            [
             0.5,
             "#f7f7f7"
            ],
            [
             0.6,
             "#e6f5d0"
            ],
            [
             0.7,
             "#b8e186"
            ],
            [
             0.8,
             "#7fbc41"
            ],
            [
             0.9,
             "#4d9221"
            ],
            [
             1,
             "#276419"
            ]
           ],
           "sequential": [
            [
             0,
             "#0d0887"
            ],
            [
             0.1111111111111111,
             "#46039f"
            ],
            [
             0.2222222222222222,
             "#7201a8"
            ],
            [
             0.3333333333333333,
             "#9c179e"
            ],
            [
             0.4444444444444444,
             "#bd3786"
            ],
            [
             0.5555555555555556,
             "#d8576b"
            ],
            [
             0.6666666666666666,
             "#ed7953"
            ],
            [
             0.7777777777777778,
             "#fb9f3a"
            ],
            [
             0.8888888888888888,
             "#fdca26"
            ],
            [
             1,
             "#f0f921"
            ]
           ],
           "sequentialminus": [
            [
             0,
             "#0d0887"
            ],
            [
             0.1111111111111111,
             "#46039f"
            ],
            [
             0.2222222222222222,
             "#7201a8"
            ],
            [
             0.3333333333333333,
             "#9c179e"
            ],
            [
             0.4444444444444444,
             "#bd3786"
            ],
            [
             0.5555555555555556,
             "#d8576b"
            ],
            [
             0.6666666666666666,
             "#ed7953"
            ],
            [
             0.7777777777777778,
             "#fb9f3a"
            ],
            [
             0.8888888888888888,
             "#fdca26"
            ],
            [
             1,
             "#f0f921"
            ]
           ]
          },
          "colorway": [
           "#636efa",
           "#EF553B",
           "#00cc96",
           "#ab63fa",
           "#FFA15A",
           "#19d3f3",
           "#FF6692",
           "#B6E880",
           "#FF97FF",
           "#FECB52"
          ],
          "font": {
           "color": "#2a3f5f"
          },
          "geo": {
           "bgcolor": "white",
           "lakecolor": "white",
           "landcolor": "#E5ECF6",
           "showlakes": true,
           "showland": true,
           "subunitcolor": "white"
          },
          "hoverlabel": {
           "align": "left"
          },
          "hovermode": "closest",
          "mapbox": {
           "style": "light"
          },
          "paper_bgcolor": "white",
          "plot_bgcolor": "#E5ECF6",
          "polar": {
           "angularaxis": {
            "gridcolor": "white",
            "linecolor": "white",
            "ticks": ""
           },
           "bgcolor": "#E5ECF6",
           "radialaxis": {
            "gridcolor": "white",
            "linecolor": "white",
            "ticks": ""
           }
          },
          "scene": {
           "xaxis": {
            "backgroundcolor": "#E5ECF6",
            "gridcolor": "white",
            "gridwidth": 2,
            "linecolor": "white",
            "showbackground": true,
            "ticks": "",
            "zerolinecolor": "white"
           },
           "yaxis": {
            "backgroundcolor": "#E5ECF6",
            "gridcolor": "white",
            "gridwidth": 2,
            "linecolor": "white",
            "showbackground": true,
            "ticks": "",
            "zerolinecolor": "white"
           },
           "zaxis": {
            "backgroundcolor": "#E5ECF6",
            "gridcolor": "white",
            "gridwidth": 2,
            "linecolor": "white",
            "showbackground": true,
            "ticks": "",
            "zerolinecolor": "white"
           }
          },
          "shapedefaults": {
           "line": {
            "color": "#2a3f5f"
           }
          },
          "ternary": {
           "aaxis": {
            "gridcolor": "white",
            "linecolor": "white",
            "ticks": ""
           },
           "baxis": {
            "gridcolor": "white",
            "linecolor": "white",
            "ticks": ""
           },
           "bgcolor": "#E5ECF6",
           "caxis": {
            "gridcolor": "white",
            "linecolor": "white",
            "ticks": ""
           }
          },
          "title": {
           "x": 0.05
          },
          "xaxis": {
           "automargin": true,
           "gridcolor": "white",
           "linecolor": "white",
           "ticks": "",
           "title": {
            "standoff": 15
           },
           "zerolinecolor": "white",
           "zerolinewidth": 2
          },
          "yaxis": {
           "automargin": true,
           "gridcolor": "white",
           "linecolor": "white",
           "ticks": "",
           "title": {
            "standoff": 15
           },
           "zerolinecolor": "white",
           "zerolinewidth": 2
          }
         }
        },
        "title": {
         "text": "Hyperparameter Importances"
        },
        "xaxis": {
         "title": {
          "text": "Hyperparameter Importance"
         }
        },
        "yaxis": {
         "title": {
          "text": "Hyperparameter"
         }
        }
       }
      }
     },
     "metadata": {},
     "output_type": "display_data"
    }
   ],
   "source": [
    "plot_param_importances(study).show()"
   ]
  },
  {
   "cell_type": "markdown",
   "id": "28da1e66",
   "metadata": {},
   "source": [
    "## Optimizing Multiple ML Models"
   ]
  },
  {
   "cell_type": "code",
   "execution_count": 15,
   "id": "a8e6896b",
   "metadata": {},
   "outputs": [],
   "source": [
    "from sklearn.ensemble import RandomForestClassifier,GradientBoostingClassifier\n",
    "from sklearn.svm import SVC"
   ]
  },
  {
   "cell_type": "code",
   "execution_count": 23,
   "id": "e111c231",
   "metadata": {},
   "outputs": [],
   "source": [
    "#Define the objective function for optuna\n",
    "\n",
    "def objective(trial):\n",
    "    #Choose the algorithm to tune\n",
    "    classifier_name= trial.suggest_categorical('classifier', ['RandomForest', 'GradientBoosting', 'SVM'])\n",
    "    if classifier_name == 'SVM':\n",
    "        # SVM hyperparameters\n",
    "        c=trial.suggest_float('C',0.1,100,log=True)\n",
    "        kernel=trial.suggest_categorical('kernel',['linear','rbf','poly','sigmoid']\n",
    "                                         )\n",
    "        gamma=trial.suggest_categorical('gamma',['scale','auto']\n",
    "                                        )\n",
    "        model=SVC(C=c,kernel=kernel,gamma=gamma,random_state=42)\n",
    "\n",
    "    elif classifier_name=='RandomForest':\n",
    "        #Random Forest hyperparameter\n",
    "        n_estimators=trial.suggest_int('n_estimators',50,300)\n",
    "        max_depth=trial.suggest_int('max_depth',3,20)\n",
    "        min_samples_split=trial.suggest_int('min_samples_split',2,10)\n",
    "        min_samples_leaf=trial.suggest_int('min_samples_leaf',1,10)\n",
    "        bootstrap=trial.suggest_categorical('bootstrap',[True,False])   \n",
    "\n",
    "        model=RandomForestClassifier(n_estimators=n_estimators,max_depth=max_depth,min_samples_leaf=min_samples_leaf,min_samples_split=min_samples_split)\n",
    "\n",
    "    elif classifier_name=='GradientBoosting':\n",
    "         #GradientBoosting hyperparameter\n",
    "        n_estimators=trial.suggest_int('n_estimators',50,300)\n",
    "        max_depth=trial.suggest_int('max_depth',3,20)\n",
    "        min_samples_split=trial.suggest_int('min_samples_split',2,10)\n",
    "        min_samples_leaf=trial.suggest_int('min_samples_leaf',1,10)\n",
    "        bootstrap=trial.suggest_categorical('bootstrap',[True,False])\n",
    "\n",
    "        model=GradientBoostingClassifier(n_estimators=n_estimators,max_depth=max_depth,min_samples_leaf=min_samples_leaf,min_samples_split=min_samples_split)\n",
    "    #Perform cross-validation and return the mean accuracy\n",
    "\n",
    "    score=cross_val_score(model,X_train,y_train,cv=3,scoring='accuracy').mean()\n",
    "    return score\n"
   ]
  },
  {
   "cell_type": "code",
   "execution_count": 24,
   "id": "bcbc1c11",
   "metadata": {},
   "outputs": [
    {
     "name": "stderr",
     "output_type": "stream",
     "text": [
      "[I 2025-06-11 16:53:21,374] A new study created in memory with name: no-name-22e91017-6908-4b73-9499-225200c6141d\n",
      "[I 2025-06-11 16:53:21,399] Trial 0 finished with value: 0.7467411545623835 and parameters: {'classifier': 'SVM', 'C': 8.293476728871376, 'kernel': 'rbf', 'gamma': 'auto'}. Best is trial 0 with value: 0.7467411545623835.\n",
      "[I 2025-06-11 16:53:21,719] Trial 1 finished with value: 0.7541899441340781 and parameters: {'classifier': 'GradientBoosting', 'n_estimators': 68, 'max_depth': 4, 'min_samples_split': 2, 'min_samples_leaf': 2, 'bootstrap': True}. Best is trial 1 with value: 0.7541899441340781.\n",
      "[I 2025-06-11 16:53:22,583] Trial 2 finished with value: 0.7709497206703911 and parameters: {'classifier': 'RandomForest', 'n_estimators': 262, 'max_depth': 16, 'min_samples_split': 7, 'min_samples_leaf': 3, 'bootstrap': True}. Best is trial 2 with value: 0.7709497206703911.\n",
      "[I 2025-06-11 16:53:24,223] Trial 3 finished with value: 0.7355679702048418 and parameters: {'classifier': 'GradientBoosting', 'n_estimators': 193, 'max_depth': 16, 'min_samples_split': 5, 'min_samples_leaf': 8, 'bootstrap': True}. Best is trial 2 with value: 0.7709497206703911.\n",
      "[I 2025-06-11 16:53:24,966] Trial 4 finished with value: 0.7653631284916201 and parameters: {'classifier': 'RandomForest', 'n_estimators': 225, 'max_depth': 15, 'min_samples_split': 3, 'min_samples_leaf': 3, 'bootstrap': True}. Best is trial 2 with value: 0.7709497206703911.\n",
      "[I 2025-06-11 16:53:25,642] Trial 5 finished with value: 0.7486033519553073 and parameters: {'classifier': 'GradientBoosting', 'n_estimators': 135, 'max_depth': 6, 'min_samples_split': 9, 'min_samples_leaf': 10, 'bootstrap': True}. Best is trial 2 with value: 0.7709497206703911.\n",
      "[I 2025-06-11 16:53:25,667] Trial 6 finished with value: 0.7672253258845437 and parameters: {'classifier': 'SVM', 'C': 0.11506218759493718, 'kernel': 'sigmoid', 'gamma': 'scale'}. Best is trial 2 with value: 0.7709497206703911.\n",
      "[I 2025-06-11 16:53:26,145] Trial 7 finished with value: 0.7579143389199254 and parameters: {'classifier': 'RandomForest', 'n_estimators': 144, 'max_depth': 10, 'min_samples_split': 5, 'min_samples_leaf': 3, 'bootstrap': False}. Best is trial 2 with value: 0.7709497206703911.\n",
      "[I 2025-06-11 16:53:27,014] Trial 8 finished with value: 0.7541899441340782 and parameters: {'classifier': 'GradientBoosting', 'n_estimators': 213, 'max_depth': 4, 'min_samples_split': 4, 'min_samples_leaf': 3, 'bootstrap': False}. Best is trial 2 with value: 0.7709497206703911.\n",
      "[I 2025-06-11 16:53:27,733] Trial 9 finished with value: 0.7597765363128491 and parameters: {'classifier': 'GradientBoosting', 'n_estimators': 189, 'max_depth': 4, 'min_samples_split': 10, 'min_samples_leaf': 9, 'bootstrap': False}. Best is trial 2 with value: 0.7709497206703911.\n",
      "[I 2025-06-11 16:53:28,660] Trial 10 finished with value: 0.7672253258845437 and parameters: {'classifier': 'RandomForest', 'n_estimators': 288, 'max_depth': 20, 'min_samples_split': 7, 'min_samples_leaf': 6, 'bootstrap': True}. Best is trial 2 with value: 0.7709497206703911.\n",
      "[I 2025-06-11 16:53:28,688] Trial 11 finished with value: 0.7635009310986964 and parameters: {'classifier': 'SVM', 'C': 0.235329664599947, 'kernel': 'sigmoid', 'gamma': 'scale'}. Best is trial 2 with value: 0.7709497206703911.\n",
      "[I 2025-06-11 16:53:28,709] Trial 12 finished with value: 0.7057728119180634 and parameters: {'classifier': 'SVM', 'C': 0.10017926967698348, 'kernel': 'poly', 'gamma': 'scale'}. Best is trial 2 with value: 0.7709497206703911.\n",
      "[I 2025-06-11 16:53:28,741] Trial 13 finished with value: 0.7001862197392924 and parameters: {'classifier': 'SVM', 'C': 92.84158510216551, 'kernel': 'sigmoid', 'gamma': 'scale'}. Best is trial 2 with value: 0.7709497206703911.\n",
      "[I 2025-06-11 16:53:29,680] Trial 14 finished with value: 0.7616387337057727 and parameters: {'classifier': 'RandomForest', 'n_estimators': 287, 'max_depth': 12, 'min_samples_split': 7, 'min_samples_leaf': 6, 'bootstrap': True}. Best is trial 2 with value: 0.7709497206703911.\n",
      "[I 2025-06-11 16:53:29,704] Trial 15 finished with value: 0.7839851024208566 and parameters: {'classifier': 'SVM', 'C': 1.2492861970406708, 'kernel': 'linear', 'gamma': 'auto'}. Best is trial 15 with value: 0.7839851024208566.\n",
      "[I 2025-06-11 16:53:30,587] Trial 16 finished with value: 0.7672253258845437 and parameters: {'classifier': 'RandomForest', 'n_estimators': 255, 'max_depth': 20, 'min_samples_split': 8, 'min_samples_leaf': 1, 'bootstrap': False}. Best is trial 15 with value: 0.7839851024208566.\n",
      "[I 2025-06-11 16:53:30,829] Trial 17 finished with value: 0.7672253258845437 and parameters: {'classifier': 'RandomForest', 'n_estimators': 66, 'max_depth': 16, 'min_samples_split': 6, 'min_samples_leaf': 5, 'bootstrap': True}. Best is trial 15 with value: 0.7839851024208566.\n",
      "[I 2025-06-11 16:53:30,856] Trial 18 finished with value: 0.7839851024208566 and parameters: {'classifier': 'SVM', 'C': 1.5951751935166911, 'kernel': 'linear', 'gamma': 'auto'}. Best is trial 15 with value: 0.7839851024208566.\n",
      "[I 2025-06-11 16:53:30,886] Trial 19 finished with value: 0.7858472998137801 and parameters: {'classifier': 'SVM', 'C': 1.9106888628017453, 'kernel': 'linear', 'gamma': 'auto'}. Best is trial 19 with value: 0.7858472998137801.\n",
      "[I 2025-06-11 16:53:30,913] Trial 20 finished with value: 0.7839851024208566 and parameters: {'classifier': 'SVM', 'C': 1.3602061303875512, 'kernel': 'linear', 'gamma': 'auto'}. Best is trial 19 with value: 0.7858472998137801.\n",
      "[I 2025-06-11 16:53:30,943] Trial 21 finished with value: 0.7858472998137801 and parameters: {'classifier': 'SVM', 'C': 1.9387886286647111, 'kernel': 'linear', 'gamma': 'auto'}. Best is trial 19 with value: 0.7858472998137801.\n",
      "[I 2025-06-11 16:53:30,977] Trial 22 finished with value: 0.7858472998137801 and parameters: {'classifier': 'SVM', 'C': 4.463884326339938, 'kernel': 'linear', 'gamma': 'auto'}. Best is trial 19 with value: 0.7858472998137801.\n",
      "[I 2025-06-11 16:53:31,015] Trial 23 finished with value: 0.7858472998137801 and parameters: {'classifier': 'SVM', 'C': 7.084832068323699, 'kernel': 'linear', 'gamma': 'auto'}. Best is trial 19 with value: 0.7858472998137801.\n",
      "[I 2025-06-11 16:53:31,052] Trial 24 finished with value: 0.7858472998137801 and parameters: {'classifier': 'SVM', 'C': 4.613027885526092, 'kernel': 'linear', 'gamma': 'auto'}. Best is trial 19 with value: 0.7858472998137801.\n",
      "[I 2025-06-11 16:53:31,121] Trial 25 finished with value: 0.7858472998137801 and parameters: {'classifier': 'SVM', 'C': 17.604612159770035, 'kernel': 'linear', 'gamma': 'auto'}. Best is trial 19 with value: 0.7858472998137801.\n",
      "[I 2025-06-11 16:53:31,143] Trial 26 finished with value: 0.7839851024208566 and parameters: {'classifier': 'SVM', 'C': 0.4265917805543259, 'kernel': 'linear', 'gamma': 'auto'}. Best is trial 19 with value: 0.7858472998137801.\n",
      "[I 2025-06-11 16:53:31,172] Trial 27 finished with value: 0.7672253258845437 and parameters: {'classifier': 'SVM', 'C': 2.482024246267594, 'kernel': 'rbf', 'gamma': 'auto'}. Best is trial 19 with value: 0.7858472998137801.\n",
      "[I 2025-06-11 16:53:31,209] Trial 28 finished with value: 0.7076350093109869 and parameters: {'classifier': 'SVM', 'C': 19.24792410869339, 'kernel': 'poly', 'gamma': 'auto'}. Best is trial 19 with value: 0.7858472998137801.\n",
      "[I 2025-06-11 16:53:31,239] Trial 29 finished with value: 0.7858472998137803 and parameters: {'classifier': 'SVM', 'C': 0.6340796369247854, 'kernel': 'linear', 'gamma': 'auto'}. Best is trial 29 with value: 0.7858472998137803.\n",
      "[I 2025-06-11 16:53:31,265] Trial 30 finished with value: 0.7839851024208566 and parameters: {'classifier': 'SVM', 'C': 0.5966743785733724, 'kernel': 'linear', 'gamma': 'auto'}. Best is trial 29 with value: 0.7858472998137803.\n",
      "[I 2025-06-11 16:53:31,289] Trial 31 finished with value: 0.7858472998137803 and parameters: {'classifier': 'SVM', 'C': 0.6795037823364979, 'kernel': 'linear', 'gamma': 'auto'}. Best is trial 29 with value: 0.7858472998137803.\n",
      "[I 2025-06-11 16:53:31,313] Trial 32 finished with value: 0.7858472998137803 and parameters: {'classifier': 'SVM', 'C': 0.734282181643684, 'kernel': 'linear', 'gamma': 'auto'}. Best is trial 29 with value: 0.7858472998137803.\n",
      "[I 2025-06-11 16:53:31,339] Trial 33 finished with value: 0.7858472998137803 and parameters: {'classifier': 'SVM', 'C': 0.66226559691263, 'kernel': 'linear', 'gamma': 'auto'}. Best is trial 29 with value: 0.7858472998137803.\n",
      "[I 2025-06-11 16:53:31,363] Trial 34 finished with value: 0.7858472998137803 and parameters: {'classifier': 'SVM', 'C': 0.6373338191150291, 'kernel': 'linear', 'gamma': 'auto'}. Best is trial 29 with value: 0.7858472998137803.\n",
      "[I 2025-06-11 16:53:31,385] Trial 35 finished with value: 0.7858472998137803 and parameters: {'classifier': 'SVM', 'C': 0.3226785568934264, 'kernel': 'linear', 'gamma': 'auto'}. Best is trial 29 with value: 0.7858472998137803.\n",
      "[I 2025-06-11 16:53:32,200] Trial 36 finished with value: 0.74487895716946 and parameters: {'classifier': 'GradientBoosting', 'n_estimators': 127, 'max_depth': 8, 'min_samples_split': 2, 'min_samples_leaf': 8, 'bootstrap': False}. Best is trial 29 with value: 0.7858472998137803.\n",
      "[I 2025-06-11 16:53:32,225] Trial 37 finished with value: 0.7337057728119181 and parameters: {'classifier': 'SVM', 'C': 0.7563102048859676, 'kernel': 'poly', 'gamma': 'auto'}. Best is trial 29 with value: 0.7858472998137803.\n",
      "[I 2025-06-11 16:53:32,254] Trial 38 finished with value: 0.756052141527002 and parameters: {'classifier': 'SVM', 'C': 0.23621009175067606, 'kernel': 'rbf', 'gamma': 'auto'}. Best is trial 29 with value: 0.7858472998137803.\n",
      "[I 2025-06-11 16:53:33,156] Trial 39 finished with value: 0.7467411545623835 and parameters: {'classifier': 'GradientBoosting', 'n_estimators': 94, 'max_depth': 12, 'min_samples_split': 10, 'min_samples_leaf': 5, 'bootstrap': False}. Best is trial 29 with value: 0.7858472998137803.\n",
      "[I 2025-06-11 16:53:33,180] Trial 40 finished with value: 0.7858472998137803 and parameters: {'classifier': 'SVM', 'C': 0.894166191902885, 'kernel': 'linear', 'gamma': 'auto'}. Best is trial 29 with value: 0.7858472998137803.\n",
      "[I 2025-06-11 16:53:33,203] Trial 41 finished with value: 0.7839851024208566 and parameters: {'classifier': 'SVM', 'C': 0.522295717262627, 'kernel': 'linear', 'gamma': 'auto'}. Best is trial 29 with value: 0.7858472998137803.\n",
      "[I 2025-06-11 16:53:33,230] Trial 42 finished with value: 0.7858472998137803 and parameters: {'classifier': 'SVM', 'C': 0.8327460141674252, 'kernel': 'linear', 'gamma': 'auto'}. Best is trial 29 with value: 0.7858472998137803.\n",
      "[I 2025-06-11 16:53:33,253] Trial 43 finished with value: 0.7858472998137803 and parameters: {'classifier': 'SVM', 'C': 0.3182841776911927, 'kernel': 'linear', 'gamma': 'auto'}. Best is trial 29 with value: 0.7858472998137803.\n",
      "[I 2025-06-11 16:53:33,277] Trial 44 finished with value: 0.7877094972067038 and parameters: {'classifier': 'SVM', 'C': 0.1759211160578382, 'kernel': 'linear', 'gamma': 'auto'}. Best is trial 44 with value: 0.7877094972067038.\n",
      "[I 2025-06-11 16:53:33,964] Trial 45 finished with value: 0.7560521415270017 and parameters: {'classifier': 'GradientBoosting', 'n_estimators': 97, 'max_depth': 8, 'min_samples_split': 4, 'min_samples_leaf': 7, 'bootstrap': False}. Best is trial 44 with value: 0.7877094972067038.\n",
      "[I 2025-06-11 16:53:33,991] Trial 46 finished with value: 0.7541899441340782 and parameters: {'classifier': 'SVM', 'C': 0.16679609706284218, 'kernel': 'rbf', 'gamma': 'auto'}. Best is trial 44 with value: 0.7877094972067038.\n",
      "[I 2025-06-11 16:53:34,016] Trial 47 finished with value: 0.7839851024208566 and parameters: {'classifier': 'SVM', 'C': 0.36200254414569305, 'kernel': 'linear', 'gamma': 'auto'}. Best is trial 44 with value: 0.7877094972067038.\n",
      "[I 2025-06-11 16:53:34,564] Trial 48 finished with value: 0.756052141527002 and parameters: {'classifier': 'RandomForest', 'n_estimators': 160, 'max_depth': 14, 'min_samples_split': 9, 'min_samples_leaf': 10, 'bootstrap': False}. Best is trial 44 with value: 0.7877094972067038.\n",
      "[I 2025-06-11 16:53:34,593] Trial 49 finished with value: 0.7728119180633147 and parameters: {'classifier': 'SVM', 'C': 0.1798040671415043, 'kernel': 'sigmoid', 'gamma': 'scale'}. Best is trial 44 with value: 0.7877094972067038.\n",
      "[I 2025-06-11 16:53:34,619] Trial 50 finished with value: 0.7839851024208566 and parameters: {'classifier': 'SVM', 'C': 0.9669954159395758, 'kernel': 'linear', 'gamma': 'scale'}. Best is trial 44 with value: 0.7877094972067038.\n",
      "[I 2025-06-11 16:53:34,645] Trial 51 finished with value: 0.7839851024208566 and parameters: {'classifier': 'SVM', 'C': 0.5591267520960319, 'kernel': 'linear', 'gamma': 'auto'}. Best is trial 44 with value: 0.7877094972067038.\n",
      "[I 2025-06-11 16:53:34,668] Trial 52 finished with value: 0.7895716945996275 and parameters: {'classifier': 'SVM', 'C': 0.13774702528130273, 'kernel': 'linear', 'gamma': 'auto'}. Best is trial 52 with value: 0.7895716945996275.\n",
      "[I 2025-06-11 16:53:34,701] Trial 53 finished with value: 0.7746741154562384 and parameters: {'classifier': 'SVM', 'C': 0.13873383538831813, 'kernel': 'sigmoid', 'gamma': 'auto'}. Best is trial 52 with value: 0.7895716945996275.\n",
      "[I 2025-06-11 16:53:34,725] Trial 54 finished with value: 0.7858472998137803 and parameters: {'classifier': 'SVM', 'C': 0.20321047383564672, 'kernel': 'linear', 'gamma': 'scale'}. Best is trial 52 with value: 0.7895716945996275.\n",
      "[I 2025-06-11 16:53:35,529] Trial 55 finished with value: 0.7597765363128492 and parameters: {'classifier': 'RandomForest', 'n_estimators': 232, 'max_depth': 18, 'min_samples_split': 3, 'min_samples_leaf': 1, 'bootstrap': True}. Best is trial 52 with value: 0.7895716945996275.\n",
      "[I 2025-06-11 16:53:36,047] Trial 56 finished with value: 0.750465549348231 and parameters: {'classifier': 'GradientBoosting', 'n_estimators': 50, 'max_depth': 10, 'min_samples_split': 6, 'min_samples_leaf': 4, 'bootstrap': False}. Best is trial 52 with value: 0.7895716945996275.\n",
      "[I 2025-06-11 16:53:36,069] Trial 57 finished with value: 0.707635009310987 and parameters: {'classifier': 'SVM', 'C': 0.10587642056930877, 'kernel': 'poly', 'gamma': 'auto'}. Best is trial 52 with value: 0.7895716945996275.\n",
      "[I 2025-06-11 16:53:36,094] Trial 58 finished with value: 0.7858472998137803 and parameters: {'classifier': 'SVM', 'C': 0.31520370324963454, 'kernel': 'linear', 'gamma': 'auto'}. Best is trial 52 with value: 0.7895716945996275.\n",
      "[I 2025-06-11 16:53:36,119] Trial 59 finished with value: 0.7839851024208566 and parameters: {'classifier': 'SVM', 'C': 1.2315884294782196, 'kernel': 'linear', 'gamma': 'auto'}. Best is trial 52 with value: 0.7895716945996275.\n",
      "[I 2025-06-11 16:53:36,486] Trial 60 finished with value: 0.7635009310986964 and parameters: {'classifier': 'RandomForest', 'n_estimators': 106, 'max_depth': 7, 'min_samples_split': 8, 'min_samples_leaf': 7, 'bootstrap': True}. Best is trial 52 with value: 0.7895716945996275.\n",
      "[I 2025-06-11 16:53:36,511] Trial 61 finished with value: 0.7839851024208566 and parameters: {'classifier': 'SVM', 'C': 0.5974327376006151, 'kernel': 'linear', 'gamma': 'auto'}. Best is trial 52 with value: 0.7895716945996275.\n",
      "[I 2025-06-11 16:53:36,533] Trial 62 finished with value: 0.7858472998137803 and parameters: {'classifier': 'SVM', 'C': 0.24353768943939974, 'kernel': 'linear', 'gamma': 'auto'}. Best is trial 52 with value: 0.7895716945996275.\n",
      "[I 2025-06-11 16:53:36,558] Trial 63 finished with value: 0.7839851024208566 and parameters: {'classifier': 'SVM', 'C': 0.4353395347638366, 'kernel': 'linear', 'gamma': 'auto'}. Best is trial 52 with value: 0.7895716945996275.\n",
      "[I 2025-06-11 16:53:36,582] Trial 64 finished with value: 0.7839851024208566 and parameters: {'classifier': 'SVM', 'C': 1.2012358956874851, 'kernel': 'linear', 'gamma': 'auto'}. Best is trial 52 with value: 0.7895716945996275.\n",
      "[I 2025-06-11 16:53:36,615] Trial 65 finished with value: 0.7728119180633147 and parameters: {'classifier': 'SVM', 'C': 0.1379451724491049, 'kernel': 'sigmoid', 'gamma': 'scale'}. Best is trial 52 with value: 0.7895716945996275.\n",
      "[I 2025-06-11 16:53:36,638] Trial 66 finished with value: 0.7858472998137803 and parameters: {'classifier': 'SVM', 'C': 0.7397464664592274, 'kernel': 'linear', 'gamma': 'auto'}. Best is trial 52 with value: 0.7895716945996275.\n",
      "[I 2025-06-11 16:53:36,667] Trial 67 finished with value: 0.7858472998137801 and parameters: {'classifier': 'SVM', 'C': 1.8567136416940277, 'kernel': 'linear', 'gamma': 'auto'}. Best is trial 52 with value: 0.7895716945996275.\n",
      "[I 2025-06-11 16:53:36,697] Trial 68 finished with value: 0.7858472998137801 and parameters: {'classifier': 'SVM', 'C': 2.957690799070897, 'kernel': 'linear', 'gamma': 'auto'}. Best is trial 52 with value: 0.7895716945996275.\n",
      "[I 2025-06-11 16:53:36,962] Trial 69 finished with value: 0.7858472998137801 and parameters: {'classifier': 'SVM', 'C': 93.44286704551402, 'kernel': 'linear', 'gamma': 'auto'}. Best is trial 52 with value: 0.7895716945996275.\n",
      "[I 2025-06-11 16:53:38,186] Trial 70 finished with value: 0.7243947858472999 and parameters: {'classifier': 'GradientBoosting', 'n_estimators': 170, 'max_depth': 13, 'min_samples_split': 5, 'min_samples_leaf': 9, 'bootstrap': False}. Best is trial 52 with value: 0.7895716945996275.\n",
      "[I 2025-06-11 16:53:38,206] Trial 71 finished with value: 0.7858472998137803 and parameters: {'classifier': 'SVM', 'C': 0.2639328640844491, 'kernel': 'linear', 'gamma': 'auto'}. Best is trial 52 with value: 0.7895716945996275.\n",
      "[I 2025-06-11 16:53:38,228] Trial 72 finished with value: 0.7839851024208566 and parameters: {'classifier': 'SVM', 'C': 0.4031728994683429, 'kernel': 'linear', 'gamma': 'auto'}. Best is trial 52 with value: 0.7895716945996275.\n",
      "[I 2025-06-11 16:53:38,250] Trial 73 finished with value: 0.7858472998137803 and parameters: {'classifier': 'SVM', 'C': 0.3079789761751453, 'kernel': 'linear', 'gamma': 'auto'}. Best is trial 52 with value: 0.7895716945996275.\n",
      "[I 2025-06-11 16:53:38,272] Trial 74 finished with value: 0.7839851024208566 and parameters: {'classifier': 'SVM', 'C': 0.4638182890926072, 'kernel': 'linear', 'gamma': 'auto'}. Best is trial 52 with value: 0.7895716945996275.\n",
      "[I 2025-06-11 16:53:38,299] Trial 75 finished with value: 0.7690875232774674 and parameters: {'classifier': 'SVM', 'C': 0.6197726622455699, 'kernel': 'rbf', 'gamma': 'auto'}. Best is trial 52 with value: 0.7895716945996275.\n",
      "[I 2025-06-11 16:53:38,322] Trial 76 finished with value: 0.7132216014897579 and parameters: {'classifier': 'SVM', 'C': 0.14722090805903315, 'kernel': 'poly', 'gamma': 'auto'}. Best is trial 52 with value: 0.7895716945996275.\n",
      "[I 2025-06-11 16:53:38,346] Trial 77 finished with value: 0.7839851024208566 and parameters: {'classifier': 'SVM', 'C': 1.0819789841618312, 'kernel': 'linear', 'gamma': 'auto'}. Best is trial 52 with value: 0.7895716945996275.\n",
      "[I 2025-06-11 16:53:38,378] Trial 78 finished with value: 0.7839851024208566 and parameters: {'classifier': 'SVM', 'C': 1.5468791786888225, 'kernel': 'linear', 'gamma': 'auto'}. Best is trial 52 with value: 0.7895716945996275.\n",
      "[I 2025-06-11 16:53:39,171] Trial 79 finished with value: 0.7672253258845437 and parameters: {'classifier': 'RandomForest', 'n_estimators': 244, 'max_depth': 10, 'min_samples_split': 3, 'min_samples_leaf': 4, 'bootstrap': True}. Best is trial 52 with value: 0.7895716945996275.\n",
      "[I 2025-06-11 16:53:39,193] Trial 80 finished with value: 0.7858472998137803 and parameters: {'classifier': 'SVM', 'C': 0.20287034827655803, 'kernel': 'linear', 'gamma': 'auto'}. Best is trial 52 with value: 0.7895716945996275.\n",
      "[I 2025-06-11 16:53:39,217] Trial 81 finished with value: 0.7858472998137803 and parameters: {'classifier': 'SVM', 'C': 0.8579304526779619, 'kernel': 'linear', 'gamma': 'auto'}. Best is trial 52 with value: 0.7895716945996275.\n",
      "[I 2025-06-11 16:53:39,240] Trial 82 finished with value: 0.7858472998137803 and parameters: {'classifier': 'SVM', 'C': 0.6414722834936537, 'kernel': 'linear', 'gamma': 'auto'}. Best is trial 52 with value: 0.7895716945996275.\n",
      "[I 2025-06-11 16:53:39,264] Trial 83 finished with value: 0.7839851024208566 and parameters: {'classifier': 'SVM', 'C': 0.9365852534176136, 'kernel': 'linear', 'gamma': 'auto'}. Best is trial 52 with value: 0.7895716945996275.\n",
      "[I 2025-06-11 16:53:39,290] Trial 84 finished with value: 0.7839851024208566 and parameters: {'classifier': 'SVM', 'C': 0.4819512701987453, 'kernel': 'linear', 'gamma': 'auto'}. Best is trial 52 with value: 0.7895716945996275.\n",
      "[I 2025-06-11 16:53:39,314] Trial 85 finished with value: 0.7858472998137803 and parameters: {'classifier': 'SVM', 'C': 0.6965742564169867, 'kernel': 'linear', 'gamma': 'auto'}. Best is trial 52 with value: 0.7895716945996275.\n",
      "[I 2025-06-11 16:53:41,908] Trial 86 finished with value: 0.7355679702048418 and parameters: {'classifier': 'GradientBoosting', 'n_estimators': 200, 'max_depth': 18, 'min_samples_split': 9, 'min_samples_leaf': 2, 'bootstrap': False}. Best is trial 52 with value: 0.7895716945996275.\n",
      "[I 2025-06-11 16:53:41,935] Trial 87 finished with value: 0.7672253258845437 and parameters: {'classifier': 'SVM', 'C': 0.38487319885117016, 'kernel': 'rbf', 'gamma': 'scale'}. Best is trial 52 with value: 0.7895716945996275.\n",
      "[I 2025-06-11 16:53:42,087] Trial 88 finished with value: 0.7858472998137801 and parameters: {'classifier': 'SVM', 'C': 60.42067848690555, 'kernel': 'linear', 'gamma': 'auto'}. Best is trial 52 with value: 0.7895716945996275.\n",
      "[I 2025-06-11 16:53:42,116] Trial 89 finished with value: 0.7709497206703911 and parameters: {'classifier': 'SVM', 'C': 0.12189657852553053, 'kernel': 'sigmoid', 'gamma': 'auto'}. Best is trial 52 with value: 0.7895716945996275.\n",
      "[I 2025-06-11 16:53:42,138] Trial 90 finished with value: 0.7858472998137803 and parameters: {'classifier': 'SVM', 'C': 0.3083107771128754, 'kernel': 'linear', 'gamma': 'auto'}. Best is trial 52 with value: 0.7895716945996275.\n",
      "[I 2025-06-11 16:53:42,162] Trial 91 finished with value: 0.7858472998137803 and parameters: {'classifier': 'SVM', 'C': 0.8257023769954582, 'kernel': 'linear', 'gamma': 'auto'}. Best is trial 52 with value: 0.7895716945996275.\n",
      "[I 2025-06-11 16:53:42,186] Trial 92 finished with value: 0.7839851024208566 and parameters: {'classifier': 'SVM', 'C': 0.9638500401766813, 'kernel': 'linear', 'gamma': 'auto'}. Best is trial 52 with value: 0.7895716945996275.\n",
      "[I 2025-06-11 16:53:42,212] Trial 93 finished with value: 0.7839851024208566 and parameters: {'classifier': 'SVM', 'C': 1.42547350652985, 'kernel': 'linear', 'gamma': 'auto'}. Best is trial 52 with value: 0.7895716945996275.\n",
      "[I 2025-06-11 16:53:42,237] Trial 94 finished with value: 0.7430167597765364 and parameters: {'classifier': 'SVM', 'C': 0.5035686875433898, 'kernel': 'poly', 'gamma': 'auto'}. Best is trial 52 with value: 0.7895716945996275.\n",
      "[I 2025-06-11 16:53:42,262] Trial 95 finished with value: 0.7877094972067038 and parameters: {'classifier': 'SVM', 'C': 0.17859254909195166, 'kernel': 'linear', 'gamma': 'auto'}. Best is trial 52 with value: 0.7895716945996275.\n",
      "[I 2025-06-11 16:53:43,094] Trial 96 finished with value: 0.7635009310986964 and parameters: {'classifier': 'RandomForest', 'n_estimators': 276, 'max_depth': 3, 'min_samples_split': 6, 'min_samples_leaf': 8, 'bootstrap': True}. Best is trial 52 with value: 0.7895716945996275.\n",
      "[I 2025-06-11 16:53:43,115] Trial 97 finished with value: 0.7877094972067038 and parameters: {'classifier': 'SVM', 'C': 0.1761492093192686, 'kernel': 'linear', 'gamma': 'auto'}. Best is trial 52 with value: 0.7895716945996275.\n",
      "[I 2025-06-11 16:53:43,135] Trial 98 finished with value: 0.7858472998137803 and parameters: {'classifier': 'SVM', 'C': 0.2058760102814429, 'kernel': 'linear', 'gamma': 'auto'}. Best is trial 52 with value: 0.7895716945996275.\n",
      "[I 2025-06-11 16:53:43,156] Trial 99 finished with value: 0.7877094972067038 and parameters: {'classifier': 'SVM', 'C': 0.10781112761858469, 'kernel': 'linear', 'gamma': 'scale'}. Best is trial 52 with value: 0.7895716945996275.\n"
     ]
    }
   ],
   "source": [
    "#Create a study and optimize it using CmaEsSampler\n",
    "study=optuna.create_study(direction='maximize')\n",
    "study.optimize(objective,n_trials=100)"
   ]
  },
  {
   "cell_type": "code",
   "execution_count": 25,
   "id": "c425e3ea",
   "metadata": {},
   "outputs": [
    {
     "name": "stdout",
     "output_type": "stream",
     "text": [
      "Best trial accuracy:0.7895716945996275\n",
      "Best hyperparameter:{'classifier': 'SVM', 'C': 0.13774702528130273, 'kernel': 'linear', 'gamma': 'auto'}\n"
     ]
    }
   ],
   "source": [
    "#Print Best Result\n",
    "print(f'Best trial accuracy:{study.best_trial.value}')\n",
    "print(f'Best hyperparameter:{study.best_trial.params}')"
   ]
  },
  {
   "cell_type": "code",
   "execution_count": 26,
   "id": "d4e9a1a9",
   "metadata": {},
   "outputs": [
    {
     "data": {
      "text/html": [
       "<div>\n",
       "<style scoped>\n",
       "    .dataframe tbody tr th:only-of-type {\n",
       "        vertical-align: middle;\n",
       "    }\n",
       "\n",
       "    .dataframe tbody tr th {\n",
       "        vertical-align: top;\n",
       "    }\n",
       "\n",
       "    .dataframe thead th {\n",
       "        text-align: right;\n",
       "    }\n",
       "</style>\n",
       "<table border=\"1\" class=\"dataframe\">\n",
       "  <thead>\n",
       "    <tr style=\"text-align: right;\">\n",
       "      <th></th>\n",
       "      <th>number</th>\n",
       "      <th>value</th>\n",
       "      <th>datetime_start</th>\n",
       "      <th>datetime_complete</th>\n",
       "      <th>duration</th>\n",
       "      <th>params_C</th>\n",
       "      <th>params_bootstrap</th>\n",
       "      <th>params_classifier</th>\n",
       "      <th>params_gamma</th>\n",
       "      <th>params_kernel</th>\n",
       "      <th>params_max_depth</th>\n",
       "      <th>params_min_samples_leaf</th>\n",
       "      <th>params_min_samples_split</th>\n",
       "      <th>params_n_estimators</th>\n",
       "      <th>state</th>\n",
       "    </tr>\n",
       "  </thead>\n",
       "  <tbody>\n",
       "    <tr>\n",
       "      <th>0</th>\n",
       "      <td>0</td>\n",
       "      <td>0.746741</td>\n",
       "      <td>2025-06-11 16:53:21.375747</td>\n",
       "      <td>2025-06-11 16:53:21.399669</td>\n",
       "      <td>0 days 00:00:00.023922</td>\n",
       "      <td>8.293477</td>\n",
       "      <td>NaN</td>\n",
       "      <td>SVM</td>\n",
       "      <td>auto</td>\n",
       "      <td>rbf</td>\n",
       "      <td>NaN</td>\n",
       "      <td>NaN</td>\n",
       "      <td>NaN</td>\n",
       "      <td>NaN</td>\n",
       "      <td>COMPLETE</td>\n",
       "    </tr>\n",
       "    <tr>\n",
       "      <th>1</th>\n",
       "      <td>1</td>\n",
       "      <td>0.754190</td>\n",
       "      <td>2025-06-11 16:53:21.400419</td>\n",
       "      <td>2025-06-11 16:53:21.719557</td>\n",
       "      <td>0 days 00:00:00.319138</td>\n",
       "      <td>NaN</td>\n",
       "      <td>True</td>\n",
       "      <td>GradientBoosting</td>\n",
       "      <td>NaN</td>\n",
       "      <td>NaN</td>\n",
       "      <td>4.0</td>\n",
       "      <td>2.0</td>\n",
       "      <td>2.0</td>\n",
       "      <td>68.0</td>\n",
       "      <td>COMPLETE</td>\n",
       "    </tr>\n",
       "    <tr>\n",
       "      <th>2</th>\n",
       "      <td>2</td>\n",
       "      <td>0.770950</td>\n",
       "      <td>2025-06-11 16:53:21.720768</td>\n",
       "      <td>2025-06-11 16:53:22.583754</td>\n",
       "      <td>0 days 00:00:00.862986</td>\n",
       "      <td>NaN</td>\n",
       "      <td>True</td>\n",
       "      <td>RandomForest</td>\n",
       "      <td>NaN</td>\n",
       "      <td>NaN</td>\n",
       "      <td>16.0</td>\n",
       "      <td>3.0</td>\n",
       "      <td>7.0</td>\n",
       "      <td>262.0</td>\n",
       "      <td>COMPLETE</td>\n",
       "    </tr>\n",
       "    <tr>\n",
       "      <th>3</th>\n",
       "      <td>3</td>\n",
       "      <td>0.735568</td>\n",
       "      <td>2025-06-11 16:53:22.584531</td>\n",
       "      <td>2025-06-11 16:53:24.223205</td>\n",
       "      <td>0 days 00:00:01.638674</td>\n",
       "      <td>NaN</td>\n",
       "      <td>True</td>\n",
       "      <td>GradientBoosting</td>\n",
       "      <td>NaN</td>\n",
       "      <td>NaN</td>\n",
       "      <td>16.0</td>\n",
       "      <td>8.0</td>\n",
       "      <td>5.0</td>\n",
       "      <td>193.0</td>\n",
       "      <td>COMPLETE</td>\n",
       "    </tr>\n",
       "    <tr>\n",
       "      <th>4</th>\n",
       "      <td>4</td>\n",
       "      <td>0.765363</td>\n",
       "      <td>2025-06-11 16:53:24.224273</td>\n",
       "      <td>2025-06-11 16:53:24.966293</td>\n",
       "      <td>0 days 00:00:00.742020</td>\n",
       "      <td>NaN</td>\n",
       "      <td>True</td>\n",
       "      <td>RandomForest</td>\n",
       "      <td>NaN</td>\n",
       "      <td>NaN</td>\n",
       "      <td>15.0</td>\n",
       "      <td>3.0</td>\n",
       "      <td>3.0</td>\n",
       "      <td>225.0</td>\n",
       "      <td>COMPLETE</td>\n",
       "    </tr>\n",
       "    <tr>\n",
       "      <th>...</th>\n",
       "      <td>...</td>\n",
       "      <td>...</td>\n",
       "      <td>...</td>\n",
       "      <td>...</td>\n",
       "      <td>...</td>\n",
       "      <td>...</td>\n",
       "      <td>...</td>\n",
       "      <td>...</td>\n",
       "      <td>...</td>\n",
       "      <td>...</td>\n",
       "      <td>...</td>\n",
       "      <td>...</td>\n",
       "      <td>...</td>\n",
       "      <td>...</td>\n",
       "      <td>...</td>\n",
       "    </tr>\n",
       "    <tr>\n",
       "      <th>95</th>\n",
       "      <td>95</td>\n",
       "      <td>0.787709</td>\n",
       "      <td>2025-06-11 16:53:42.237837</td>\n",
       "      <td>2025-06-11 16:53:42.261908</td>\n",
       "      <td>0 days 00:00:00.024071</td>\n",
       "      <td>0.178593</td>\n",
       "      <td>NaN</td>\n",
       "      <td>SVM</td>\n",
       "      <td>auto</td>\n",
       "      <td>linear</td>\n",
       "      <td>NaN</td>\n",
       "      <td>NaN</td>\n",
       "      <td>NaN</td>\n",
       "      <td>NaN</td>\n",
       "      <td>COMPLETE</td>\n",
       "    </tr>\n",
       "    <tr>\n",
       "      <th>96</th>\n",
       "      <td>96</td>\n",
       "      <td>0.763501</td>\n",
       "      <td>2025-06-11 16:53:42.266828</td>\n",
       "      <td>2025-06-11 16:53:43.094434</td>\n",
       "      <td>0 days 00:00:00.827606</td>\n",
       "      <td>NaN</td>\n",
       "      <td>True</td>\n",
       "      <td>RandomForest</td>\n",
       "      <td>NaN</td>\n",
       "      <td>NaN</td>\n",
       "      <td>3.0</td>\n",
       "      <td>8.0</td>\n",
       "      <td>6.0</td>\n",
       "      <td>276.0</td>\n",
       "      <td>COMPLETE</td>\n",
       "    </tr>\n",
       "    <tr>\n",
       "      <th>97</th>\n",
       "      <td>97</td>\n",
       "      <td>0.787709</td>\n",
       "      <td>2025-06-11 16:53:43.095716</td>\n",
       "      <td>2025-06-11 16:53:43.114918</td>\n",
       "      <td>0 days 00:00:00.019202</td>\n",
       "      <td>0.176149</td>\n",
       "      <td>NaN</td>\n",
       "      <td>SVM</td>\n",
       "      <td>auto</td>\n",
       "      <td>linear</td>\n",
       "      <td>NaN</td>\n",
       "      <td>NaN</td>\n",
       "      <td>NaN</td>\n",
       "      <td>NaN</td>\n",
       "      <td>COMPLETE</td>\n",
       "    </tr>\n",
       "    <tr>\n",
       "      <th>98</th>\n",
       "      <td>98</td>\n",
       "      <td>0.785847</td>\n",
       "      <td>2025-06-11 16:53:43.115855</td>\n",
       "      <td>2025-06-11 16:53:43.135451</td>\n",
       "      <td>0 days 00:00:00.019596</td>\n",
       "      <td>0.205876</td>\n",
       "      <td>NaN</td>\n",
       "      <td>SVM</td>\n",
       "      <td>auto</td>\n",
       "      <td>linear</td>\n",
       "      <td>NaN</td>\n",
       "      <td>NaN</td>\n",
       "      <td>NaN</td>\n",
       "      <td>NaN</td>\n",
       "      <td>COMPLETE</td>\n",
       "    </tr>\n",
       "    <tr>\n",
       "      <th>99</th>\n",
       "      <td>99</td>\n",
       "      <td>0.787709</td>\n",
       "      <td>2025-06-11 16:53:43.136444</td>\n",
       "      <td>2025-06-11 16:53:43.155951</td>\n",
       "      <td>0 days 00:00:00.019507</td>\n",
       "      <td>0.107811</td>\n",
       "      <td>NaN</td>\n",
       "      <td>SVM</td>\n",
       "      <td>scale</td>\n",
       "      <td>linear</td>\n",
       "      <td>NaN</td>\n",
       "      <td>NaN</td>\n",
       "      <td>NaN</td>\n",
       "      <td>NaN</td>\n",
       "      <td>COMPLETE</td>\n",
       "    </tr>\n",
       "  </tbody>\n",
       "</table>\n",
       "<p>100 rows × 15 columns</p>\n",
       "</div>"
      ],
      "text/plain": [
       "    number     value             datetime_start          datetime_complete  \\\n",
       "0        0  0.746741 2025-06-11 16:53:21.375747 2025-06-11 16:53:21.399669   \n",
       "1        1  0.754190 2025-06-11 16:53:21.400419 2025-06-11 16:53:21.719557   \n",
       "2        2  0.770950 2025-06-11 16:53:21.720768 2025-06-11 16:53:22.583754   \n",
       "3        3  0.735568 2025-06-11 16:53:22.584531 2025-06-11 16:53:24.223205   \n",
       "4        4  0.765363 2025-06-11 16:53:24.224273 2025-06-11 16:53:24.966293   \n",
       "..     ...       ...                        ...                        ...   \n",
       "95      95  0.787709 2025-06-11 16:53:42.237837 2025-06-11 16:53:42.261908   \n",
       "96      96  0.763501 2025-06-11 16:53:42.266828 2025-06-11 16:53:43.094434   \n",
       "97      97  0.787709 2025-06-11 16:53:43.095716 2025-06-11 16:53:43.114918   \n",
       "98      98  0.785847 2025-06-11 16:53:43.115855 2025-06-11 16:53:43.135451   \n",
       "99      99  0.787709 2025-06-11 16:53:43.136444 2025-06-11 16:53:43.155951   \n",
       "\n",
       "                 duration  params_C params_bootstrap params_classifier  \\\n",
       "0  0 days 00:00:00.023922  8.293477              NaN               SVM   \n",
       "1  0 days 00:00:00.319138       NaN             True  GradientBoosting   \n",
       "2  0 days 00:00:00.862986       NaN             True      RandomForest   \n",
       "3  0 days 00:00:01.638674       NaN             True  GradientBoosting   \n",
       "4  0 days 00:00:00.742020       NaN             True      RandomForest   \n",
       "..                    ...       ...              ...               ...   \n",
       "95 0 days 00:00:00.024071  0.178593              NaN               SVM   \n",
       "96 0 days 00:00:00.827606       NaN             True      RandomForest   \n",
       "97 0 days 00:00:00.019202  0.176149              NaN               SVM   \n",
       "98 0 days 00:00:00.019596  0.205876              NaN               SVM   \n",
       "99 0 days 00:00:00.019507  0.107811              NaN               SVM   \n",
       "\n",
       "   params_gamma params_kernel  params_max_depth  params_min_samples_leaf  \\\n",
       "0          auto           rbf               NaN                      NaN   \n",
       "1           NaN           NaN               4.0                      2.0   \n",
       "2           NaN           NaN              16.0                      3.0   \n",
       "3           NaN           NaN              16.0                      8.0   \n",
       "4           NaN           NaN              15.0                      3.0   \n",
       "..          ...           ...               ...                      ...   \n",
       "95         auto        linear               NaN                      NaN   \n",
       "96          NaN           NaN               3.0                      8.0   \n",
       "97         auto        linear               NaN                      NaN   \n",
       "98         auto        linear               NaN                      NaN   \n",
       "99        scale        linear               NaN                      NaN   \n",
       "\n",
       "    params_min_samples_split  params_n_estimators     state  \n",
       "0                        NaN                  NaN  COMPLETE  \n",
       "1                        2.0                 68.0  COMPLETE  \n",
       "2                        7.0                262.0  COMPLETE  \n",
       "3                        5.0                193.0  COMPLETE  \n",
       "4                        3.0                225.0  COMPLETE  \n",
       "..                       ...                  ...       ...  \n",
       "95                       NaN                  NaN  COMPLETE  \n",
       "96                       6.0                276.0  COMPLETE  \n",
       "97                       NaN                  NaN  COMPLETE  \n",
       "98                       NaN                  NaN  COMPLETE  \n",
       "99                       NaN                  NaN  COMPLETE  \n",
       "\n",
       "[100 rows x 15 columns]"
      ]
     },
     "execution_count": 26,
     "metadata": {},
     "output_type": "execute_result"
    }
   ],
   "source": [
    "#Print the study in a dataframe\n",
    "study.trials_dataframe()"
   ]
  },
  {
   "cell_type": "code",
   "execution_count": 28,
   "id": "c7c2fddd",
   "metadata": {},
   "outputs": [
    {
     "data": {
      "text/plain": [
       "params_classifier\n",
       "SVM                 77\n",
       "RandomForest        12\n",
       "GradientBoosting    11\n",
       "Name: count, dtype: int64"
      ]
     },
     "execution_count": 28,
     "metadata": {},
     "output_type": "execute_result"
    }
   ],
   "source": [
    "study.trials_dataframe()['params_classifier'].value_counts()"
   ]
  },
  {
   "cell_type": "code",
   "execution_count": null,
   "id": "a3d4ae2f",
   "metadata": {},
   "outputs": [],
   "source": []
  }
 ],
 "metadata": {
  "kernelspec": {
   "display_name": "sandman_venv",
   "language": "python",
   "name": "python3"
  },
  "language_info": {
   "codemirror_mode": {
    "name": "ipython",
    "version": 3
   },
   "file_extension": ".py",
   "mimetype": "text/x-python",
   "name": "python",
   "nbconvert_exporter": "python",
   "pygments_lexer": "ipython3",
   "version": "3.10.12"
  }
 },
 "nbformat": 4,
 "nbformat_minor": 5
}
